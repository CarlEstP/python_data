{
 "cells": [
  {
   "cell_type": "code",
   "execution_count": 193,
   "metadata": {},
   "outputs": [],
   "source": [
    "# EJERCICIO 2 - PRIMERAS CONSULTAS"
   ]
  },
  {
   "cell_type": "code",
   "execution_count": 194,
   "metadata": {},
   "outputs": [],
   "source": [
    "import psycopg2\n",
    "import pandas as pd\n",
    "import numpy as np\n",
    "from datetime import datetime\n",
    "\n",
    "import matplotlib.pyplot as plt\n",
    "import seaborn as sns\n",
    "import plotly.express as px\n",
    "\n",
    "import warnings\n",
    "warnings.filterwarnings('ignore')\n"
   ]
  },
  {
   "cell_type": "code",
   "execution_count": 195,
   "metadata": {},
   "outputs": [],
   "source": [
    "conn = psycopg2.connect(host = \"localhost\", \n",
    "                        database = \"northwind\",\n",
    "                        user = \"postgres\", \n",
    "                        password = \"1234\")"
   ]
  },
  {
   "cell_type": "code",
   "execution_count": 236,
   "metadata": {},
   "outputs": [],
   "source": [
    "# Función general de ejecución de consultas\n",
    "\n",
    "def ejecutar_query (query):\n",
    "  cursor = conn.cursor() # Creamos una variable con la que iniciamos el cursor\n",
    "  cursor.execute(query) # Ejecutamos la query\n",
    "  rows = cursor.fetchall() # Creamos una variable con el restultado de la query en forma de lista de tuplas\n",
    "\n",
    "  if (len(rows) >0):\n",
    "    tabla = pd.DataFrame(rows)# Genereamos un DataFrame a partir de la variable anterior\n",
    "    colnames = [desc[0] for desc in cursor.description] # Recuperamos los nombres de las columnas de la BBDD\n",
    "    tabla = tabla.set_axis(colnames, axis = 1)# Renombramos las columnas del DF creado para que coincidan con las de la BBDD\n",
    "    return tabla\n",
    "  else:\n",
    "    return \"Sin resultados\""
   ]
  },
  {
   "cell_type": "code",
   "execution_count": 197,
   "metadata": {},
   "outputs": [
    {
     "data": {
      "text/html": [
       "<div>\n",
       "<style scoped>\n",
       "    .dataframe tbody tr th:only-of-type {\n",
       "        vertical-align: middle;\n",
       "    }\n",
       "\n",
       "    .dataframe tbody tr th {\n",
       "        vertical-align: top;\n",
       "    }\n",
       "\n",
       "    .dataframe thead th {\n",
       "        text-align: right;\n",
       "    }\n",
       "</style>\n",
       "<table border=\"1\" class=\"dataframe\">\n",
       "  <thead>\n",
       "    <tr style=\"text-align: right;\">\n",
       "      <th></th>\n",
       "      <th>employee_id</th>\n",
       "      <th>first_name</th>\n",
       "      <th>last_name</th>\n",
       "      <th>city</th>\n",
       "      <th>country</th>\n",
       "    </tr>\n",
       "  </thead>\n",
       "  <tbody>\n",
       "    <tr>\n",
       "      <th>0</th>\n",
       "      <td>1</td>\n",
       "      <td>Nancy</td>\n",
       "      <td>Davolio</td>\n",
       "      <td>Seattle</td>\n",
       "      <td>USA</td>\n",
       "    </tr>\n",
       "    <tr>\n",
       "      <th>1</th>\n",
       "      <td>2</td>\n",
       "      <td>Andrew</td>\n",
       "      <td>Fuller</td>\n",
       "      <td>Tacoma</td>\n",
       "      <td>USA</td>\n",
       "    </tr>\n",
       "    <tr>\n",
       "      <th>2</th>\n",
       "      <td>3</td>\n",
       "      <td>Janet</td>\n",
       "      <td>Leverling</td>\n",
       "      <td>Kirkland</td>\n",
       "      <td>USA</td>\n",
       "    </tr>\n",
       "    <tr>\n",
       "      <th>3</th>\n",
       "      <td>4</td>\n",
       "      <td>Margaret</td>\n",
       "      <td>Peacock</td>\n",
       "      <td>Redmond</td>\n",
       "      <td>USA</td>\n",
       "    </tr>\n",
       "    <tr>\n",
       "      <th>4</th>\n",
       "      <td>5</td>\n",
       "      <td>Steven</td>\n",
       "      <td>Buchanan</td>\n",
       "      <td>London</td>\n",
       "      <td>UK</td>\n",
       "    </tr>\n",
       "    <tr>\n",
       "      <th>5</th>\n",
       "      <td>6</td>\n",
       "      <td>Michael</td>\n",
       "      <td>Suyama</td>\n",
       "      <td>London</td>\n",
       "      <td>UK</td>\n",
       "    </tr>\n",
       "    <tr>\n",
       "      <th>6</th>\n",
       "      <td>7</td>\n",
       "      <td>Robert</td>\n",
       "      <td>King</td>\n",
       "      <td>London</td>\n",
       "      <td>UK</td>\n",
       "    </tr>\n",
       "    <tr>\n",
       "      <th>7</th>\n",
       "      <td>8</td>\n",
       "      <td>Laura</td>\n",
       "      <td>Callahan</td>\n",
       "      <td>Seattle</td>\n",
       "      <td>USA</td>\n",
       "    </tr>\n",
       "    <tr>\n",
       "      <th>8</th>\n",
       "      <td>9</td>\n",
       "      <td>Anne</td>\n",
       "      <td>Dodsworth</td>\n",
       "      <td>London</td>\n",
       "      <td>UK</td>\n",
       "    </tr>\n",
       "  </tbody>\n",
       "</table>\n",
       "</div>"
      ],
      "text/plain": [
       "   employee_id first_name  last_name      city country\n",
       "0            1      Nancy    Davolio   Seattle     USA\n",
       "1            2     Andrew     Fuller    Tacoma     USA\n",
       "2            3      Janet  Leverling  Kirkland     USA\n",
       "3            4   Margaret    Peacock   Redmond     USA\n",
       "4            5     Steven   Buchanan    London      UK\n",
       "5            6    Michael     Suyama    London      UK\n",
       "6            7     Robert       King    London      UK\n",
       "7            8      Laura   Callahan   Seattle     USA\n",
       "8            9       Anne  Dodsworth    London      UK"
      ]
     },
     "execution_count": 197,
     "metadata": {},
     "output_type": "execute_result"
    }
   ],
   "source": [
    "# 1. Qué empleados tenemos?\n",
    "\n",
    "sql_query = ''' SELECT \"employee_id\", \"first_name\", \"last_name\", \"city\", \"country\"\n",
    "FROM    \"employees\" '''\n",
    "\n",
    "ejecutar_query(sql_query)"
   ]
  },
  {
   "cell_type": "code",
   "execution_count": 198,
   "metadata": {},
   "outputs": [
    {
     "data": {
      "text/html": [
       "<div>\n",
       "<style scoped>\n",
       "    .dataframe tbody tr th:only-of-type {\n",
       "        vertical-align: middle;\n",
       "    }\n",
       "\n",
       "    .dataframe tbody tr th {\n",
       "        vertical-align: top;\n",
       "    }\n",
       "\n",
       "    .dataframe thead th {\n",
       "        text-align: right;\n",
       "    }\n",
       "</style>\n",
       "<table border=\"1\" class=\"dataframe\">\n",
       "  <thead>\n",
       "    <tr style=\"text-align: right;\">\n",
       "      <th></th>\n",
       "      <th>product_id</th>\n",
       "      <th>supplier_id</th>\n",
       "      <th>product_name</th>\n",
       "      <th>unit_price</th>\n",
       "      <th>units_in_stock</th>\n",
       "      <th>units_on_order</th>\n",
       "      <th>discontinued</th>\n",
       "    </tr>\n",
       "  </thead>\n",
       "  <tbody>\n",
       "    <tr>\n",
       "      <th>0</th>\n",
       "      <td>1</td>\n",
       "      <td>8</td>\n",
       "      <td>Chai</td>\n",
       "      <td>18.00</td>\n",
       "      <td>39</td>\n",
       "      <td>0</td>\n",
       "      <td>1</td>\n",
       "    </tr>\n",
       "    <tr>\n",
       "      <th>1</th>\n",
       "      <td>2</td>\n",
       "      <td>1</td>\n",
       "      <td>Chang</td>\n",
       "      <td>19.00</td>\n",
       "      <td>17</td>\n",
       "      <td>40</td>\n",
       "      <td>1</td>\n",
       "    </tr>\n",
       "    <tr>\n",
       "      <th>2</th>\n",
       "      <td>3</td>\n",
       "      <td>1</td>\n",
       "      <td>Aniseed Syrup</td>\n",
       "      <td>10.00</td>\n",
       "      <td>13</td>\n",
       "      <td>70</td>\n",
       "      <td>0</td>\n",
       "    </tr>\n",
       "    <tr>\n",
       "      <th>3</th>\n",
       "      <td>4</td>\n",
       "      <td>2</td>\n",
       "      <td>Chef Anton's Cajun Seasoning</td>\n",
       "      <td>22.00</td>\n",
       "      <td>53</td>\n",
       "      <td>0</td>\n",
       "      <td>0</td>\n",
       "    </tr>\n",
       "    <tr>\n",
       "      <th>4</th>\n",
       "      <td>5</td>\n",
       "      <td>2</td>\n",
       "      <td>Chef Anton's Gumbo Mix</td>\n",
       "      <td>21.35</td>\n",
       "      <td>0</td>\n",
       "      <td>0</td>\n",
       "      <td>1</td>\n",
       "    </tr>\n",
       "    <tr>\n",
       "      <th>...</th>\n",
       "      <td>...</td>\n",
       "      <td>...</td>\n",
       "      <td>...</td>\n",
       "      <td>...</td>\n",
       "      <td>...</td>\n",
       "      <td>...</td>\n",
       "      <td>...</td>\n",
       "    </tr>\n",
       "    <tr>\n",
       "      <th>72</th>\n",
       "      <td>73</td>\n",
       "      <td>17</td>\n",
       "      <td>Röd Kaviar</td>\n",
       "      <td>15.00</td>\n",
       "      <td>101</td>\n",
       "      <td>0</td>\n",
       "      <td>0</td>\n",
       "    </tr>\n",
       "    <tr>\n",
       "      <th>73</th>\n",
       "      <td>74</td>\n",
       "      <td>4</td>\n",
       "      <td>Longlife Tofu</td>\n",
       "      <td>10.00</td>\n",
       "      <td>4</td>\n",
       "      <td>20</td>\n",
       "      <td>0</td>\n",
       "    </tr>\n",
       "    <tr>\n",
       "      <th>74</th>\n",
       "      <td>75</td>\n",
       "      <td>12</td>\n",
       "      <td>Rhönbräu Klosterbier</td>\n",
       "      <td>7.75</td>\n",
       "      <td>125</td>\n",
       "      <td>0</td>\n",
       "      <td>0</td>\n",
       "    </tr>\n",
       "    <tr>\n",
       "      <th>75</th>\n",
       "      <td>76</td>\n",
       "      <td>23</td>\n",
       "      <td>Lakkalikööri</td>\n",
       "      <td>18.00</td>\n",
       "      <td>57</td>\n",
       "      <td>0</td>\n",
       "      <td>0</td>\n",
       "    </tr>\n",
       "    <tr>\n",
       "      <th>76</th>\n",
       "      <td>77</td>\n",
       "      <td>12</td>\n",
       "      <td>Original Frankfurter grüne Soße</td>\n",
       "      <td>13.00</td>\n",
       "      <td>32</td>\n",
       "      <td>0</td>\n",
       "      <td>0</td>\n",
       "    </tr>\n",
       "  </tbody>\n",
       "</table>\n",
       "<p>77 rows × 7 columns</p>\n",
       "</div>"
      ],
      "text/plain": [
       "    product_id  supplier_id                     product_name  unit_price  \\\n",
       "0            1            8                             Chai       18.00   \n",
       "1            2            1                            Chang       19.00   \n",
       "2            3            1                    Aniseed Syrup       10.00   \n",
       "3            4            2     Chef Anton's Cajun Seasoning       22.00   \n",
       "4            5            2           Chef Anton's Gumbo Mix       21.35   \n",
       "..         ...          ...                              ...         ...   \n",
       "72          73           17                       Röd Kaviar       15.00   \n",
       "73          74            4                    Longlife Tofu       10.00   \n",
       "74          75           12             Rhönbräu Klosterbier        7.75   \n",
       "75          76           23                     Lakkalikööri       18.00   \n",
       "76          77           12  Original Frankfurter grüne Soße       13.00   \n",
       "\n",
       "    units_in_stock  units_on_order  discontinued  \n",
       "0               39               0             1  \n",
       "1               17              40             1  \n",
       "2               13              70             0  \n",
       "3               53               0             0  \n",
       "4                0               0             1  \n",
       "..             ...             ...           ...  \n",
       "72             101               0             0  \n",
       "73               4              20             0  \n",
       "74             125               0             0  \n",
       "75              57               0             0  \n",
       "76              32               0             0  \n",
       "\n",
       "[77 rows x 7 columns]"
      ]
     },
     "execution_count": 198,
     "metadata": {},
     "output_type": "execute_result"
    }
   ],
   "source": [
    "# 2. Qué productos tenemos?\n",
    "\n",
    "sql_query = ''' SELECT \"product_id\", \"supplier_id\", \"product_name\", \"unit_price\", \"units_in_stock\", \"units_on_order\", \"discontinued\"\n",
    "FROM    \"products\" '''\n",
    "\n",
    "ejecutar_query(sql_query)"
   ]
  },
  {
   "cell_type": "code",
   "execution_count": 199,
   "metadata": {},
   "outputs": [
    {
     "data": {
      "text/html": [
       "<div>\n",
       "<style scoped>\n",
       "    .dataframe tbody tr th:only-of-type {\n",
       "        vertical-align: middle;\n",
       "    }\n",
       "\n",
       "    .dataframe tbody tr th {\n",
       "        vertical-align: top;\n",
       "    }\n",
       "\n",
       "    .dataframe thead th {\n",
       "        text-align: right;\n",
       "    }\n",
       "</style>\n",
       "<table border=\"1\" class=\"dataframe\">\n",
       "  <thead>\n",
       "    <tr style=\"text-align: right;\">\n",
       "      <th></th>\n",
       "      <th>product_name</th>\n",
       "      <th>units_in_stock</th>\n",
       "    </tr>\n",
       "  </thead>\n",
       "  <tbody>\n",
       "    <tr>\n",
       "      <th>0</th>\n",
       "      <td>Chai</td>\n",
       "      <td>39</td>\n",
       "    </tr>\n",
       "    <tr>\n",
       "      <th>1</th>\n",
       "      <td>Chang</td>\n",
       "      <td>17</td>\n",
       "    </tr>\n",
       "    <tr>\n",
       "      <th>2</th>\n",
       "      <td>Chef Anton's Gumbo Mix</td>\n",
       "      <td>0</td>\n",
       "    </tr>\n",
       "    <tr>\n",
       "      <th>3</th>\n",
       "      <td>Mishi Kobe Niku</td>\n",
       "      <td>29</td>\n",
       "    </tr>\n",
       "    <tr>\n",
       "      <th>4</th>\n",
       "      <td>Alice Mutton</td>\n",
       "      <td>0</td>\n",
       "    </tr>\n",
       "    <tr>\n",
       "      <th>5</th>\n",
       "      <td>Guaraná Fantástica</td>\n",
       "      <td>20</td>\n",
       "    </tr>\n",
       "    <tr>\n",
       "      <th>6</th>\n",
       "      <td>Rössle Sauerkraut</td>\n",
       "      <td>26</td>\n",
       "    </tr>\n",
       "    <tr>\n",
       "      <th>7</th>\n",
       "      <td>Thüringer Rostbratwurst</td>\n",
       "      <td>0</td>\n",
       "    </tr>\n",
       "    <tr>\n",
       "      <th>8</th>\n",
       "      <td>Singaporean Hokkien Fried Mee</td>\n",
       "      <td>26</td>\n",
       "    </tr>\n",
       "    <tr>\n",
       "      <th>9</th>\n",
       "      <td>Perth Pasties</td>\n",
       "      <td>0</td>\n",
       "    </tr>\n",
       "  </tbody>\n",
       "</table>\n",
       "</div>"
      ],
      "text/plain": [
       "                    product_name  units_in_stock\n",
       "0                           Chai              39\n",
       "1                          Chang              17\n",
       "2         Chef Anton's Gumbo Mix               0\n",
       "3                Mishi Kobe Niku              29\n",
       "4                   Alice Mutton               0\n",
       "5             Guaraná Fantástica              20\n",
       "6              Rössle Sauerkraut              26\n",
       "7        Thüringer Rostbratwurst               0\n",
       "8  Singaporean Hokkien Fried Mee              26\n",
       "9                  Perth Pasties               0"
      ]
     },
     "execution_count": 199,
     "metadata": {},
     "output_type": "execute_result"
    }
   ],
   "source": [
    "# 3. Tenemos productos discontinuados?\n",
    "\n",
    "sql_query = ''' SELECT \"product_name\", \"units_in_stock\"\n",
    "FROM    \"products\" \n",
    "WHERE \"discontinued\" = 1\n",
    "'''\n",
    "\n",
    "ejecutar_query(sql_query)\n"
   ]
  },
  {
   "cell_type": "code",
   "execution_count": 200,
   "metadata": {},
   "outputs": [
    {
     "data": {
      "text/html": [
       "<div>\n",
       "<style scoped>\n",
       "    .dataframe tbody tr th:only-of-type {\n",
       "        vertical-align: middle;\n",
       "    }\n",
       "\n",
       "    .dataframe tbody tr th {\n",
       "        vertical-align: top;\n",
       "    }\n",
       "\n",
       "    .dataframe thead th {\n",
       "        text-align: right;\n",
       "    }\n",
       "</style>\n",
       "<table border=\"1\" class=\"dataframe\">\n",
       "  <thead>\n",
       "    <tr style=\"text-align: right;\">\n",
       "      <th></th>\n",
       "      <th>supplier_id</th>\n",
       "      <th>company_name</th>\n",
       "      <th>city</th>\n",
       "      <th>country</th>\n",
       "    </tr>\n",
       "  </thead>\n",
       "  <tbody>\n",
       "    <tr>\n",
       "      <th>0</th>\n",
       "      <td>1</td>\n",
       "      <td>Exotic Liquids</td>\n",
       "      <td>London</td>\n",
       "      <td>UK</td>\n",
       "    </tr>\n",
       "    <tr>\n",
       "      <th>1</th>\n",
       "      <td>2</td>\n",
       "      <td>New Orleans Cajun Delights</td>\n",
       "      <td>New Orleans</td>\n",
       "      <td>USA</td>\n",
       "    </tr>\n",
       "    <tr>\n",
       "      <th>2</th>\n",
       "      <td>3</td>\n",
       "      <td>Grandma Kelly's Homestead</td>\n",
       "      <td>Ann Arbor</td>\n",
       "      <td>USA</td>\n",
       "    </tr>\n",
       "    <tr>\n",
       "      <th>3</th>\n",
       "      <td>4</td>\n",
       "      <td>Tokyo Traders</td>\n",
       "      <td>Tokyo</td>\n",
       "      <td>Japan</td>\n",
       "    </tr>\n",
       "    <tr>\n",
       "      <th>4</th>\n",
       "      <td>5</td>\n",
       "      <td>Cooperativa de Quesos 'Las Cabras'</td>\n",
       "      <td>Oviedo</td>\n",
       "      <td>Spain</td>\n",
       "    </tr>\n",
       "    <tr>\n",
       "      <th>5</th>\n",
       "      <td>6</td>\n",
       "      <td>Mayumi's</td>\n",
       "      <td>Osaka</td>\n",
       "      <td>Japan</td>\n",
       "    </tr>\n",
       "    <tr>\n",
       "      <th>6</th>\n",
       "      <td>7</td>\n",
       "      <td>Pavlova, Ltd.</td>\n",
       "      <td>Melbourne</td>\n",
       "      <td>Australia</td>\n",
       "    </tr>\n",
       "    <tr>\n",
       "      <th>7</th>\n",
       "      <td>8</td>\n",
       "      <td>Specialty Biscuits, Ltd.</td>\n",
       "      <td>Manchester</td>\n",
       "      <td>UK</td>\n",
       "    </tr>\n",
       "    <tr>\n",
       "      <th>8</th>\n",
       "      <td>9</td>\n",
       "      <td>PB Knäckebröd AB</td>\n",
       "      <td>Göteborg</td>\n",
       "      <td>Sweden</td>\n",
       "    </tr>\n",
       "    <tr>\n",
       "      <th>9</th>\n",
       "      <td>10</td>\n",
       "      <td>Refrescos Americanas LTDA</td>\n",
       "      <td>Sao Paulo</td>\n",
       "      <td>Brazil</td>\n",
       "    </tr>\n",
       "    <tr>\n",
       "      <th>10</th>\n",
       "      <td>11</td>\n",
       "      <td>Heli Süßwaren GmbH &amp; Co. KG</td>\n",
       "      <td>Berlin</td>\n",
       "      <td>Germany</td>\n",
       "    </tr>\n",
       "    <tr>\n",
       "      <th>11</th>\n",
       "      <td>12</td>\n",
       "      <td>Plutzer Lebensmittelgroßmärkte AG</td>\n",
       "      <td>Frankfurt</td>\n",
       "      <td>Germany</td>\n",
       "    </tr>\n",
       "    <tr>\n",
       "      <th>12</th>\n",
       "      <td>13</td>\n",
       "      <td>Nord-Ost-Fisch Handelsgesellschaft mbH</td>\n",
       "      <td>Cuxhaven</td>\n",
       "      <td>Germany</td>\n",
       "    </tr>\n",
       "    <tr>\n",
       "      <th>13</th>\n",
       "      <td>14</td>\n",
       "      <td>Formaggi Fortini s.r.l.</td>\n",
       "      <td>Ravenna</td>\n",
       "      <td>Italy</td>\n",
       "    </tr>\n",
       "    <tr>\n",
       "      <th>14</th>\n",
       "      <td>15</td>\n",
       "      <td>Norske Meierier</td>\n",
       "      <td>Sandvika</td>\n",
       "      <td>Norway</td>\n",
       "    </tr>\n",
       "    <tr>\n",
       "      <th>15</th>\n",
       "      <td>16</td>\n",
       "      <td>Bigfoot Breweries</td>\n",
       "      <td>Bend</td>\n",
       "      <td>USA</td>\n",
       "    </tr>\n",
       "    <tr>\n",
       "      <th>16</th>\n",
       "      <td>17</td>\n",
       "      <td>Svensk Sjöföda AB</td>\n",
       "      <td>Stockholm</td>\n",
       "      <td>Sweden</td>\n",
       "    </tr>\n",
       "    <tr>\n",
       "      <th>17</th>\n",
       "      <td>18</td>\n",
       "      <td>Aux joyeux ecclésiastiques</td>\n",
       "      <td>Paris</td>\n",
       "      <td>France</td>\n",
       "    </tr>\n",
       "    <tr>\n",
       "      <th>18</th>\n",
       "      <td>19</td>\n",
       "      <td>New England Seafood Cannery</td>\n",
       "      <td>Boston</td>\n",
       "      <td>USA</td>\n",
       "    </tr>\n",
       "    <tr>\n",
       "      <th>19</th>\n",
       "      <td>20</td>\n",
       "      <td>Leka Trading</td>\n",
       "      <td>Singapore</td>\n",
       "      <td>Singapore</td>\n",
       "    </tr>\n",
       "    <tr>\n",
       "      <th>20</th>\n",
       "      <td>21</td>\n",
       "      <td>Lyngbysild</td>\n",
       "      <td>Lyngby</td>\n",
       "      <td>Denmark</td>\n",
       "    </tr>\n",
       "    <tr>\n",
       "      <th>21</th>\n",
       "      <td>22</td>\n",
       "      <td>Zaanse Snoepfabriek</td>\n",
       "      <td>Zaandam</td>\n",
       "      <td>Netherlands</td>\n",
       "    </tr>\n",
       "    <tr>\n",
       "      <th>22</th>\n",
       "      <td>23</td>\n",
       "      <td>Karkki Oy</td>\n",
       "      <td>Lappeenranta</td>\n",
       "      <td>Finland</td>\n",
       "    </tr>\n",
       "    <tr>\n",
       "      <th>23</th>\n",
       "      <td>24</td>\n",
       "      <td>G'day, Mate</td>\n",
       "      <td>Sydney</td>\n",
       "      <td>Australia</td>\n",
       "    </tr>\n",
       "    <tr>\n",
       "      <th>24</th>\n",
       "      <td>25</td>\n",
       "      <td>Ma Maison</td>\n",
       "      <td>Montréal</td>\n",
       "      <td>Canada</td>\n",
       "    </tr>\n",
       "    <tr>\n",
       "      <th>25</th>\n",
       "      <td>26</td>\n",
       "      <td>Pasta Buttini s.r.l.</td>\n",
       "      <td>Salerno</td>\n",
       "      <td>Italy</td>\n",
       "    </tr>\n",
       "    <tr>\n",
       "      <th>26</th>\n",
       "      <td>27</td>\n",
       "      <td>Escargots Nouveaux</td>\n",
       "      <td>Montceau</td>\n",
       "      <td>France</td>\n",
       "    </tr>\n",
       "    <tr>\n",
       "      <th>27</th>\n",
       "      <td>28</td>\n",
       "      <td>Gai pâturage</td>\n",
       "      <td>Annecy</td>\n",
       "      <td>France</td>\n",
       "    </tr>\n",
       "    <tr>\n",
       "      <th>28</th>\n",
       "      <td>29</td>\n",
       "      <td>Forêts d'érables</td>\n",
       "      <td>Ste-Hyacinthe</td>\n",
       "      <td>Canada</td>\n",
       "    </tr>\n",
       "  </tbody>\n",
       "</table>\n",
       "</div>"
      ],
      "text/plain": [
       "    supplier_id                            company_name           city  \\\n",
       "0             1                          Exotic Liquids         London   \n",
       "1             2              New Orleans Cajun Delights    New Orleans   \n",
       "2             3               Grandma Kelly's Homestead      Ann Arbor   \n",
       "3             4                           Tokyo Traders          Tokyo   \n",
       "4             5      Cooperativa de Quesos 'Las Cabras'         Oviedo   \n",
       "5             6                                Mayumi's          Osaka   \n",
       "6             7                           Pavlova, Ltd.      Melbourne   \n",
       "7             8                Specialty Biscuits, Ltd.     Manchester   \n",
       "8             9                        PB Knäckebröd AB       Göteborg   \n",
       "9            10               Refrescos Americanas LTDA      Sao Paulo   \n",
       "10           11             Heli Süßwaren GmbH & Co. KG         Berlin   \n",
       "11           12       Plutzer Lebensmittelgroßmärkte AG      Frankfurt   \n",
       "12           13  Nord-Ost-Fisch Handelsgesellschaft mbH       Cuxhaven   \n",
       "13           14                 Formaggi Fortini s.r.l.        Ravenna   \n",
       "14           15                         Norske Meierier       Sandvika   \n",
       "15           16                       Bigfoot Breweries           Bend   \n",
       "16           17                       Svensk Sjöföda AB      Stockholm   \n",
       "17           18              Aux joyeux ecclésiastiques          Paris   \n",
       "18           19             New England Seafood Cannery         Boston   \n",
       "19           20                            Leka Trading      Singapore   \n",
       "20           21                              Lyngbysild         Lyngby   \n",
       "21           22                     Zaanse Snoepfabriek        Zaandam   \n",
       "22           23                               Karkki Oy   Lappeenranta   \n",
       "23           24                             G'day, Mate         Sydney   \n",
       "24           25                               Ma Maison       Montréal   \n",
       "25           26                    Pasta Buttini s.r.l.        Salerno   \n",
       "26           27                      Escargots Nouveaux       Montceau   \n",
       "27           28                            Gai pâturage         Annecy   \n",
       "28           29                        Forêts d'érables  Ste-Hyacinthe   \n",
       "\n",
       "        country  \n",
       "0            UK  \n",
       "1           USA  \n",
       "2           USA  \n",
       "3         Japan  \n",
       "4         Spain  \n",
       "5         Japan  \n",
       "6     Australia  \n",
       "7            UK  \n",
       "8        Sweden  \n",
       "9        Brazil  \n",
       "10      Germany  \n",
       "11      Germany  \n",
       "12      Germany  \n",
       "13        Italy  \n",
       "14       Norway  \n",
       "15          USA  \n",
       "16       Sweden  \n",
       "17       France  \n",
       "18          USA  \n",
       "19    Singapore  \n",
       "20      Denmark  \n",
       "21  Netherlands  \n",
       "22      Finland  \n",
       "23    Australia  \n",
       "24       Canada  \n",
       "25        Italy  \n",
       "26       France  \n",
       "27       France  \n",
       "28       Canada  "
      ]
     },
     "execution_count": 200,
     "metadata": {},
     "output_type": "execute_result"
    }
   ],
   "source": [
    "# 4. Qué proveedores tenemos?\n",
    "\n",
    "sql_query = ''' SELECT \"supplier_id\", \"company_name\", \"city\", \"country\" \n",
    "FROM suppliers '''\n",
    "\n",
    "ejecutar_query(sql_query)"
   ]
  },
  {
   "cell_type": "code",
   "execution_count": 201,
   "metadata": {},
   "outputs": [
    {
     "data": {
      "text/html": [
       "<div>\n",
       "<style scoped>\n",
       "    .dataframe tbody tr th:only-of-type {\n",
       "        vertical-align: middle;\n",
       "    }\n",
       "\n",
       "    .dataframe tbody tr th {\n",
       "        vertical-align: top;\n",
       "    }\n",
       "\n",
       "    .dataframe thead th {\n",
       "        text-align: right;\n",
       "    }\n",
       "</style>\n",
       "<table border=\"1\" class=\"dataframe\">\n",
       "  <thead>\n",
       "    <tr style=\"text-align: right;\">\n",
       "      <th></th>\n",
       "      <th>order_id</th>\n",
       "      <th>customer_id</th>\n",
       "      <th>employee_id</th>\n",
       "      <th>order_date</th>\n",
       "      <th>required_date</th>\n",
       "      <th>shipped_date</th>\n",
       "    </tr>\n",
       "  </thead>\n",
       "  <tbody>\n",
       "    <tr>\n",
       "      <th>0</th>\n",
       "      <td>10248</td>\n",
       "      <td>VINET</td>\n",
       "      <td>5</td>\n",
       "      <td>1996-07-04</td>\n",
       "      <td>1996-08-01</td>\n",
       "      <td>1996-07-16</td>\n",
       "    </tr>\n",
       "    <tr>\n",
       "      <th>1</th>\n",
       "      <td>10249</td>\n",
       "      <td>TOMSP</td>\n",
       "      <td>6</td>\n",
       "      <td>1996-07-05</td>\n",
       "      <td>1996-08-16</td>\n",
       "      <td>1996-07-10</td>\n",
       "    </tr>\n",
       "    <tr>\n",
       "      <th>2</th>\n",
       "      <td>10250</td>\n",
       "      <td>HANAR</td>\n",
       "      <td>4</td>\n",
       "      <td>1996-07-08</td>\n",
       "      <td>1996-08-05</td>\n",
       "      <td>1996-07-12</td>\n",
       "    </tr>\n",
       "    <tr>\n",
       "      <th>3</th>\n",
       "      <td>10251</td>\n",
       "      <td>VICTE</td>\n",
       "      <td>3</td>\n",
       "      <td>1996-07-08</td>\n",
       "      <td>1996-08-05</td>\n",
       "      <td>1996-07-15</td>\n",
       "    </tr>\n",
       "    <tr>\n",
       "      <th>4</th>\n",
       "      <td>10252</td>\n",
       "      <td>SUPRD</td>\n",
       "      <td>4</td>\n",
       "      <td>1996-07-09</td>\n",
       "      <td>1996-08-06</td>\n",
       "      <td>1996-07-11</td>\n",
       "    </tr>\n",
       "    <tr>\n",
       "      <th>...</th>\n",
       "      <td>...</td>\n",
       "      <td>...</td>\n",
       "      <td>...</td>\n",
       "      <td>...</td>\n",
       "      <td>...</td>\n",
       "      <td>...</td>\n",
       "    </tr>\n",
       "    <tr>\n",
       "      <th>825</th>\n",
       "      <td>11073</td>\n",
       "      <td>PERIC</td>\n",
       "      <td>2</td>\n",
       "      <td>1998-05-05</td>\n",
       "      <td>1998-06-02</td>\n",
       "      <td>None</td>\n",
       "    </tr>\n",
       "    <tr>\n",
       "      <th>826</th>\n",
       "      <td>11074</td>\n",
       "      <td>SIMOB</td>\n",
       "      <td>7</td>\n",
       "      <td>1998-05-06</td>\n",
       "      <td>1998-06-03</td>\n",
       "      <td>None</td>\n",
       "    </tr>\n",
       "    <tr>\n",
       "      <th>827</th>\n",
       "      <td>11075</td>\n",
       "      <td>RICSU</td>\n",
       "      <td>8</td>\n",
       "      <td>1998-05-06</td>\n",
       "      <td>1998-06-03</td>\n",
       "      <td>None</td>\n",
       "    </tr>\n",
       "    <tr>\n",
       "      <th>828</th>\n",
       "      <td>11076</td>\n",
       "      <td>BONAP</td>\n",
       "      <td>4</td>\n",
       "      <td>1998-05-06</td>\n",
       "      <td>1998-06-03</td>\n",
       "      <td>None</td>\n",
       "    </tr>\n",
       "    <tr>\n",
       "      <th>829</th>\n",
       "      <td>11077</td>\n",
       "      <td>RATTC</td>\n",
       "      <td>1</td>\n",
       "      <td>1998-05-06</td>\n",
       "      <td>1998-06-03</td>\n",
       "      <td>None</td>\n",
       "    </tr>\n",
       "  </tbody>\n",
       "</table>\n",
       "<p>830 rows × 6 columns</p>\n",
       "</div>"
      ],
      "text/plain": [
       "     order_id customer_id  employee_id  order_date required_date shipped_date\n",
       "0       10248       VINET            5  1996-07-04    1996-08-01   1996-07-16\n",
       "1       10249       TOMSP            6  1996-07-05    1996-08-16   1996-07-10\n",
       "2       10250       HANAR            4  1996-07-08    1996-08-05   1996-07-12\n",
       "3       10251       VICTE            3  1996-07-08    1996-08-05   1996-07-15\n",
       "4       10252       SUPRD            4  1996-07-09    1996-08-06   1996-07-11\n",
       "..        ...         ...          ...         ...           ...          ...\n",
       "825     11073       PERIC            2  1998-05-05    1998-06-02         None\n",
       "826     11074       SIMOB            7  1998-05-06    1998-06-03         None\n",
       "827     11075       RICSU            8  1998-05-06    1998-06-03         None\n",
       "828     11076       BONAP            4  1998-05-06    1998-06-03         None\n",
       "829     11077       RATTC            1  1998-05-06    1998-06-03         None\n",
       "\n",
       "[830 rows x 6 columns]"
      ]
     },
     "execution_count": 201,
     "metadata": {},
     "output_type": "execute_result"
    }
   ],
   "source": [
    "# 5. Qué pedidos hemos tenido?\n",
    "\n",
    "sql_query = ''' SELECT \"order_id\", \"customer_id\", \"employee_id\", \"order_date\", \"required_date\", \"shipped_date\"\n",
    "FROM orders\n",
    " '''\n",
    "\n",
    "ejecutar_query(sql_query)"
   ]
  },
  {
   "cell_type": "code",
   "execution_count": 202,
   "metadata": {},
   "outputs": [
    {
     "data": {
      "text/html": [
       "<div>\n",
       "<style scoped>\n",
       "    .dataframe tbody tr th:only-of-type {\n",
       "        vertical-align: middle;\n",
       "    }\n",
       "\n",
       "    .dataframe tbody tr th {\n",
       "        vertical-align: top;\n",
       "    }\n",
       "\n",
       "    .dataframe thead th {\n",
       "        text-align: right;\n",
       "    }\n",
       "</style>\n",
       "<table border=\"1\" class=\"dataframe\">\n",
       "  <thead>\n",
       "    <tr style=\"text-align: right;\">\n",
       "      <th></th>\n",
       "      <th>num_pedidos</th>\n",
       "    </tr>\n",
       "  </thead>\n",
       "  <tbody>\n",
       "    <tr>\n",
       "      <th>0</th>\n",
       "      <td>830</td>\n",
       "    </tr>\n",
       "  </tbody>\n",
       "</table>\n",
       "</div>"
      ],
      "text/plain": [
       "   num_pedidos\n",
       "0          830"
      ]
     },
     "execution_count": 202,
     "metadata": {},
     "output_type": "execute_result"
    }
   ],
   "source": [
    "# 6. Cuántos pedidos hemos tenido?\n",
    "\n",
    "sql_query = ''' SELECT count(\"order_id\") as num_pedidos\n",
    "FROM orders\n",
    " '''\n",
    "\n",
    "ejecutar_query(sql_query)"
   ]
  },
  {
   "cell_type": "code",
   "execution_count": 203,
   "metadata": {},
   "outputs": [
    {
     "data": {
      "text/html": [
       "<div>\n",
       "<style scoped>\n",
       "    .dataframe tbody tr th:only-of-type {\n",
       "        vertical-align: middle;\n",
       "    }\n",
       "\n",
       "    .dataframe tbody tr th {\n",
       "        vertical-align: top;\n",
       "    }\n",
       "\n",
       "    .dataframe thead th {\n",
       "        text-align: right;\n",
       "    }\n",
       "</style>\n",
       "<table border=\"1\" class=\"dataframe\">\n",
       "  <thead>\n",
       "    <tr style=\"text-align: right;\">\n",
       "      <th></th>\n",
       "      <th>customer_id</th>\n",
       "      <th>company_name</th>\n",
       "      <th>city</th>\n",
       "      <th>country</th>\n",
       "    </tr>\n",
       "  </thead>\n",
       "  <tbody>\n",
       "    <tr>\n",
       "      <th>0</th>\n",
       "      <td>ALFKI</td>\n",
       "      <td>Alfreds Futterkiste</td>\n",
       "      <td>Berlin</td>\n",
       "      <td>Germany</td>\n",
       "    </tr>\n",
       "    <tr>\n",
       "      <th>1</th>\n",
       "      <td>ANATR</td>\n",
       "      <td>Ana Trujillo Emparedados y helados</td>\n",
       "      <td>México D.F.</td>\n",
       "      <td>Mexico</td>\n",
       "    </tr>\n",
       "    <tr>\n",
       "      <th>2</th>\n",
       "      <td>ANTON</td>\n",
       "      <td>Antonio Moreno Taquería</td>\n",
       "      <td>México D.F.</td>\n",
       "      <td>Mexico</td>\n",
       "    </tr>\n",
       "    <tr>\n",
       "      <th>3</th>\n",
       "      <td>AROUT</td>\n",
       "      <td>Around the Horn</td>\n",
       "      <td>London</td>\n",
       "      <td>UK</td>\n",
       "    </tr>\n",
       "    <tr>\n",
       "      <th>4</th>\n",
       "      <td>BERGS</td>\n",
       "      <td>Berglunds snabbköp</td>\n",
       "      <td>Luleå</td>\n",
       "      <td>Sweden</td>\n",
       "    </tr>\n",
       "    <tr>\n",
       "      <th>...</th>\n",
       "      <td>...</td>\n",
       "      <td>...</td>\n",
       "      <td>...</td>\n",
       "      <td>...</td>\n",
       "    </tr>\n",
       "    <tr>\n",
       "      <th>86</th>\n",
       "      <td>WARTH</td>\n",
       "      <td>Wartian Herkku</td>\n",
       "      <td>Oulu</td>\n",
       "      <td>Finland</td>\n",
       "    </tr>\n",
       "    <tr>\n",
       "      <th>87</th>\n",
       "      <td>WELLI</td>\n",
       "      <td>Wellington Importadora</td>\n",
       "      <td>Resende</td>\n",
       "      <td>Brazil</td>\n",
       "    </tr>\n",
       "    <tr>\n",
       "      <th>88</th>\n",
       "      <td>WHITC</td>\n",
       "      <td>White Clover Markets</td>\n",
       "      <td>Seattle</td>\n",
       "      <td>USA</td>\n",
       "    </tr>\n",
       "    <tr>\n",
       "      <th>89</th>\n",
       "      <td>WILMK</td>\n",
       "      <td>Wilman Kala</td>\n",
       "      <td>Helsinki</td>\n",
       "      <td>Finland</td>\n",
       "    </tr>\n",
       "    <tr>\n",
       "      <th>90</th>\n",
       "      <td>WOLZA</td>\n",
       "      <td>Wolski  Zajazd</td>\n",
       "      <td>Warszawa</td>\n",
       "      <td>Poland</td>\n",
       "    </tr>\n",
       "  </tbody>\n",
       "</table>\n",
       "<p>91 rows × 4 columns</p>\n",
       "</div>"
      ],
      "text/plain": [
       "   customer_id                        company_name         city  country\n",
       "0        ALFKI                 Alfreds Futterkiste       Berlin  Germany\n",
       "1        ANATR  Ana Trujillo Emparedados y helados  México D.F.   Mexico\n",
       "2        ANTON             Antonio Moreno Taquería  México D.F.   Mexico\n",
       "3        AROUT                     Around the Horn       London       UK\n",
       "4        BERGS                  Berglunds snabbköp        Luleå   Sweden\n",
       "..         ...                                 ...          ...      ...\n",
       "86       WARTH                      Wartian Herkku         Oulu  Finland\n",
       "87       WELLI              Wellington Importadora      Resende   Brazil\n",
       "88       WHITC                White Clover Markets      Seattle      USA\n",
       "89       WILMK                         Wilman Kala     Helsinki  Finland\n",
       "90       WOLZA                      Wolski  Zajazd     Warszawa   Poland\n",
       "\n",
       "[91 rows x 4 columns]"
      ]
     },
     "execution_count": 203,
     "metadata": {},
     "output_type": "execute_result"
    }
   ],
   "source": [
    "# 7. Cuántos clientes tenemos?\n",
    "\n",
    "sql_query = ''' SELECT \"customer_id\", \"company_name\", \"city\", \"country\" \n",
    "FROM customers '''\n",
    "\n",
    "ejecutar_query(sql_query)"
   ]
  },
  {
   "cell_type": "code",
   "execution_count": 204,
   "metadata": {},
   "outputs": [
    {
     "data": {
      "text/html": [
       "<div>\n",
       "<style scoped>\n",
       "    .dataframe tbody tr th:only-of-type {\n",
       "        vertical-align: middle;\n",
       "    }\n",
       "\n",
       "    .dataframe tbody tr th {\n",
       "        vertical-align: top;\n",
       "    }\n",
       "\n",
       "    .dataframe thead th {\n",
       "        text-align: right;\n",
       "    }\n",
       "</style>\n",
       "<table border=\"1\" class=\"dataframe\">\n",
       "  <thead>\n",
       "    <tr style=\"text-align: right;\">\n",
       "      <th></th>\n",
       "      <th>shipper_id</th>\n",
       "      <th>company_name</th>\n",
       "    </tr>\n",
       "  </thead>\n",
       "  <tbody>\n",
       "    <tr>\n",
       "      <th>0</th>\n",
       "      <td>1</td>\n",
       "      <td>Speedy Express</td>\n",
       "    </tr>\n",
       "    <tr>\n",
       "      <th>1</th>\n",
       "      <td>2</td>\n",
       "      <td>United Package</td>\n",
       "    </tr>\n",
       "    <tr>\n",
       "      <th>2</th>\n",
       "      <td>3</td>\n",
       "      <td>Federal Shipping</td>\n",
       "    </tr>\n",
       "    <tr>\n",
       "      <th>3</th>\n",
       "      <td>4</td>\n",
       "      <td>Alliance Shippers</td>\n",
       "    </tr>\n",
       "    <tr>\n",
       "      <th>4</th>\n",
       "      <td>5</td>\n",
       "      <td>UPS</td>\n",
       "    </tr>\n",
       "    <tr>\n",
       "      <th>5</th>\n",
       "      <td>6</td>\n",
       "      <td>DHL</td>\n",
       "    </tr>\n",
       "  </tbody>\n",
       "</table>\n",
       "</div>"
      ],
      "text/plain": [
       "   shipper_id       company_name\n",
       "0           1     Speedy Express\n",
       "1           2     United Package\n",
       "2           3   Federal Shipping\n",
       "3           4  Alliance Shippers\n",
       "4           5                UPS\n",
       "5           6                DHL"
      ]
     },
     "execution_count": 204,
     "metadata": {},
     "output_type": "execute_result"
    }
   ],
   "source": [
    "# 8. Con qué empresas de transporte trabajamos?\n",
    "\n",
    "sql_query = ''' SELECT \"shipper_id\", \"company_name\"\n",
    "FROM shippers '''\n",
    "\n",
    "ejecutar_query(sql_query)"
   ]
  },
  {
   "cell_type": "code",
   "execution_count": 205,
   "metadata": {},
   "outputs": [
    {
     "data": {
      "text/html": [
       "<div>\n",
       "<style scoped>\n",
       "    .dataframe tbody tr th:only-of-type {\n",
       "        vertical-align: middle;\n",
       "    }\n",
       "\n",
       "    .dataframe tbody tr th {\n",
       "        vertical-align: top;\n",
       "    }\n",
       "\n",
       "    .dataframe thead th {\n",
       "        text-align: right;\n",
       "    }\n",
       "</style>\n",
       "<table border=\"1\" class=\"dataframe\">\n",
       "  <thead>\n",
       "    <tr style=\"text-align: right;\">\n",
       "      <th></th>\n",
       "      <th>employee_id</th>\n",
       "      <th>first_name</th>\n",
       "      <th>last_name</th>\n",
       "      <th>title</th>\n",
       "      <th>reports_to</th>\n",
       "      <th>reports_to_name</th>\n",
       "    </tr>\n",
       "  </thead>\n",
       "  <tbody>\n",
       "    <tr>\n",
       "      <th>0</th>\n",
       "      <td>1</td>\n",
       "      <td>Nancy</td>\n",
       "      <td>Davolio</td>\n",
       "      <td>Sales Representative</td>\n",
       "      <td>2</td>\n",
       "      <td>Andrew Fuller</td>\n",
       "    </tr>\n",
       "    <tr>\n",
       "      <th>1</th>\n",
       "      <td>2</td>\n",
       "      <td>Andrew</td>\n",
       "      <td>Fuller</td>\n",
       "      <td>Vice President, Sales</td>\n",
       "      <td>&lt;NA&gt;</td>\n",
       "      <td>None</td>\n",
       "    </tr>\n",
       "    <tr>\n",
       "      <th>2</th>\n",
       "      <td>3</td>\n",
       "      <td>Janet</td>\n",
       "      <td>Leverling</td>\n",
       "      <td>Sales Representative</td>\n",
       "      <td>2</td>\n",
       "      <td>Andrew Fuller</td>\n",
       "    </tr>\n",
       "    <tr>\n",
       "      <th>3</th>\n",
       "      <td>4</td>\n",
       "      <td>Margaret</td>\n",
       "      <td>Peacock</td>\n",
       "      <td>Sales Representative</td>\n",
       "      <td>2</td>\n",
       "      <td>Andrew Fuller</td>\n",
       "    </tr>\n",
       "    <tr>\n",
       "      <th>4</th>\n",
       "      <td>5</td>\n",
       "      <td>Steven</td>\n",
       "      <td>Buchanan</td>\n",
       "      <td>Sales Manager</td>\n",
       "      <td>2</td>\n",
       "      <td>Andrew Fuller</td>\n",
       "    </tr>\n",
       "    <tr>\n",
       "      <th>5</th>\n",
       "      <td>6</td>\n",
       "      <td>Michael</td>\n",
       "      <td>Suyama</td>\n",
       "      <td>Sales Representative</td>\n",
       "      <td>5</td>\n",
       "      <td>Steven Buchanan</td>\n",
       "    </tr>\n",
       "    <tr>\n",
       "      <th>6</th>\n",
       "      <td>7</td>\n",
       "      <td>Robert</td>\n",
       "      <td>King</td>\n",
       "      <td>Sales Representative</td>\n",
       "      <td>5</td>\n",
       "      <td>Steven Buchanan</td>\n",
       "    </tr>\n",
       "    <tr>\n",
       "      <th>7</th>\n",
       "      <td>8</td>\n",
       "      <td>Laura</td>\n",
       "      <td>Callahan</td>\n",
       "      <td>Inside Sales Coordinator</td>\n",
       "      <td>2</td>\n",
       "      <td>Andrew Fuller</td>\n",
       "    </tr>\n",
       "    <tr>\n",
       "      <th>8</th>\n",
       "      <td>9</td>\n",
       "      <td>Anne</td>\n",
       "      <td>Dodsworth</td>\n",
       "      <td>Sales Representative</td>\n",
       "      <td>5</td>\n",
       "      <td>Steven Buchanan</td>\n",
       "    </tr>\n",
       "  </tbody>\n",
       "</table>\n",
       "</div>"
      ],
      "text/plain": [
       "   employee_id first_name  last_name                     title  reports_to  \\\n",
       "0            1      Nancy    Davolio      Sales Representative           2   \n",
       "1            2     Andrew     Fuller     Vice President, Sales        <NA>   \n",
       "2            3      Janet  Leverling      Sales Representative           2   \n",
       "3            4   Margaret    Peacock      Sales Representative           2   \n",
       "4            5     Steven   Buchanan             Sales Manager           2   \n",
       "5            6    Michael     Suyama      Sales Representative           5   \n",
       "6            7     Robert       King      Sales Representative           5   \n",
       "7            8      Laura   Callahan  Inside Sales Coordinator           2   \n",
       "8            9       Anne  Dodsworth      Sales Representative           5   \n",
       "\n",
       "   reports_to_name  \n",
       "0    Andrew Fuller  \n",
       "1             None  \n",
       "2    Andrew Fuller  \n",
       "3    Andrew Fuller  \n",
       "4    Andrew Fuller  \n",
       "5  Steven Buchanan  \n",
       "6  Steven Buchanan  \n",
       "7    Andrew Fuller  \n",
       "8  Steven Buchanan  "
      ]
     },
     "execution_count": 205,
     "metadata": {},
     "output_type": "execute_result"
    }
   ],
   "source": [
    "# 10. Cómo son las relaciones de reporte de resultados entre los empleados?\n",
    "\n",
    "sql_query = ''' SELECT \"employee_id\", \"first_name\", \"last_name\", \"title\", \"reports_to\" \n",
    "FROM employees '''\n",
    "\n",
    "df_employees_report_to = ejecutar_query(sql_query)\n",
    "# df_employees_report_to\n",
    "\n",
    "df_employees_report_to['reports_to'] = df_employees_report_to['reports_to'].apply(lambda x: int(x) if pd.notna(x) else np.nan)\n",
    "df_employees_report_to['reports_to'] = df_employees_report_to['reports_to'].astype('Int64')\n",
    "\n",
    "id_to_name = {row['employee_id']: f\"{row['first_name']} {row['last_name']}\" for _, row in df_employees_report_to.iterrows()}\n",
    "\n",
    "df_employees_report_to['reports_to_name'] = df_employees_report_to['reports_to'].apply(lambda x: id_to_name.get(x, None))\n",
    "\n",
    "df_employees_report_to\n",
    "\n",
    "# se observa que toda la plantilla o reporta a Andrew que es el Vice Presidente de Ventas, o a Steven que es el Gerente de Ventas"
   ]
  },
  {
   "cell_type": "markdown",
   "metadata": {},
   "source": [
    "## EJERCICIO 3 - ANÁLISIS DE LA EMPRESA"
   ]
  },
  {
   "cell_type": "code",
   "execution_count": 206,
   "metadata": {},
   "outputs": [
    {
     "data": {
      "text/html": [
       "<div>\n",
       "<style scoped>\n",
       "    .dataframe tbody tr th:only-of-type {\n",
       "        vertical-align: middle;\n",
       "    }\n",
       "\n",
       "    .dataframe tbody tr th {\n",
       "        vertical-align: top;\n",
       "    }\n",
       "\n",
       "    .dataframe thead th {\n",
       "        text-align: right;\n",
       "    }\n",
       "</style>\n",
       "<table border=\"1\" class=\"dataframe\">\n",
       "  <thead>\n",
       "    <tr style=\"text-align: right;\">\n",
       "      <th></th>\n",
       "      <th>order_id</th>\n",
       "      <th>customer_id</th>\n",
       "      <th>employee_id</th>\n",
       "      <th>order_date</th>\n",
       "      <th>required_date</th>\n",
       "      <th>shipped_date</th>\n",
       "      <th>company_name</th>\n",
       "      <th>city</th>\n",
       "      <th>country</th>\n",
       "    </tr>\n",
       "  </thead>\n",
       "  <tbody>\n",
       "    <tr>\n",
       "      <th>0</th>\n",
       "      <td>10248</td>\n",
       "      <td>VINET</td>\n",
       "      <td>5</td>\n",
       "      <td>1996-07-04</td>\n",
       "      <td>1996-08-01</td>\n",
       "      <td>1996-07-16</td>\n",
       "      <td>Vins et alcools Chevalier</td>\n",
       "      <td>Reims</td>\n",
       "      <td>France</td>\n",
       "    </tr>\n",
       "    <tr>\n",
       "      <th>1</th>\n",
       "      <td>10249</td>\n",
       "      <td>TOMSP</td>\n",
       "      <td>6</td>\n",
       "      <td>1996-07-05</td>\n",
       "      <td>1996-08-16</td>\n",
       "      <td>1996-07-10</td>\n",
       "      <td>Toms Spezialitäten</td>\n",
       "      <td>Münster</td>\n",
       "      <td>Germany</td>\n",
       "    </tr>\n",
       "    <tr>\n",
       "      <th>2</th>\n",
       "      <td>10250</td>\n",
       "      <td>HANAR</td>\n",
       "      <td>4</td>\n",
       "      <td>1996-07-08</td>\n",
       "      <td>1996-08-05</td>\n",
       "      <td>1996-07-12</td>\n",
       "      <td>Hanari Carnes</td>\n",
       "      <td>Rio de Janeiro</td>\n",
       "      <td>Brazil</td>\n",
       "    </tr>\n",
       "    <tr>\n",
       "      <th>3</th>\n",
       "      <td>10251</td>\n",
       "      <td>VICTE</td>\n",
       "      <td>3</td>\n",
       "      <td>1996-07-08</td>\n",
       "      <td>1996-08-05</td>\n",
       "      <td>1996-07-15</td>\n",
       "      <td>Victuailles en stock</td>\n",
       "      <td>Lyon</td>\n",
       "      <td>France</td>\n",
       "    </tr>\n",
       "    <tr>\n",
       "      <th>4</th>\n",
       "      <td>10252</td>\n",
       "      <td>SUPRD</td>\n",
       "      <td>4</td>\n",
       "      <td>1996-07-09</td>\n",
       "      <td>1996-08-06</td>\n",
       "      <td>1996-07-11</td>\n",
       "      <td>Suprêmes délices</td>\n",
       "      <td>Charleroi</td>\n",
       "      <td>Belgium</td>\n",
       "    </tr>\n",
       "  </tbody>\n",
       "</table>\n",
       "</div>"
      ],
      "text/plain": [
       "   order_id customer_id  employee_id  order_date required_date shipped_date  \\\n",
       "0     10248       VINET            5  1996-07-04    1996-08-01   1996-07-16   \n",
       "1     10249       TOMSP            6  1996-07-05    1996-08-16   1996-07-10   \n",
       "2     10250       HANAR            4  1996-07-08    1996-08-05   1996-07-12   \n",
       "3     10251       VICTE            3  1996-07-08    1996-08-05   1996-07-15   \n",
       "4     10252       SUPRD            4  1996-07-09    1996-08-06   1996-07-11   \n",
       "\n",
       "                company_name            city  country  \n",
       "0  Vins et alcools Chevalier           Reims   France  \n",
       "1         Toms Spezialitäten         Münster  Germany  \n",
       "2              Hanari Carnes  Rio de Janeiro   Brazil  \n",
       "3       Victuailles en stock            Lyon   France  \n",
       "4           Suprêmes délices       Charleroi  Belgium  "
      ]
     },
     "execution_count": 206,
     "metadata": {},
     "output_type": "execute_result"
    }
   ],
   "source": [
    "# Crear dataframe de las tablas de pedidos y clientes\n",
    "\n",
    "sql_query = ''' SELECT \"order_id\", \"customer_id\", \"employee_id\", \"order_date\", \"required_date\", \"shipped_date\"\n",
    "FROM orders\n",
    " '''\n",
    "df_pedidos = ejecutar_query(sql_query)\n",
    "\n",
    "sql_query = ''' SELECT \"customer_id\", \"company_name\", \"city\", \"country\" \n",
    "FROM customers '''\n",
    "\n",
    "df_clientes =  ejecutar_query(sql_query)\n",
    "\n",
    "df_pedidos_clientes = df_pedidos.merge(df_clientes,how = 'inner', on = 'customer_id')\n",
    "df_pedidos_clientes.head()\n"
   ]
  },
  {
   "cell_type": "code",
   "execution_count": 207,
   "metadata": {},
   "outputs": [
    {
     "data": {
      "text/html": [
       "<div>\n",
       "<style scoped>\n",
       "    .dataframe tbody tr th:only-of-type {\n",
       "        vertical-align: middle;\n",
       "    }\n",
       "\n",
       "    .dataframe tbody tr th {\n",
       "        vertical-align: top;\n",
       "    }\n",
       "\n",
       "    .dataframe thead th {\n",
       "        text-align: right;\n",
       "    }\n",
       "</style>\n",
       "<table border=\"1\" class=\"dataframe\">\n",
       "  <thead>\n",
       "    <tr style=\"text-align: right;\">\n",
       "      <th></th>\n",
       "      <th>order_id</th>\n",
       "      <th>customer_id</th>\n",
       "      <th>employee_id</th>\n",
       "      <th>order_date</th>\n",
       "      <th>required_date</th>\n",
       "      <th>shipped_date</th>\n",
       "      <th>company_name</th>\n",
       "      <th>city</th>\n",
       "      <th>country</th>\n",
       "      <th>order_date_month</th>\n",
       "      <th>order_date_year</th>\n",
       "    </tr>\n",
       "  </thead>\n",
       "  <tbody>\n",
       "    <tr>\n",
       "      <th>0</th>\n",
       "      <td>10248</td>\n",
       "      <td>VINET</td>\n",
       "      <td>5</td>\n",
       "      <td>1996-07-04</td>\n",
       "      <td>1996-08-01</td>\n",
       "      <td>1996-07-16</td>\n",
       "      <td>Vins et alcools Chevalier</td>\n",
       "      <td>Reims</td>\n",
       "      <td>France</td>\n",
       "      <td>7</td>\n",
       "      <td>1996</td>\n",
       "    </tr>\n",
       "    <tr>\n",
       "      <th>1</th>\n",
       "      <td>10249</td>\n",
       "      <td>TOMSP</td>\n",
       "      <td>6</td>\n",
       "      <td>1996-07-05</td>\n",
       "      <td>1996-08-16</td>\n",
       "      <td>1996-07-10</td>\n",
       "      <td>Toms Spezialitäten</td>\n",
       "      <td>Münster</td>\n",
       "      <td>Germany</td>\n",
       "      <td>7</td>\n",
       "      <td>1996</td>\n",
       "    </tr>\n",
       "    <tr>\n",
       "      <th>2</th>\n",
       "      <td>10250</td>\n",
       "      <td>HANAR</td>\n",
       "      <td>4</td>\n",
       "      <td>1996-07-08</td>\n",
       "      <td>1996-08-05</td>\n",
       "      <td>1996-07-12</td>\n",
       "      <td>Hanari Carnes</td>\n",
       "      <td>Rio de Janeiro</td>\n",
       "      <td>Brazil</td>\n",
       "      <td>7</td>\n",
       "      <td>1996</td>\n",
       "    </tr>\n",
       "    <tr>\n",
       "      <th>3</th>\n",
       "      <td>10251</td>\n",
       "      <td>VICTE</td>\n",
       "      <td>3</td>\n",
       "      <td>1996-07-08</td>\n",
       "      <td>1996-08-05</td>\n",
       "      <td>1996-07-15</td>\n",
       "      <td>Victuailles en stock</td>\n",
       "      <td>Lyon</td>\n",
       "      <td>France</td>\n",
       "      <td>7</td>\n",
       "      <td>1996</td>\n",
       "    </tr>\n",
       "    <tr>\n",
       "      <th>4</th>\n",
       "      <td>10252</td>\n",
       "      <td>SUPRD</td>\n",
       "      <td>4</td>\n",
       "      <td>1996-07-09</td>\n",
       "      <td>1996-08-06</td>\n",
       "      <td>1996-07-11</td>\n",
       "      <td>Suprêmes délices</td>\n",
       "      <td>Charleroi</td>\n",
       "      <td>Belgium</td>\n",
       "      <td>7</td>\n",
       "      <td>1996</td>\n",
       "    </tr>\n",
       "    <tr>\n",
       "      <th>...</th>\n",
       "      <td>...</td>\n",
       "      <td>...</td>\n",
       "      <td>...</td>\n",
       "      <td>...</td>\n",
       "      <td>...</td>\n",
       "      <td>...</td>\n",
       "      <td>...</td>\n",
       "      <td>...</td>\n",
       "      <td>...</td>\n",
       "      <td>...</td>\n",
       "      <td>...</td>\n",
       "    </tr>\n",
       "    <tr>\n",
       "      <th>825</th>\n",
       "      <td>11073</td>\n",
       "      <td>PERIC</td>\n",
       "      <td>2</td>\n",
       "      <td>1998-05-05</td>\n",
       "      <td>1998-06-02</td>\n",
       "      <td>None</td>\n",
       "      <td>Pericles Comidas clásicas</td>\n",
       "      <td>México D.F.</td>\n",
       "      <td>Mexico</td>\n",
       "      <td>5</td>\n",
       "      <td>1998</td>\n",
       "    </tr>\n",
       "    <tr>\n",
       "      <th>826</th>\n",
       "      <td>11074</td>\n",
       "      <td>SIMOB</td>\n",
       "      <td>7</td>\n",
       "      <td>1998-05-06</td>\n",
       "      <td>1998-06-03</td>\n",
       "      <td>None</td>\n",
       "      <td>Simons bistro</td>\n",
       "      <td>Kobenhavn</td>\n",
       "      <td>Denmark</td>\n",
       "      <td>5</td>\n",
       "      <td>1998</td>\n",
       "    </tr>\n",
       "    <tr>\n",
       "      <th>827</th>\n",
       "      <td>11075</td>\n",
       "      <td>RICSU</td>\n",
       "      <td>8</td>\n",
       "      <td>1998-05-06</td>\n",
       "      <td>1998-06-03</td>\n",
       "      <td>None</td>\n",
       "      <td>Richter Supermarkt</td>\n",
       "      <td>Genève</td>\n",
       "      <td>Switzerland</td>\n",
       "      <td>5</td>\n",
       "      <td>1998</td>\n",
       "    </tr>\n",
       "    <tr>\n",
       "      <th>828</th>\n",
       "      <td>11076</td>\n",
       "      <td>BONAP</td>\n",
       "      <td>4</td>\n",
       "      <td>1998-05-06</td>\n",
       "      <td>1998-06-03</td>\n",
       "      <td>None</td>\n",
       "      <td>Bon app'</td>\n",
       "      <td>Marseille</td>\n",
       "      <td>France</td>\n",
       "      <td>5</td>\n",
       "      <td>1998</td>\n",
       "    </tr>\n",
       "    <tr>\n",
       "      <th>829</th>\n",
       "      <td>11077</td>\n",
       "      <td>RATTC</td>\n",
       "      <td>1</td>\n",
       "      <td>1998-05-06</td>\n",
       "      <td>1998-06-03</td>\n",
       "      <td>None</td>\n",
       "      <td>Rattlesnake Canyon Grocery</td>\n",
       "      <td>Albuquerque</td>\n",
       "      <td>USA</td>\n",
       "      <td>5</td>\n",
       "      <td>1998</td>\n",
       "    </tr>\n",
       "  </tbody>\n",
       "</table>\n",
       "<p>830 rows × 11 columns</p>\n",
       "</div>"
      ],
      "text/plain": [
       "     order_id customer_id  employee_id order_date required_date shipped_date  \\\n",
       "0       10248       VINET            5 1996-07-04    1996-08-01   1996-07-16   \n",
       "1       10249       TOMSP            6 1996-07-05    1996-08-16   1996-07-10   \n",
       "2       10250       HANAR            4 1996-07-08    1996-08-05   1996-07-12   \n",
       "3       10251       VICTE            3 1996-07-08    1996-08-05   1996-07-15   \n",
       "4       10252       SUPRD            4 1996-07-09    1996-08-06   1996-07-11   \n",
       "..        ...         ...          ...        ...           ...          ...   \n",
       "825     11073       PERIC            2 1998-05-05    1998-06-02         None   \n",
       "826     11074       SIMOB            7 1998-05-06    1998-06-03         None   \n",
       "827     11075       RICSU            8 1998-05-06    1998-06-03         None   \n",
       "828     11076       BONAP            4 1998-05-06    1998-06-03         None   \n",
       "829     11077       RATTC            1 1998-05-06    1998-06-03         None   \n",
       "\n",
       "                   company_name            city      country  \\\n",
       "0     Vins et alcools Chevalier           Reims       France   \n",
       "1            Toms Spezialitäten         Münster      Germany   \n",
       "2                 Hanari Carnes  Rio de Janeiro       Brazil   \n",
       "3          Victuailles en stock            Lyon       France   \n",
       "4              Suprêmes délices       Charleroi      Belgium   \n",
       "..                          ...             ...          ...   \n",
       "825   Pericles Comidas clásicas     México D.F.       Mexico   \n",
       "826               Simons bistro       Kobenhavn      Denmark   \n",
       "827          Richter Supermarkt          Genève  Switzerland   \n",
       "828                    Bon app'       Marseille       France   \n",
       "829  Rattlesnake Canyon Grocery     Albuquerque          USA   \n",
       "\n",
       "     order_date_month  order_date_year  \n",
       "0                   7             1996  \n",
       "1                   7             1996  \n",
       "2                   7             1996  \n",
       "3                   7             1996  \n",
       "4                   7             1996  \n",
       "..                ...              ...  \n",
       "825                 5             1998  \n",
       "826                 5             1998  \n",
       "827                 5             1998  \n",
       "828                 5             1998  \n",
       "829                 5             1998  \n",
       "\n",
       "[830 rows x 11 columns]"
      ]
     },
     "execution_count": 207,
     "metadata": {},
     "output_type": "execute_result"
    }
   ],
   "source": [
    "# 1. Estudia el numero de pedidos, por mes y año y haz una gráfico que refleje una línea temporal\n",
    "\n",
    "# convert the date column into a datetime object\n",
    "df_pedidos_clientes['order_date'] = pd.to_datetime(df_pedidos_clientes['order_date'])\n",
    "\n",
    "# extract month, and year components\n",
    "df_pedidos_clientes['order_date_month'] = df_pedidos_clientes['order_date'].dt.month\n",
    "df_pedidos_clientes['order_date_year'] = df_pedidos_clientes['order_date'].dt.year\n",
    "\n",
    "df_pedidos_clientes"
   ]
  },
  {
   "cell_type": "code",
   "execution_count": 208,
   "metadata": {},
   "outputs": [
    {
     "data": {
      "text/html": [
       "<div>\n",
       "<style scoped>\n",
       "    .dataframe tbody tr th:only-of-type {\n",
       "        vertical-align: middle;\n",
       "    }\n",
       "\n",
       "    .dataframe tbody tr th {\n",
       "        vertical-align: top;\n",
       "    }\n",
       "\n",
       "    .dataframe thead th {\n",
       "        text-align: right;\n",
       "    }\n",
       "</style>\n",
       "<table border=\"1\" class=\"dataframe\">\n",
       "  <thead>\n",
       "    <tr style=\"text-align: right;\">\n",
       "      <th></th>\n",
       "      <th>order_date_year</th>\n",
       "      <th>order_date_month</th>\n",
       "      <th>total_orders</th>\n",
       "      <th>Año-Mes</th>\n",
       "    </tr>\n",
       "  </thead>\n",
       "  <tbody>\n",
       "    <tr>\n",
       "      <th>0</th>\n",
       "      <td>1996</td>\n",
       "      <td>7</td>\n",
       "      <td>225687</td>\n",
       "      <td>1996-7</td>\n",
       "    </tr>\n",
       "    <tr>\n",
       "      <th>1</th>\n",
       "      <td>1996</td>\n",
       "      <td>8</td>\n",
       "      <td>257050</td>\n",
       "      <td>1996-8</td>\n",
       "    </tr>\n",
       "    <tr>\n",
       "      <th>2</th>\n",
       "      <td>1996</td>\n",
       "      <td>9</td>\n",
       "      <td>237038</td>\n",
       "      <td>1996-9</td>\n",
       "    </tr>\n",
       "    <tr>\n",
       "      <th>3</th>\n",
       "      <td>1996</td>\n",
       "      <td>10</td>\n",
       "      <td>268593</td>\n",
       "      <td>1996-10</td>\n",
       "    </tr>\n",
       "    <tr>\n",
       "      <th>4</th>\n",
       "      <td>1996</td>\n",
       "      <td>11</td>\n",
       "      <td>258900</td>\n",
       "      <td>1996-11</td>\n",
       "    </tr>\n",
       "  </tbody>\n",
       "</table>\n",
       "</div>"
      ],
      "text/plain": [
       "   order_date_year  order_date_month  total_orders  Año-Mes\n",
       "0             1996                 7        225687   1996-7\n",
       "1             1996                 8        257050   1996-8\n",
       "2             1996                 9        237038   1996-9\n",
       "3             1996                10        268593  1996-10\n",
       "4             1996                11        258900  1996-11"
      ]
     },
     "execution_count": 208,
     "metadata": {},
     "output_type": "execute_result"
    }
   ],
   "source": [
    "\n",
    "total_orders_by_order_date = df_pedidos_clientes.groupby(['order_date_year', 'order_date_month'])['order_id'].sum().reset_index()\n",
    "\n",
    "nueva_columna = {\"order_id\":  \"total_orders\"}\n",
    "total_orders_by_order_date.rename( columns = nueva_columna, inplace = True)\n",
    "\n",
    "# se crea la nueva columna año-mes para poder después generar la gráfica de lineas ordenada por ese campo de tiempo\n",
    "total_orders_by_order_date['Año-Mes'] = total_orders_by_order_date.apply(lambda row: f\"{row['order_date_year']}-{row['order_date_month']}\", axis=1)\n",
    "total_orders_by_order_date.head()\n"
   ]
  },
  {
   "cell_type": "code",
   "execution_count": 209,
   "metadata": {},
   "outputs": [
    {
     "data": {
      "application/vnd.plotly.v1+json": {
       "config": {
        "plotlyServerURL": "https://plot.ly"
       },
       "data": [
        {
         "hovertemplate": "Año-Mes=%{x}<br>total_orders=%{text}<extra></extra>",
         "legendgroup": "",
         "line": {
          "color": "#636efa",
          "dash": "solid"
         },
         "marker": {
          "symbol": "circle"
         },
         "mode": "lines+markers+text",
         "name": "",
         "orientation": "v",
         "showlegend": false,
         "text": [
          225687,
          257050,
          237038,
          268593,
          258900,
          321904,
          343728,
          302963,
          314295,
          325717,
          337232,
          317085,
          349833,
          350922,
          394753,
          406847,
          365245,
          517608,
          595925,
          588033,
          799569,
          815961,
          154987
         ],
         "textposition": "top center",
         "type": "scatter",
         "x": [
          "1996-7",
          "1996-8",
          "1996-9",
          "1996-10",
          "1996-11",
          "1996-12",
          "1997-1",
          "1997-2",
          "1997-3",
          "1997-4",
          "1997-5",
          "1997-6",
          "1997-7",
          "1997-8",
          "1997-9",
          "1997-10",
          "1997-11",
          "1997-12",
          "1998-1",
          "1998-2",
          "1998-3",
          "1998-4",
          "1998-5"
         ],
         "xaxis": "x",
         "y": [
          225687,
          257050,
          237038,
          268593,
          258900,
          321904,
          343728,
          302963,
          314295,
          325717,
          337232,
          317085,
          349833,
          350922,
          394753,
          406847,
          365245,
          517608,
          595925,
          588033,
          799569,
          815961,
          154987
         ],
         "yaxis": "y"
        }
       ],
       "layout": {
        "legend": {
         "tracegroupgap": 0
        },
        "margin": {
         "t": 60
        },
        "template": {
         "data": {
          "bar": [
           {
            "error_x": {
             "color": "#2a3f5f"
            },
            "error_y": {
             "color": "#2a3f5f"
            },
            "marker": {
             "line": {
              "color": "#E5ECF6",
              "width": 0.5
             },
             "pattern": {
              "fillmode": "overlay",
              "size": 10,
              "solidity": 0.2
             }
            },
            "type": "bar"
           }
          ],
          "barpolar": [
           {
            "marker": {
             "line": {
              "color": "#E5ECF6",
              "width": 0.5
             },
             "pattern": {
              "fillmode": "overlay",
              "size": 10,
              "solidity": 0.2
             }
            },
            "type": "barpolar"
           }
          ],
          "carpet": [
           {
            "aaxis": {
             "endlinecolor": "#2a3f5f",
             "gridcolor": "white",
             "linecolor": "white",
             "minorgridcolor": "white",
             "startlinecolor": "#2a3f5f"
            },
            "baxis": {
             "endlinecolor": "#2a3f5f",
             "gridcolor": "white",
             "linecolor": "white",
             "minorgridcolor": "white",
             "startlinecolor": "#2a3f5f"
            },
            "type": "carpet"
           }
          ],
          "choropleth": [
           {
            "colorbar": {
             "outlinewidth": 0,
             "ticks": ""
            },
            "type": "choropleth"
           }
          ],
          "contour": [
           {
            "colorbar": {
             "outlinewidth": 0,
             "ticks": ""
            },
            "colorscale": [
             [
              0,
              "#0d0887"
             ],
             [
              0.1111111111111111,
              "#46039f"
             ],
             [
              0.2222222222222222,
              "#7201a8"
             ],
             [
              0.3333333333333333,
              "#9c179e"
             ],
             [
              0.4444444444444444,
              "#bd3786"
             ],
             [
              0.5555555555555556,
              "#d8576b"
             ],
             [
              0.6666666666666666,
              "#ed7953"
             ],
             [
              0.7777777777777778,
              "#fb9f3a"
             ],
             [
              0.8888888888888888,
              "#fdca26"
             ],
             [
              1,
              "#f0f921"
             ]
            ],
            "type": "contour"
           }
          ],
          "contourcarpet": [
           {
            "colorbar": {
             "outlinewidth": 0,
             "ticks": ""
            },
            "type": "contourcarpet"
           }
          ],
          "heatmap": [
           {
            "colorbar": {
             "outlinewidth": 0,
             "ticks": ""
            },
            "colorscale": [
             [
              0,
              "#0d0887"
             ],
             [
              0.1111111111111111,
              "#46039f"
             ],
             [
              0.2222222222222222,
              "#7201a8"
             ],
             [
              0.3333333333333333,
              "#9c179e"
             ],
             [
              0.4444444444444444,
              "#bd3786"
             ],
             [
              0.5555555555555556,
              "#d8576b"
             ],
             [
              0.6666666666666666,
              "#ed7953"
             ],
             [
              0.7777777777777778,
              "#fb9f3a"
             ],
             [
              0.8888888888888888,
              "#fdca26"
             ],
             [
              1,
              "#f0f921"
             ]
            ],
            "type": "heatmap"
           }
          ],
          "heatmapgl": [
           {
            "colorbar": {
             "outlinewidth": 0,
             "ticks": ""
            },
            "colorscale": [
             [
              0,
              "#0d0887"
             ],
             [
              0.1111111111111111,
              "#46039f"
             ],
             [
              0.2222222222222222,
              "#7201a8"
             ],
             [
              0.3333333333333333,
              "#9c179e"
             ],
             [
              0.4444444444444444,
              "#bd3786"
             ],
             [
              0.5555555555555556,
              "#d8576b"
             ],
             [
              0.6666666666666666,
              "#ed7953"
             ],
             [
              0.7777777777777778,
              "#fb9f3a"
             ],
             [
              0.8888888888888888,
              "#fdca26"
             ],
             [
              1,
              "#f0f921"
             ]
            ],
            "type": "heatmapgl"
           }
          ],
          "histogram": [
           {
            "marker": {
             "pattern": {
              "fillmode": "overlay",
              "size": 10,
              "solidity": 0.2
             }
            },
            "type": "histogram"
           }
          ],
          "histogram2d": [
           {
            "colorbar": {
             "outlinewidth": 0,
             "ticks": ""
            },
            "colorscale": [
             [
              0,
              "#0d0887"
             ],
             [
              0.1111111111111111,
              "#46039f"
             ],
             [
              0.2222222222222222,
              "#7201a8"
             ],
             [
              0.3333333333333333,
              "#9c179e"
             ],
             [
              0.4444444444444444,
              "#bd3786"
             ],
             [
              0.5555555555555556,
              "#d8576b"
             ],
             [
              0.6666666666666666,
              "#ed7953"
             ],
             [
              0.7777777777777778,
              "#fb9f3a"
             ],
             [
              0.8888888888888888,
              "#fdca26"
             ],
             [
              1,
              "#f0f921"
             ]
            ],
            "type": "histogram2d"
           }
          ],
          "histogram2dcontour": [
           {
            "colorbar": {
             "outlinewidth": 0,
             "ticks": ""
            },
            "colorscale": [
             [
              0,
              "#0d0887"
             ],
             [
              0.1111111111111111,
              "#46039f"
             ],
             [
              0.2222222222222222,
              "#7201a8"
             ],
             [
              0.3333333333333333,
              "#9c179e"
             ],
             [
              0.4444444444444444,
              "#bd3786"
             ],
             [
              0.5555555555555556,
              "#d8576b"
             ],
             [
              0.6666666666666666,
              "#ed7953"
             ],
             [
              0.7777777777777778,
              "#fb9f3a"
             ],
             [
              0.8888888888888888,
              "#fdca26"
             ],
             [
              1,
              "#f0f921"
             ]
            ],
            "type": "histogram2dcontour"
           }
          ],
          "mesh3d": [
           {
            "colorbar": {
             "outlinewidth": 0,
             "ticks": ""
            },
            "type": "mesh3d"
           }
          ],
          "parcoords": [
           {
            "line": {
             "colorbar": {
              "outlinewidth": 0,
              "ticks": ""
             }
            },
            "type": "parcoords"
           }
          ],
          "pie": [
           {
            "automargin": true,
            "type": "pie"
           }
          ],
          "scatter": [
           {
            "fillpattern": {
             "fillmode": "overlay",
             "size": 10,
             "solidity": 0.2
            },
            "type": "scatter"
           }
          ],
          "scatter3d": [
           {
            "line": {
             "colorbar": {
              "outlinewidth": 0,
              "ticks": ""
             }
            },
            "marker": {
             "colorbar": {
              "outlinewidth": 0,
              "ticks": ""
             }
            },
            "type": "scatter3d"
           }
          ],
          "scattercarpet": [
           {
            "marker": {
             "colorbar": {
              "outlinewidth": 0,
              "ticks": ""
             }
            },
            "type": "scattercarpet"
           }
          ],
          "scattergeo": [
           {
            "marker": {
             "colorbar": {
              "outlinewidth": 0,
              "ticks": ""
             }
            },
            "type": "scattergeo"
           }
          ],
          "scattergl": [
           {
            "marker": {
             "colorbar": {
              "outlinewidth": 0,
              "ticks": ""
             }
            },
            "type": "scattergl"
           }
          ],
          "scattermapbox": [
           {
            "marker": {
             "colorbar": {
              "outlinewidth": 0,
              "ticks": ""
             }
            },
            "type": "scattermapbox"
           }
          ],
          "scatterpolar": [
           {
            "marker": {
             "colorbar": {
              "outlinewidth": 0,
              "ticks": ""
             }
            },
            "type": "scatterpolar"
           }
          ],
          "scatterpolargl": [
           {
            "marker": {
             "colorbar": {
              "outlinewidth": 0,
              "ticks": ""
             }
            },
            "type": "scatterpolargl"
           }
          ],
          "scatterternary": [
           {
            "marker": {
             "colorbar": {
              "outlinewidth": 0,
              "ticks": ""
             }
            },
            "type": "scatterternary"
           }
          ],
          "surface": [
           {
            "colorbar": {
             "outlinewidth": 0,
             "ticks": ""
            },
            "colorscale": [
             [
              0,
              "#0d0887"
             ],
             [
              0.1111111111111111,
              "#46039f"
             ],
             [
              0.2222222222222222,
              "#7201a8"
             ],
             [
              0.3333333333333333,
              "#9c179e"
             ],
             [
              0.4444444444444444,
              "#bd3786"
             ],
             [
              0.5555555555555556,
              "#d8576b"
             ],
             [
              0.6666666666666666,
              "#ed7953"
             ],
             [
              0.7777777777777778,
              "#fb9f3a"
             ],
             [
              0.8888888888888888,
              "#fdca26"
             ],
             [
              1,
              "#f0f921"
             ]
            ],
            "type": "surface"
           }
          ],
          "table": [
           {
            "cells": {
             "fill": {
              "color": "#EBF0F8"
             },
             "line": {
              "color": "white"
             }
            },
            "header": {
             "fill": {
              "color": "#C8D4E3"
             },
             "line": {
              "color": "white"
             }
            },
            "type": "table"
           }
          ]
         },
         "layout": {
          "annotationdefaults": {
           "arrowcolor": "#2a3f5f",
           "arrowhead": 0,
           "arrowwidth": 1
          },
          "autotypenumbers": "strict",
          "coloraxis": {
           "colorbar": {
            "outlinewidth": 0,
            "ticks": ""
           }
          },
          "colorscale": {
           "diverging": [
            [
             0,
             "#8e0152"
            ],
            [
             0.1,
             "#c51b7d"
            ],
            [
             0.2,
             "#de77ae"
            ],
            [
             0.3,
             "#f1b6da"
            ],
            [
             0.4,
             "#fde0ef"
            ],
            [
             0.5,
             "#f7f7f7"
            ],
            [
             0.6,
             "#e6f5d0"
            ],
            [
             0.7,
             "#b8e186"
            ],
            [
             0.8,
             "#7fbc41"
            ],
            [
             0.9,
             "#4d9221"
            ],
            [
             1,
             "#276419"
            ]
           ],
           "sequential": [
            [
             0,
             "#0d0887"
            ],
            [
             0.1111111111111111,
             "#46039f"
            ],
            [
             0.2222222222222222,
             "#7201a8"
            ],
            [
             0.3333333333333333,
             "#9c179e"
            ],
            [
             0.4444444444444444,
             "#bd3786"
            ],
            [
             0.5555555555555556,
             "#d8576b"
            ],
            [
             0.6666666666666666,
             "#ed7953"
            ],
            [
             0.7777777777777778,
             "#fb9f3a"
            ],
            [
             0.8888888888888888,
             "#fdca26"
            ],
            [
             1,
             "#f0f921"
            ]
           ],
           "sequentialminus": [
            [
             0,
             "#0d0887"
            ],
            [
             0.1111111111111111,
             "#46039f"
            ],
            [
             0.2222222222222222,
             "#7201a8"
            ],
            [
             0.3333333333333333,
             "#9c179e"
            ],
            [
             0.4444444444444444,
             "#bd3786"
            ],
            [
             0.5555555555555556,
             "#d8576b"
            ],
            [
             0.6666666666666666,
             "#ed7953"
            ],
            [
             0.7777777777777778,
             "#fb9f3a"
            ],
            [
             0.8888888888888888,
             "#fdca26"
            ],
            [
             1,
             "#f0f921"
            ]
           ]
          },
          "colorway": [
           "#636efa",
           "#EF553B",
           "#00cc96",
           "#ab63fa",
           "#FFA15A",
           "#19d3f3",
           "#FF6692",
           "#B6E880",
           "#FF97FF",
           "#FECB52"
          ],
          "font": {
           "color": "#2a3f5f"
          },
          "geo": {
           "bgcolor": "white",
           "lakecolor": "white",
           "landcolor": "#E5ECF6",
           "showlakes": true,
           "showland": true,
           "subunitcolor": "white"
          },
          "hoverlabel": {
           "align": "left"
          },
          "hovermode": "closest",
          "mapbox": {
           "style": "light"
          },
          "paper_bgcolor": "white",
          "plot_bgcolor": "#E5ECF6",
          "polar": {
           "angularaxis": {
            "gridcolor": "white",
            "linecolor": "white",
            "ticks": ""
           },
           "bgcolor": "#E5ECF6",
           "radialaxis": {
            "gridcolor": "white",
            "linecolor": "white",
            "ticks": ""
           }
          },
          "scene": {
           "xaxis": {
            "backgroundcolor": "#E5ECF6",
            "gridcolor": "white",
            "gridwidth": 2,
            "linecolor": "white",
            "showbackground": true,
            "ticks": "",
            "zerolinecolor": "white"
           },
           "yaxis": {
            "backgroundcolor": "#E5ECF6",
            "gridcolor": "white",
            "gridwidth": 2,
            "linecolor": "white",
            "showbackground": true,
            "ticks": "",
            "zerolinecolor": "white"
           },
           "zaxis": {
            "backgroundcolor": "#E5ECF6",
            "gridcolor": "white",
            "gridwidth": 2,
            "linecolor": "white",
            "showbackground": true,
            "ticks": "",
            "zerolinecolor": "white"
           }
          },
          "shapedefaults": {
           "line": {
            "color": "#2a3f5f"
           }
          },
          "ternary": {
           "aaxis": {
            "gridcolor": "white",
            "linecolor": "white",
            "ticks": ""
           },
           "baxis": {
            "gridcolor": "white",
            "linecolor": "white",
            "ticks": ""
           },
           "bgcolor": "#E5ECF6",
           "caxis": {
            "gridcolor": "white",
            "linecolor": "white",
            "ticks": ""
           }
          },
          "title": {
           "x": 0.05
          },
          "xaxis": {
           "automargin": true,
           "gridcolor": "white",
           "linecolor": "white",
           "ticks": "",
           "title": {
            "standoff": 15
           },
           "zerolinecolor": "white",
           "zerolinewidth": 2
          },
          "yaxis": {
           "automargin": true,
           "gridcolor": "white",
           "linecolor": "white",
           "ticks": "",
           "title": {
            "standoff": 15
           },
           "zerolinecolor": "white",
           "zerolinewidth": 2
          }
         }
        },
        "title": {
         "text": "Pedidos realizados a lo largo del tiempo"
        },
        "xaxis": {
         "anchor": "y",
         "domain": [
          0,
          1
         ],
         "title": {
          "text": "Año-Mes"
         }
        },
        "yaxis": {
         "anchor": "x",
         "domain": [
          0,
          1
         ],
         "title": {
          "text": "total_orders"
         }
        }
       }
      }
     },
     "metadata": {},
     "output_type": "display_data"
    }
   ],
   "source": [
    "# gráfica de líneas que muestra la evolución de los pedidos agrupados por mes\n",
    "fig = px.line(total_orders_by_order_date, \n",
    "\t\t\t\t\t\t\tx = 'Año-Mes', \n",
    "\t\t\t\t\t\t\ty = 'total_orders', \n",
    "\t\t\t\t\t\t\ttext = 'total_orders')\n",
    "fig.update_traces(textposition = \"top center\")\n",
    "fig.update_layout(title = dict(text = \"Pedidos realizados a lo largo del tiempo\"))\n",
    "fig.show()"
   ]
  },
  {
   "cell_type": "code",
   "execution_count": 210,
   "metadata": {},
   "outputs": [
    {
     "data": {
      "text/html": [
       "<div>\n",
       "<style scoped>\n",
       "    .dataframe tbody tr th:only-of-type {\n",
       "        vertical-align: middle;\n",
       "    }\n",
       "\n",
       "    .dataframe tbody tr th {\n",
       "        vertical-align: top;\n",
       "    }\n",
       "\n",
       "    .dataframe thead th {\n",
       "        text-align: right;\n",
       "    }\n",
       "</style>\n",
       "<table border=\"1\" class=\"dataframe\">\n",
       "  <thead>\n",
       "    <tr style=\"text-align: right;\">\n",
       "      <th></th>\n",
       "      <th>country</th>\n",
       "      <th>order_id</th>\n",
       "      <th>continente</th>\n",
       "    </tr>\n",
       "  </thead>\n",
       "  <tbody>\n",
       "    <tr>\n",
       "      <th>0</th>\n",
       "      <td>Argentina</td>\n",
       "      <td>172703</td>\n",
       "      <td>America</td>\n",
       "    </tr>\n",
       "    <tr>\n",
       "      <th>1</th>\n",
       "      <td>Austria</td>\n",
       "      <td>425983</td>\n",
       "      <td>Europe</td>\n",
       "    </tr>\n",
       "    <tr>\n",
       "      <th>2</th>\n",
       "      <td>Belgium</td>\n",
       "      <td>204000</td>\n",
       "      <td>Europe</td>\n",
       "    </tr>\n",
       "    <tr>\n",
       "      <th>3</th>\n",
       "      <td>Brazil</td>\n",
       "      <td>885970</td>\n",
       "      <td>America</td>\n",
       "    </tr>\n",
       "    <tr>\n",
       "      <th>4</th>\n",
       "      <td>Canada</td>\n",
       "      <td>319394</td>\n",
       "      <td>America</td>\n",
       "    </tr>\n",
       "  </tbody>\n",
       "</table>\n",
       "</div>"
      ],
      "text/plain": [
       "     country  order_id continente\n",
       "0  Argentina    172703    America\n",
       "1    Austria    425983     Europe\n",
       "2    Belgium    204000     Europe\n",
       "3     Brazil    885970    America\n",
       "4     Canada    319394    America"
      ]
     },
     "execution_count": 210,
     "metadata": {},
     "output_type": "execute_result"
    }
   ],
   "source": [
    "# 2. Estudio de países - continentes y ventas\n",
    "df_pedidos_por_pais = df_pedidos_clientes.groupby('country')['order_id'].sum().reset_index()\n",
    "\n",
    "continentes = {\n",
    "                'Europe': ['Austria', 'Belgium', 'Denmark', 'Finland', 'France', 'Germany', 'Ireland', 'Italy', 'Norway', 'Poland', 'Portugal', 'Spain', 'Sweden', 'Switzerland', 'UK'],\n",
    "                'America': ['Argentina', 'Brazil', 'Canada', 'Mexico', 'USA', 'Venezuela'] \n",
    "              }\n",
    "\n",
    "pais_a_continente = {}\n",
    "for continente, paises in continentes.items():\n",
    "    for pais in paises:\n",
    "        pais_a_continente[pais] = continente\n",
    "\n",
    "df_pedidos_por_pais['continente'] = df_pedidos_por_pais['country'].map(pais_a_continente)\n",
    "\n",
    "df_pedidos_por_pais.head()\n"
   ]
  },
  {
   "cell_type": "code",
   "execution_count": 211,
   "metadata": {},
   "outputs": [
    {
     "data": {
      "text/html": [
       "<div>\n",
       "<style scoped>\n",
       "    .dataframe tbody tr th:only-of-type {\n",
       "        vertical-align: middle;\n",
       "    }\n",
       "\n",
       "    .dataframe tbody tr th {\n",
       "        vertical-align: top;\n",
       "    }\n",
       "\n",
       "    .dataframe thead th {\n",
       "        text-align: right;\n",
       "    }\n",
       "</style>\n",
       "<table border=\"1\" class=\"dataframe\">\n",
       "  <thead>\n",
       "    <tr style=\"text-align: right;\">\n",
       "      <th></th>\n",
       "      <th>continente</th>\n",
       "      <th>order_id</th>\n",
       "    </tr>\n",
       "  </thead>\n",
       "  <tbody>\n",
       "    <tr>\n",
       "      <th>0</th>\n",
       "      <td>America</td>\n",
       "      <td>3467451</td>\n",
       "    </tr>\n",
       "    <tr>\n",
       "      <th>1</th>\n",
       "      <td>Europe</td>\n",
       "      <td>5382424</td>\n",
       "    </tr>\n",
       "  </tbody>\n",
       "</table>\n",
       "</div>"
      ],
      "text/plain": [
       "  continente  order_id\n",
       "0    America   3467451\n",
       "1     Europe   5382424"
      ]
     },
     "execution_count": 211,
     "metadata": {},
     "output_type": "execute_result"
    }
   ],
   "source": [
    "# Agrupamos por continente\n",
    "df_pedidos_por_continente = df_pedidos_por_pais.groupby('continente')['order_id'].sum().reset_index()\n",
    "df_pedidos_por_continente"
   ]
  },
  {
   "cell_type": "code",
   "execution_count": 212,
   "metadata": {},
   "outputs": [
    {
     "data": {
      "application/vnd.plotly.v1+json": {
       "config": {
        "plotlyServerURL": "https://plot.ly"
       },
       "data": [
        {
         "domain": {
          "x": [
           0,
           1
          ],
          "y": [
           0,
           1
          ]
         },
         "hovertemplate": "continente=%{label}<br>order_id=%{value}<extra></extra>",
         "labels": [
          "America",
          "Europe"
         ],
         "legendgroup": "",
         "name": "",
         "showlegend": true,
         "type": "pie",
         "values": [
          3467451,
          5382424
         ]
        }
       ],
       "layout": {
        "legend": {
         "tracegroupgap": 0,
         "x": 0.75,
         "xanchor": "right",
         "y": 0.99,
         "yanchor": "top"
        },
        "margin": {
         "t": 60
        },
        "template": {
         "data": {
          "bar": [
           {
            "error_x": {
             "color": "#2a3f5f"
            },
            "error_y": {
             "color": "#2a3f5f"
            },
            "marker": {
             "line": {
              "color": "#E5ECF6",
              "width": 0.5
             },
             "pattern": {
              "fillmode": "overlay",
              "size": 10,
              "solidity": 0.2
             }
            },
            "type": "bar"
           }
          ],
          "barpolar": [
           {
            "marker": {
             "line": {
              "color": "#E5ECF6",
              "width": 0.5
             },
             "pattern": {
              "fillmode": "overlay",
              "size": 10,
              "solidity": 0.2
             }
            },
            "type": "barpolar"
           }
          ],
          "carpet": [
           {
            "aaxis": {
             "endlinecolor": "#2a3f5f",
             "gridcolor": "white",
             "linecolor": "white",
             "minorgridcolor": "white",
             "startlinecolor": "#2a3f5f"
            },
            "baxis": {
             "endlinecolor": "#2a3f5f",
             "gridcolor": "white",
             "linecolor": "white",
             "minorgridcolor": "white",
             "startlinecolor": "#2a3f5f"
            },
            "type": "carpet"
           }
          ],
          "choropleth": [
           {
            "colorbar": {
             "outlinewidth": 0,
             "ticks": ""
            },
            "type": "choropleth"
           }
          ],
          "contour": [
           {
            "colorbar": {
             "outlinewidth": 0,
             "ticks": ""
            },
            "colorscale": [
             [
              0,
              "#0d0887"
             ],
             [
              0.1111111111111111,
              "#46039f"
             ],
             [
              0.2222222222222222,
              "#7201a8"
             ],
             [
              0.3333333333333333,
              "#9c179e"
             ],
             [
              0.4444444444444444,
              "#bd3786"
             ],
             [
              0.5555555555555556,
              "#d8576b"
             ],
             [
              0.6666666666666666,
              "#ed7953"
             ],
             [
              0.7777777777777778,
              "#fb9f3a"
             ],
             [
              0.8888888888888888,
              "#fdca26"
             ],
             [
              1,
              "#f0f921"
             ]
            ],
            "type": "contour"
           }
          ],
          "contourcarpet": [
           {
            "colorbar": {
             "outlinewidth": 0,
             "ticks": ""
            },
            "type": "contourcarpet"
           }
          ],
          "heatmap": [
           {
            "colorbar": {
             "outlinewidth": 0,
             "ticks": ""
            },
            "colorscale": [
             [
              0,
              "#0d0887"
             ],
             [
              0.1111111111111111,
              "#46039f"
             ],
             [
              0.2222222222222222,
              "#7201a8"
             ],
             [
              0.3333333333333333,
              "#9c179e"
             ],
             [
              0.4444444444444444,
              "#bd3786"
             ],
             [
              0.5555555555555556,
              "#d8576b"
             ],
             [
              0.6666666666666666,
              "#ed7953"
             ],
             [
              0.7777777777777778,
              "#fb9f3a"
             ],
             [
              0.8888888888888888,
              "#fdca26"
             ],
             [
              1,
              "#f0f921"
             ]
            ],
            "type": "heatmap"
           }
          ],
          "heatmapgl": [
           {
            "colorbar": {
             "outlinewidth": 0,
             "ticks": ""
            },
            "colorscale": [
             [
              0,
              "#0d0887"
             ],
             [
              0.1111111111111111,
              "#46039f"
             ],
             [
              0.2222222222222222,
              "#7201a8"
             ],
             [
              0.3333333333333333,
              "#9c179e"
             ],
             [
              0.4444444444444444,
              "#bd3786"
             ],
             [
              0.5555555555555556,
              "#d8576b"
             ],
             [
              0.6666666666666666,
              "#ed7953"
             ],
             [
              0.7777777777777778,
              "#fb9f3a"
             ],
             [
              0.8888888888888888,
              "#fdca26"
             ],
             [
              1,
              "#f0f921"
             ]
            ],
            "type": "heatmapgl"
           }
          ],
          "histogram": [
           {
            "marker": {
             "pattern": {
              "fillmode": "overlay",
              "size": 10,
              "solidity": 0.2
             }
            },
            "type": "histogram"
           }
          ],
          "histogram2d": [
           {
            "colorbar": {
             "outlinewidth": 0,
             "ticks": ""
            },
            "colorscale": [
             [
              0,
              "#0d0887"
             ],
             [
              0.1111111111111111,
              "#46039f"
             ],
             [
              0.2222222222222222,
              "#7201a8"
             ],
             [
              0.3333333333333333,
              "#9c179e"
             ],
             [
              0.4444444444444444,
              "#bd3786"
             ],
             [
              0.5555555555555556,
              "#d8576b"
             ],
             [
              0.6666666666666666,
              "#ed7953"
             ],
             [
              0.7777777777777778,
              "#fb9f3a"
             ],
             [
              0.8888888888888888,
              "#fdca26"
             ],
             [
              1,
              "#f0f921"
             ]
            ],
            "type": "histogram2d"
           }
          ],
          "histogram2dcontour": [
           {
            "colorbar": {
             "outlinewidth": 0,
             "ticks": ""
            },
            "colorscale": [
             [
              0,
              "#0d0887"
             ],
             [
              0.1111111111111111,
              "#46039f"
             ],
             [
              0.2222222222222222,
              "#7201a8"
             ],
             [
              0.3333333333333333,
              "#9c179e"
             ],
             [
              0.4444444444444444,
              "#bd3786"
             ],
             [
              0.5555555555555556,
              "#d8576b"
             ],
             [
              0.6666666666666666,
              "#ed7953"
             ],
             [
              0.7777777777777778,
              "#fb9f3a"
             ],
             [
              0.8888888888888888,
              "#fdca26"
             ],
             [
              1,
              "#f0f921"
             ]
            ],
            "type": "histogram2dcontour"
           }
          ],
          "mesh3d": [
           {
            "colorbar": {
             "outlinewidth": 0,
             "ticks": ""
            },
            "type": "mesh3d"
           }
          ],
          "parcoords": [
           {
            "line": {
             "colorbar": {
              "outlinewidth": 0,
              "ticks": ""
             }
            },
            "type": "parcoords"
           }
          ],
          "pie": [
           {
            "automargin": true,
            "type": "pie"
           }
          ],
          "scatter": [
           {
            "fillpattern": {
             "fillmode": "overlay",
             "size": 10,
             "solidity": 0.2
            },
            "type": "scatter"
           }
          ],
          "scatter3d": [
           {
            "line": {
             "colorbar": {
              "outlinewidth": 0,
              "ticks": ""
             }
            },
            "marker": {
             "colorbar": {
              "outlinewidth": 0,
              "ticks": ""
             }
            },
            "type": "scatter3d"
           }
          ],
          "scattercarpet": [
           {
            "marker": {
             "colorbar": {
              "outlinewidth": 0,
              "ticks": ""
             }
            },
            "type": "scattercarpet"
           }
          ],
          "scattergeo": [
           {
            "marker": {
             "colorbar": {
              "outlinewidth": 0,
              "ticks": ""
             }
            },
            "type": "scattergeo"
           }
          ],
          "scattergl": [
           {
            "marker": {
             "colorbar": {
              "outlinewidth": 0,
              "ticks": ""
             }
            },
            "type": "scattergl"
           }
          ],
          "scattermapbox": [
           {
            "marker": {
             "colorbar": {
              "outlinewidth": 0,
              "ticks": ""
             }
            },
            "type": "scattermapbox"
           }
          ],
          "scatterpolar": [
           {
            "marker": {
             "colorbar": {
              "outlinewidth": 0,
              "ticks": ""
             }
            },
            "type": "scatterpolar"
           }
          ],
          "scatterpolargl": [
           {
            "marker": {
             "colorbar": {
              "outlinewidth": 0,
              "ticks": ""
             }
            },
            "type": "scatterpolargl"
           }
          ],
          "scatterternary": [
           {
            "marker": {
             "colorbar": {
              "outlinewidth": 0,
              "ticks": ""
             }
            },
            "type": "scatterternary"
           }
          ],
          "surface": [
           {
            "colorbar": {
             "outlinewidth": 0,
             "ticks": ""
            },
            "colorscale": [
             [
              0,
              "#0d0887"
             ],
             [
              0.1111111111111111,
              "#46039f"
             ],
             [
              0.2222222222222222,
              "#7201a8"
             ],
             [
              0.3333333333333333,
              "#9c179e"
             ],
             [
              0.4444444444444444,
              "#bd3786"
             ],
             [
              0.5555555555555556,
              "#d8576b"
             ],
             [
              0.6666666666666666,
              "#ed7953"
             ],
             [
              0.7777777777777778,
              "#fb9f3a"
             ],
             [
              0.8888888888888888,
              "#fdca26"
             ],
             [
              1,
              "#f0f921"
             ]
            ],
            "type": "surface"
           }
          ],
          "table": [
           {
            "cells": {
             "fill": {
              "color": "#EBF0F8"
             },
             "line": {
              "color": "white"
             }
            },
            "header": {
             "fill": {
              "color": "#C8D4E3"
             },
             "line": {
              "color": "white"
             }
            },
            "type": "table"
           }
          ]
         },
         "layout": {
          "annotationdefaults": {
           "arrowcolor": "#2a3f5f",
           "arrowhead": 0,
           "arrowwidth": 1
          },
          "autotypenumbers": "strict",
          "coloraxis": {
           "colorbar": {
            "outlinewidth": 0,
            "ticks": ""
           }
          },
          "colorscale": {
           "diverging": [
            [
             0,
             "#8e0152"
            ],
            [
             0.1,
             "#c51b7d"
            ],
            [
             0.2,
             "#de77ae"
            ],
            [
             0.3,
             "#f1b6da"
            ],
            [
             0.4,
             "#fde0ef"
            ],
            [
             0.5,
             "#f7f7f7"
            ],
            [
             0.6,
             "#e6f5d0"
            ],
            [
             0.7,
             "#b8e186"
            ],
            [
             0.8,
             "#7fbc41"
            ],
            [
             0.9,
             "#4d9221"
            ],
            [
             1,
             "#276419"
            ]
           ],
           "sequential": [
            [
             0,
             "#0d0887"
            ],
            [
             0.1111111111111111,
             "#46039f"
            ],
            [
             0.2222222222222222,
             "#7201a8"
            ],
            [
             0.3333333333333333,
             "#9c179e"
            ],
            [
             0.4444444444444444,
             "#bd3786"
            ],
            [
             0.5555555555555556,
             "#d8576b"
            ],
            [
             0.6666666666666666,
             "#ed7953"
            ],
            [
             0.7777777777777778,
             "#fb9f3a"
            ],
            [
             0.8888888888888888,
             "#fdca26"
            ],
            [
             1,
             "#f0f921"
            ]
           ],
           "sequentialminus": [
            [
             0,
             "#0d0887"
            ],
            [
             0.1111111111111111,
             "#46039f"
            ],
            [
             0.2222222222222222,
             "#7201a8"
            ],
            [
             0.3333333333333333,
             "#9c179e"
            ],
            [
             0.4444444444444444,
             "#bd3786"
            ],
            [
             0.5555555555555556,
             "#d8576b"
            ],
            [
             0.6666666666666666,
             "#ed7953"
            ],
            [
             0.7777777777777778,
             "#fb9f3a"
            ],
            [
             0.8888888888888888,
             "#fdca26"
            ],
            [
             1,
             "#f0f921"
            ]
           ]
          },
          "colorway": [
           "#636efa",
           "#EF553B",
           "#00cc96",
           "#ab63fa",
           "#FFA15A",
           "#19d3f3",
           "#FF6692",
           "#B6E880",
           "#FF97FF",
           "#FECB52"
          ],
          "font": {
           "color": "#2a3f5f"
          },
          "geo": {
           "bgcolor": "white",
           "lakecolor": "white",
           "landcolor": "#E5ECF6",
           "showlakes": true,
           "showland": true,
           "subunitcolor": "white"
          },
          "hoverlabel": {
           "align": "left"
          },
          "hovermode": "closest",
          "mapbox": {
           "style": "light"
          },
          "paper_bgcolor": "white",
          "plot_bgcolor": "#E5ECF6",
          "polar": {
           "angularaxis": {
            "gridcolor": "white",
            "linecolor": "white",
            "ticks": ""
           },
           "bgcolor": "#E5ECF6",
           "radialaxis": {
            "gridcolor": "white",
            "linecolor": "white",
            "ticks": ""
           }
          },
          "scene": {
           "xaxis": {
            "backgroundcolor": "#E5ECF6",
            "gridcolor": "white",
            "gridwidth": 2,
            "linecolor": "white",
            "showbackground": true,
            "ticks": "",
            "zerolinecolor": "white"
           },
           "yaxis": {
            "backgroundcolor": "#E5ECF6",
            "gridcolor": "white",
            "gridwidth": 2,
            "linecolor": "white",
            "showbackground": true,
            "ticks": "",
            "zerolinecolor": "white"
           },
           "zaxis": {
            "backgroundcolor": "#E5ECF6",
            "gridcolor": "white",
            "gridwidth": 2,
            "linecolor": "white",
            "showbackground": true,
            "ticks": "",
            "zerolinecolor": "white"
           }
          },
          "shapedefaults": {
           "line": {
            "color": "#2a3f5f"
           }
          },
          "ternary": {
           "aaxis": {
            "gridcolor": "white",
            "linecolor": "white",
            "ticks": ""
           },
           "baxis": {
            "gridcolor": "white",
            "linecolor": "white",
            "ticks": ""
           },
           "bgcolor": "#E5ECF6",
           "caxis": {
            "gridcolor": "white",
            "linecolor": "white",
            "ticks": ""
           }
          },
          "title": {
           "x": 0.05
          },
          "xaxis": {
           "automargin": true,
           "gridcolor": "white",
           "linecolor": "white",
           "ticks": "",
           "title": {
            "standoff": 15
           },
           "zerolinecolor": "white",
           "zerolinewidth": 2
          },
          "yaxis": {
           "automargin": true,
           "gridcolor": "white",
           "linecolor": "white",
           "ticks": "",
           "title": {
            "standoff": 15
           },
           "zerolinecolor": "white",
           "zerolinewidth": 2
          }
         }
        },
        "title": {
         "text": "Distribución de ventas por continente"
        }
       }
      }
     },
     "metadata": {},
     "output_type": "display_data"
    }
   ],
   "source": [
    "# Ahora crearemos nuestro pieplot ya que solo tenemos dos variables: america y europe\n",
    "fig = px.pie(df_pedidos_por_continente, values = 'order_id', names = 'continente')\n",
    "\n",
    "fig.update_layout(title=dict(text = \"Distribución de ventas por continente\"),\n",
    "                  legend=dict( yanchor = \"top\", y = 0.99, xanchor = \"right\", x = 0.75))\n",
    "\n",
    "fig.show()"
   ]
  },
  {
   "cell_type": "code",
   "execution_count": 213,
   "metadata": {},
   "outputs": [
    {
     "data": {
      "text/html": [
       "<div>\n",
       "<style scoped>\n",
       "    .dataframe tbody tr th:only-of-type {\n",
       "        vertical-align: middle;\n",
       "    }\n",
       "\n",
       "    .dataframe tbody tr th {\n",
       "        vertical-align: top;\n",
       "    }\n",
       "\n",
       "    .dataframe thead th {\n",
       "        text-align: right;\n",
       "    }\n",
       "</style>\n",
       "<table border=\"1\" class=\"dataframe\">\n",
       "  <thead>\n",
       "    <tr style=\"text-align: right;\">\n",
       "      <th></th>\n",
       "      <th>order_id</th>\n",
       "      <th>company_name</th>\n",
       "      <th>shipped_date</th>\n",
       "      <th>required_date</th>\n",
       "    </tr>\n",
       "  </thead>\n",
       "  <tbody>\n",
       "    <tr>\n",
       "      <th>0</th>\n",
       "      <td>10248</td>\n",
       "      <td>Vins et alcools Chevalier</td>\n",
       "      <td>1996-07-16</td>\n",
       "      <td>1996-08-01</td>\n",
       "    </tr>\n",
       "    <tr>\n",
       "      <th>1</th>\n",
       "      <td>10249</td>\n",
       "      <td>Toms Spezialitäten</td>\n",
       "      <td>1996-07-10</td>\n",
       "      <td>1996-08-16</td>\n",
       "    </tr>\n",
       "    <tr>\n",
       "      <th>2</th>\n",
       "      <td>10250</td>\n",
       "      <td>Hanari Carnes</td>\n",
       "      <td>1996-07-12</td>\n",
       "      <td>1996-08-05</td>\n",
       "    </tr>\n",
       "    <tr>\n",
       "      <th>3</th>\n",
       "      <td>10251</td>\n",
       "      <td>Victuailles en stock</td>\n",
       "      <td>1996-07-15</td>\n",
       "      <td>1996-08-05</td>\n",
       "    </tr>\n",
       "    <tr>\n",
       "      <th>4</th>\n",
       "      <td>10252</td>\n",
       "      <td>Suprêmes délices</td>\n",
       "      <td>1996-07-11</td>\n",
       "      <td>1996-08-06</td>\n",
       "    </tr>\n",
       "    <tr>\n",
       "      <th>...</th>\n",
       "      <td>...</td>\n",
       "      <td>...</td>\n",
       "      <td>...</td>\n",
       "      <td>...</td>\n",
       "    </tr>\n",
       "    <tr>\n",
       "      <th>825</th>\n",
       "      <td>11073</td>\n",
       "      <td>Pericles Comidas clásicas</td>\n",
       "      <td>None</td>\n",
       "      <td>1998-06-02</td>\n",
       "    </tr>\n",
       "    <tr>\n",
       "      <th>826</th>\n",
       "      <td>11074</td>\n",
       "      <td>Simons bistro</td>\n",
       "      <td>None</td>\n",
       "      <td>1998-06-03</td>\n",
       "    </tr>\n",
       "    <tr>\n",
       "      <th>827</th>\n",
       "      <td>11075</td>\n",
       "      <td>Richter Supermarkt</td>\n",
       "      <td>None</td>\n",
       "      <td>1998-06-03</td>\n",
       "    </tr>\n",
       "    <tr>\n",
       "      <th>828</th>\n",
       "      <td>11076</td>\n",
       "      <td>Bon app'</td>\n",
       "      <td>None</td>\n",
       "      <td>1998-06-03</td>\n",
       "    </tr>\n",
       "    <tr>\n",
       "      <th>829</th>\n",
       "      <td>11077</td>\n",
       "      <td>Rattlesnake Canyon Grocery</td>\n",
       "      <td>None</td>\n",
       "      <td>1998-06-03</td>\n",
       "    </tr>\n",
       "  </tbody>\n",
       "</table>\n",
       "<p>830 rows × 4 columns</p>\n",
       "</div>"
      ],
      "text/plain": [
       "     order_id                company_name shipped_date required_date\n",
       "0       10248   Vins et alcools Chevalier   1996-07-16    1996-08-01\n",
       "1       10249          Toms Spezialitäten   1996-07-10    1996-08-16\n",
       "2       10250               Hanari Carnes   1996-07-12    1996-08-05\n",
       "3       10251        Victuailles en stock   1996-07-15    1996-08-05\n",
       "4       10252            Suprêmes délices   1996-07-11    1996-08-06\n",
       "..        ...                         ...          ...           ...\n",
       "825     11073   Pericles Comidas clásicas         None    1998-06-02\n",
       "826     11074               Simons bistro         None    1998-06-03\n",
       "827     11075          Richter Supermarkt         None    1998-06-03\n",
       "828     11076                    Bon app'         None    1998-06-03\n",
       "829     11077  Rattlesnake Canyon Grocery         None    1998-06-03\n",
       "\n",
       "[830 rows x 4 columns]"
      ]
     },
     "execution_count": 213,
     "metadata": {},
     "output_type": "execute_result"
    }
   ],
   "source": [
    "# 3. Pedidos con retraso, o sin registro de llegada. Determinar si la compañía tiene relación o no mediante boxplot\n",
    "\n",
    "df_pedidos_clientes_retrasos = df_pedidos_clientes[['order_id', 'company_name', 'shipped_date', 'required_date']]\n",
    "\n",
    "df_pedidos_clientes_retrasos"
   ]
  },
  {
   "cell_type": "code",
   "execution_count": 214,
   "metadata": {},
   "outputs": [
    {
     "data": {
      "text/html": [
       "<div>\n",
       "<style scoped>\n",
       "    .dataframe tbody tr th:only-of-type {\n",
       "        vertical-align: middle;\n",
       "    }\n",
       "\n",
       "    .dataframe tbody tr th {\n",
       "        vertical-align: top;\n",
       "    }\n",
       "\n",
       "    .dataframe thead th {\n",
       "        text-align: right;\n",
       "    }\n",
       "</style>\n",
       "<table border=\"1\" class=\"dataframe\">\n",
       "  <thead>\n",
       "    <tr style=\"text-align: right;\">\n",
       "      <th></th>\n",
       "      <th>order_id</th>\n",
       "      <th>company_name</th>\n",
       "      <th>shipped_date</th>\n",
       "      <th>required_date</th>\n",
       "      <th>diferencia_dias</th>\n",
       "    </tr>\n",
       "  </thead>\n",
       "  <tbody>\n",
       "    <tr>\n",
       "      <th>0</th>\n",
       "      <td>10248</td>\n",
       "      <td>Vins et alcools Chevalier</td>\n",
       "      <td>1996-07-16</td>\n",
       "      <td>1996-08-01</td>\n",
       "      <td>16</td>\n",
       "    </tr>\n",
       "    <tr>\n",
       "      <th>1</th>\n",
       "      <td>10249</td>\n",
       "      <td>Toms Spezialitäten</td>\n",
       "      <td>1996-07-10</td>\n",
       "      <td>1996-08-16</td>\n",
       "      <td>37</td>\n",
       "    </tr>\n",
       "    <tr>\n",
       "      <th>2</th>\n",
       "      <td>10250</td>\n",
       "      <td>Hanari Carnes</td>\n",
       "      <td>1996-07-12</td>\n",
       "      <td>1996-08-05</td>\n",
       "      <td>24</td>\n",
       "    </tr>\n",
       "    <tr>\n",
       "      <th>3</th>\n",
       "      <td>10251</td>\n",
       "      <td>Victuailles en stock</td>\n",
       "      <td>1996-07-15</td>\n",
       "      <td>1996-08-05</td>\n",
       "      <td>21</td>\n",
       "    </tr>\n",
       "    <tr>\n",
       "      <th>4</th>\n",
       "      <td>10252</td>\n",
       "      <td>Suprêmes délices</td>\n",
       "      <td>1996-07-11</td>\n",
       "      <td>1996-08-06</td>\n",
       "      <td>26</td>\n",
       "    </tr>\n",
       "    <tr>\n",
       "      <th>...</th>\n",
       "      <td>...</td>\n",
       "      <td>...</td>\n",
       "      <td>...</td>\n",
       "      <td>...</td>\n",
       "      <td>...</td>\n",
       "    </tr>\n",
       "    <tr>\n",
       "      <th>825</th>\n",
       "      <td>11073</td>\n",
       "      <td>Pericles Comidas clásicas</td>\n",
       "      <td>NaT</td>\n",
       "      <td>1998-06-02</td>\n",
       "      <td>0</td>\n",
       "    </tr>\n",
       "    <tr>\n",
       "      <th>826</th>\n",
       "      <td>11074</td>\n",
       "      <td>Simons bistro</td>\n",
       "      <td>NaT</td>\n",
       "      <td>1998-06-03</td>\n",
       "      <td>0</td>\n",
       "    </tr>\n",
       "    <tr>\n",
       "      <th>827</th>\n",
       "      <td>11075</td>\n",
       "      <td>Richter Supermarkt</td>\n",
       "      <td>NaT</td>\n",
       "      <td>1998-06-03</td>\n",
       "      <td>0</td>\n",
       "    </tr>\n",
       "    <tr>\n",
       "      <th>828</th>\n",
       "      <td>11076</td>\n",
       "      <td>Bon app'</td>\n",
       "      <td>NaT</td>\n",
       "      <td>1998-06-03</td>\n",
       "      <td>0</td>\n",
       "    </tr>\n",
       "    <tr>\n",
       "      <th>829</th>\n",
       "      <td>11077</td>\n",
       "      <td>Rattlesnake Canyon Grocery</td>\n",
       "      <td>NaT</td>\n",
       "      <td>1998-06-03</td>\n",
       "      <td>0</td>\n",
       "    </tr>\n",
       "  </tbody>\n",
       "</table>\n",
       "<p>830 rows × 5 columns</p>\n",
       "</div>"
      ],
      "text/plain": [
       "     order_id                company_name shipped_date required_date  \\\n",
       "0       10248   Vins et alcools Chevalier   1996-07-16    1996-08-01   \n",
       "1       10249          Toms Spezialitäten   1996-07-10    1996-08-16   \n",
       "2       10250               Hanari Carnes   1996-07-12    1996-08-05   \n",
       "3       10251        Victuailles en stock   1996-07-15    1996-08-05   \n",
       "4       10252            Suprêmes délices   1996-07-11    1996-08-06   \n",
       "..        ...                         ...          ...           ...   \n",
       "825     11073   Pericles Comidas clásicas          NaT    1998-06-02   \n",
       "826     11074               Simons bistro          NaT    1998-06-03   \n",
       "827     11075          Richter Supermarkt          NaT    1998-06-03   \n",
       "828     11076                    Bon app'          NaT    1998-06-03   \n",
       "829     11077  Rattlesnake Canyon Grocery          NaT    1998-06-03   \n",
       "\n",
       "     diferencia_dias  \n",
       "0                 16  \n",
       "1                 37  \n",
       "2                 24  \n",
       "3                 21  \n",
       "4                 26  \n",
       "..               ...  \n",
       "825                0  \n",
       "826                0  \n",
       "827                0  \n",
       "828                0  \n",
       "829                0  \n",
       "\n",
       "[830 rows x 5 columns]"
      ]
     },
     "execution_count": 214,
     "metadata": {},
     "output_type": "execute_result"
    }
   ],
   "source": [
    "# manipulación de las columnas 'shipped_date' y 'required_date' a tipo fecha para poder ver los días que pasan\n",
    "\n",
    "# Paso 1: Convertir las columnas a datetime\n",
    "df_pedidos_clientes_retrasos['shipped_date'] = pd.to_datetime(df_pedidos_clientes_retrasos['shipped_date'])\n",
    "df_pedidos_clientes_retrasos['required_date'] = pd.to_datetime(df_pedidos_clientes_retrasos['required_date'])\n",
    "\n",
    "# Paso 2: Restar las fechas y crear una nueva columna con la diferencia\n",
    "df_pedidos_clientes_retrasos['diferencia_dias'] = (df_pedidos_clientes_retrasos['required_date'] - df_pedidos_clientes_retrasos['shipped_date']).dt.days\n",
    "\n",
    "# pasamos a int y ponemos a 0 los nulos\n",
    "df_pedidos_clientes_retrasos['diferencia_dias'] = df_pedidos_clientes_retrasos['diferencia_dias'].fillna(0).astype(int)\n",
    "\n",
    "df_pedidos_clientes_retrasos\n"
   ]
  },
  {
   "cell_type": "code",
   "execution_count": 215,
   "metadata": {},
   "outputs": [
    {
     "data": {
      "text/html": [
       "<div>\n",
       "<style scoped>\n",
       "    .dataframe tbody tr th:only-of-type {\n",
       "        vertical-align: middle;\n",
       "    }\n",
       "\n",
       "    .dataframe tbody tr th {\n",
       "        vertical-align: top;\n",
       "    }\n",
       "\n",
       "    .dataframe thead th {\n",
       "        text-align: right;\n",
       "    }\n",
       "</style>\n",
       "<table border=\"1\" class=\"dataframe\">\n",
       "  <thead>\n",
       "    <tr style=\"text-align: right;\">\n",
       "      <th></th>\n",
       "      <th>order_id</th>\n",
       "      <th>company_name</th>\n",
       "      <th>shipped_date</th>\n",
       "      <th>required_date</th>\n",
       "      <th>diferencia_dias</th>\n",
       "    </tr>\n",
       "  </thead>\n",
       "  <tbody>\n",
       "    <tr>\n",
       "      <th>540</th>\n",
       "      <td>10788</td>\n",
       "      <td>QUICK-Stop</td>\n",
       "      <td>1998-01-19</td>\n",
       "      <td>1998-01-19</td>\n",
       "      <td>0</td>\n",
       "    </tr>\n",
       "    <tr>\n",
       "      <th>730</th>\n",
       "      <td>10978</td>\n",
       "      <td>Maison Dewey</td>\n",
       "      <td>1998-04-23</td>\n",
       "      <td>1998-04-23</td>\n",
       "      <td>0</td>\n",
       "    </tr>\n",
       "    <tr>\n",
       "      <th>750</th>\n",
       "      <td>10998</td>\n",
       "      <td>Wolski  Zajazd</td>\n",
       "      <td>1998-04-17</td>\n",
       "      <td>1998-04-17</td>\n",
       "      <td>0</td>\n",
       "    </tr>\n",
       "    <tr>\n",
       "      <th>760</th>\n",
       "      <td>11008</td>\n",
       "      <td>Ernst Handel</td>\n",
       "      <td>NaT</td>\n",
       "      <td>1998-05-06</td>\n",
       "      <td>0</td>\n",
       "    </tr>\n",
       "    <tr>\n",
       "      <th>771</th>\n",
       "      <td>11019</td>\n",
       "      <td>Rancho grande</td>\n",
       "      <td>NaT</td>\n",
       "      <td>1998-05-11</td>\n",
       "      <td>0</td>\n",
       "    </tr>\n",
       "  </tbody>\n",
       "</table>\n",
       "</div>"
      ],
      "text/plain": [
       "     order_id    company_name shipped_date required_date  diferencia_dias\n",
       "540     10788      QUICK-Stop   1998-01-19    1998-01-19                0\n",
       "730     10978    Maison Dewey   1998-04-23    1998-04-23                0\n",
       "750     10998  Wolski  Zajazd   1998-04-17    1998-04-17                0\n",
       "760     11008    Ernst Handel          NaT    1998-05-06                0\n",
       "771     11019   Rancho grande          NaT    1998-05-11                0"
      ]
     },
     "execution_count": 215,
     "metadata": {},
     "output_type": "execute_result"
    }
   ],
   "source": [
    "df_pedidos_clientes_no_llegan = df_pedidos_clientes_retrasos[df_pedidos_clientes_retrasos['diferencia_dias'] == 0]\n",
    "\n",
    "df_pedidos_clientes_no_llegan.head()"
   ]
  },
  {
   "cell_type": "code",
   "execution_count": 216,
   "metadata": {},
   "outputs": [
    {
     "data": {
      "text/html": [
       "<div>\n",
       "<style scoped>\n",
       "    .dataframe tbody tr th:only-of-type {\n",
       "        vertical-align: middle;\n",
       "    }\n",
       "\n",
       "    .dataframe tbody tr th {\n",
       "        vertical-align: top;\n",
       "    }\n",
       "\n",
       "    .dataframe thead th {\n",
       "        text-align: right;\n",
       "    }\n",
       "</style>\n",
       "<table border=\"1\" class=\"dataframe\">\n",
       "  <thead>\n",
       "    <tr style=\"text-align: right;\">\n",
       "      <th></th>\n",
       "      <th>company_name</th>\n",
       "      <th>diferencia_dias</th>\n",
       "    </tr>\n",
       "  </thead>\n",
       "  <tbody>\n",
       "    <tr>\n",
       "      <th>0</th>\n",
       "      <td>Alfreds Futterkiste</td>\n",
       "      <td>6</td>\n",
       "    </tr>\n",
       "    <tr>\n",
       "      <th>1</th>\n",
       "      <td>Ana Trujillo Emparedados y helados</td>\n",
       "      <td>4</td>\n",
       "    </tr>\n",
       "    <tr>\n",
       "      <th>2</th>\n",
       "      <td>Antonio Moreno Taquería</td>\n",
       "      <td>7</td>\n",
       "    </tr>\n",
       "    <tr>\n",
       "      <th>3</th>\n",
       "      <td>Around the Horn</td>\n",
       "      <td>13</td>\n",
       "    </tr>\n",
       "    <tr>\n",
       "      <th>4</th>\n",
       "      <td>B's Beverages</td>\n",
       "      <td>10</td>\n",
       "    </tr>\n",
       "    <tr>\n",
       "      <th>...</th>\n",
       "      <td>...</td>\n",
       "      <td>...</td>\n",
       "    </tr>\n",
       "    <tr>\n",
       "      <th>84</th>\n",
       "      <td>Wartian Herkku</td>\n",
       "      <td>15</td>\n",
       "    </tr>\n",
       "    <tr>\n",
       "      <th>85</th>\n",
       "      <td>Wellington Importadora</td>\n",
       "      <td>9</td>\n",
       "    </tr>\n",
       "    <tr>\n",
       "      <th>86</th>\n",
       "      <td>White Clover Markets</td>\n",
       "      <td>14</td>\n",
       "    </tr>\n",
       "    <tr>\n",
       "      <th>87</th>\n",
       "      <td>Wilman Kala</td>\n",
       "      <td>7</td>\n",
       "    </tr>\n",
       "    <tr>\n",
       "      <th>88</th>\n",
       "      <td>Wolski  Zajazd</td>\n",
       "      <td>7</td>\n",
       "    </tr>\n",
       "  </tbody>\n",
       "</table>\n",
       "<p>89 rows × 2 columns</p>\n",
       "</div>"
      ],
      "text/plain": [
       "                          company_name  diferencia_dias\n",
       "0                  Alfreds Futterkiste                6\n",
       "1   Ana Trujillo Emparedados y helados                4\n",
       "2              Antonio Moreno Taquería                7\n",
       "3                      Around the Horn               13\n",
       "4                        B's Beverages               10\n",
       "..                                 ...              ...\n",
       "84                      Wartian Herkku               15\n",
       "85              Wellington Importadora                9\n",
       "86                White Clover Markets               14\n",
       "87                         Wilman Kala                7\n",
       "88                      Wolski  Zajazd                7\n",
       "\n",
       "[89 rows x 2 columns]"
      ]
     },
     "execution_count": 216,
     "metadata": {},
     "output_type": "execute_result"
    }
   ],
   "source": [
    "df_pedidos_clientes_retrasos_por_compañia = df_pedidos_clientes_retrasos.groupby('company_name')[['diferencia_dias']].count().reset_index()\n",
    "df_pedidos_clientes_retrasos_por_compañia"
   ]
  },
  {
   "cell_type": "code",
   "execution_count": 217,
   "metadata": {},
   "outputs": [
    {
     "data": {
      "application/vnd.plotly.v1+json": {
       "config": {
        "plotlyServerURL": "https://plot.ly"
       },
       "data": [
        {
         "alignmentgroup": "True",
         "hovertemplate": "diferencia_dias=%{x}<extra></extra>",
         "legendgroup": "",
         "marker": {
          "color": "#636efa"
         },
         "name": "",
         "notched": false,
         "offsetgroup": "",
         "orientation": "h",
         "showlegend": false,
         "type": "box",
         "x": [
          6,
          4,
          7,
          13,
          10,
          18,
          7,
          11,
          17,
          14,
          3,
          6,
          1,
          8,
          5,
          3,
          10,
          6,
          4,
          8,
          30,
          7,
          5,
          19,
          3,
          6,
          15,
          8,
          2,
          5,
          10,
          9,
          11,
          18,
          14,
          5,
          19,
          10,
          14,
          14,
          12,
          4,
          14,
          3,
          2,
          15,
          4,
          8,
          10,
          7,
          5,
          13,
          3,
          5,
          10,
          10,
          6,
          10,
          5,
          28,
          9,
          13,
          5,
          18,
          12,
          11,
          10,
          5,
          6,
          31,
          9,
          7,
          9,
          4,
          12,
          4,
          3,
          6,
          10,
          6,
          3,
          11,
          10,
          5,
          15,
          9,
          14,
          7,
          7
         ],
         "x0": " ",
         "xaxis": "x",
         "y0": " ",
         "yaxis": "y"
        }
       ],
       "layout": {
        "boxmode": "group",
        "legend": {
         "tracegroupgap": 0
        },
        "margin": {
         "t": 60
        },
        "template": {
         "data": {
          "bar": [
           {
            "error_x": {
             "color": "#2a3f5f"
            },
            "error_y": {
             "color": "#2a3f5f"
            },
            "marker": {
             "line": {
              "color": "#E5ECF6",
              "width": 0.5
             },
             "pattern": {
              "fillmode": "overlay",
              "size": 10,
              "solidity": 0.2
             }
            },
            "type": "bar"
           }
          ],
          "barpolar": [
           {
            "marker": {
             "line": {
              "color": "#E5ECF6",
              "width": 0.5
             },
             "pattern": {
              "fillmode": "overlay",
              "size": 10,
              "solidity": 0.2
             }
            },
            "type": "barpolar"
           }
          ],
          "carpet": [
           {
            "aaxis": {
             "endlinecolor": "#2a3f5f",
             "gridcolor": "white",
             "linecolor": "white",
             "minorgridcolor": "white",
             "startlinecolor": "#2a3f5f"
            },
            "baxis": {
             "endlinecolor": "#2a3f5f",
             "gridcolor": "white",
             "linecolor": "white",
             "minorgridcolor": "white",
             "startlinecolor": "#2a3f5f"
            },
            "type": "carpet"
           }
          ],
          "choropleth": [
           {
            "colorbar": {
             "outlinewidth": 0,
             "ticks": ""
            },
            "type": "choropleth"
           }
          ],
          "contour": [
           {
            "colorbar": {
             "outlinewidth": 0,
             "ticks": ""
            },
            "colorscale": [
             [
              0,
              "#0d0887"
             ],
             [
              0.1111111111111111,
              "#46039f"
             ],
             [
              0.2222222222222222,
              "#7201a8"
             ],
             [
              0.3333333333333333,
              "#9c179e"
             ],
             [
              0.4444444444444444,
              "#bd3786"
             ],
             [
              0.5555555555555556,
              "#d8576b"
             ],
             [
              0.6666666666666666,
              "#ed7953"
             ],
             [
              0.7777777777777778,
              "#fb9f3a"
             ],
             [
              0.8888888888888888,
              "#fdca26"
             ],
             [
              1,
              "#f0f921"
             ]
            ],
            "type": "contour"
           }
          ],
          "contourcarpet": [
           {
            "colorbar": {
             "outlinewidth": 0,
             "ticks": ""
            },
            "type": "contourcarpet"
           }
          ],
          "heatmap": [
           {
            "colorbar": {
             "outlinewidth": 0,
             "ticks": ""
            },
            "colorscale": [
             [
              0,
              "#0d0887"
             ],
             [
              0.1111111111111111,
              "#46039f"
             ],
             [
              0.2222222222222222,
              "#7201a8"
             ],
             [
              0.3333333333333333,
              "#9c179e"
             ],
             [
              0.4444444444444444,
              "#bd3786"
             ],
             [
              0.5555555555555556,
              "#d8576b"
             ],
             [
              0.6666666666666666,
              "#ed7953"
             ],
             [
              0.7777777777777778,
              "#fb9f3a"
             ],
             [
              0.8888888888888888,
              "#fdca26"
             ],
             [
              1,
              "#f0f921"
             ]
            ],
            "type": "heatmap"
           }
          ],
          "heatmapgl": [
           {
            "colorbar": {
             "outlinewidth": 0,
             "ticks": ""
            },
            "colorscale": [
             [
              0,
              "#0d0887"
             ],
             [
              0.1111111111111111,
              "#46039f"
             ],
             [
              0.2222222222222222,
              "#7201a8"
             ],
             [
              0.3333333333333333,
              "#9c179e"
             ],
             [
              0.4444444444444444,
              "#bd3786"
             ],
             [
              0.5555555555555556,
              "#d8576b"
             ],
             [
              0.6666666666666666,
              "#ed7953"
             ],
             [
              0.7777777777777778,
              "#fb9f3a"
             ],
             [
              0.8888888888888888,
              "#fdca26"
             ],
             [
              1,
              "#f0f921"
             ]
            ],
            "type": "heatmapgl"
           }
          ],
          "histogram": [
           {
            "marker": {
             "pattern": {
              "fillmode": "overlay",
              "size": 10,
              "solidity": 0.2
             }
            },
            "type": "histogram"
           }
          ],
          "histogram2d": [
           {
            "colorbar": {
             "outlinewidth": 0,
             "ticks": ""
            },
            "colorscale": [
             [
              0,
              "#0d0887"
             ],
             [
              0.1111111111111111,
              "#46039f"
             ],
             [
              0.2222222222222222,
              "#7201a8"
             ],
             [
              0.3333333333333333,
              "#9c179e"
             ],
             [
              0.4444444444444444,
              "#bd3786"
             ],
             [
              0.5555555555555556,
              "#d8576b"
             ],
             [
              0.6666666666666666,
              "#ed7953"
             ],
             [
              0.7777777777777778,
              "#fb9f3a"
             ],
             [
              0.8888888888888888,
              "#fdca26"
             ],
             [
              1,
              "#f0f921"
             ]
            ],
            "type": "histogram2d"
           }
          ],
          "histogram2dcontour": [
           {
            "colorbar": {
             "outlinewidth": 0,
             "ticks": ""
            },
            "colorscale": [
             [
              0,
              "#0d0887"
             ],
             [
              0.1111111111111111,
              "#46039f"
             ],
             [
              0.2222222222222222,
              "#7201a8"
             ],
             [
              0.3333333333333333,
              "#9c179e"
             ],
             [
              0.4444444444444444,
              "#bd3786"
             ],
             [
              0.5555555555555556,
              "#d8576b"
             ],
             [
              0.6666666666666666,
              "#ed7953"
             ],
             [
              0.7777777777777778,
              "#fb9f3a"
             ],
             [
              0.8888888888888888,
              "#fdca26"
             ],
             [
              1,
              "#f0f921"
             ]
            ],
            "type": "histogram2dcontour"
           }
          ],
          "mesh3d": [
           {
            "colorbar": {
             "outlinewidth": 0,
             "ticks": ""
            },
            "type": "mesh3d"
           }
          ],
          "parcoords": [
           {
            "line": {
             "colorbar": {
              "outlinewidth": 0,
              "ticks": ""
             }
            },
            "type": "parcoords"
           }
          ],
          "pie": [
           {
            "automargin": true,
            "type": "pie"
           }
          ],
          "scatter": [
           {
            "fillpattern": {
             "fillmode": "overlay",
             "size": 10,
             "solidity": 0.2
            },
            "type": "scatter"
           }
          ],
          "scatter3d": [
           {
            "line": {
             "colorbar": {
              "outlinewidth": 0,
              "ticks": ""
             }
            },
            "marker": {
             "colorbar": {
              "outlinewidth": 0,
              "ticks": ""
             }
            },
            "type": "scatter3d"
           }
          ],
          "scattercarpet": [
           {
            "marker": {
             "colorbar": {
              "outlinewidth": 0,
              "ticks": ""
             }
            },
            "type": "scattercarpet"
           }
          ],
          "scattergeo": [
           {
            "marker": {
             "colorbar": {
              "outlinewidth": 0,
              "ticks": ""
             }
            },
            "type": "scattergeo"
           }
          ],
          "scattergl": [
           {
            "marker": {
             "colorbar": {
              "outlinewidth": 0,
              "ticks": ""
             }
            },
            "type": "scattergl"
           }
          ],
          "scattermapbox": [
           {
            "marker": {
             "colorbar": {
              "outlinewidth": 0,
              "ticks": ""
             }
            },
            "type": "scattermapbox"
           }
          ],
          "scatterpolar": [
           {
            "marker": {
             "colorbar": {
              "outlinewidth": 0,
              "ticks": ""
             }
            },
            "type": "scatterpolar"
           }
          ],
          "scatterpolargl": [
           {
            "marker": {
             "colorbar": {
              "outlinewidth": 0,
              "ticks": ""
             }
            },
            "type": "scatterpolargl"
           }
          ],
          "scatterternary": [
           {
            "marker": {
             "colorbar": {
              "outlinewidth": 0,
              "ticks": ""
             }
            },
            "type": "scatterternary"
           }
          ],
          "surface": [
           {
            "colorbar": {
             "outlinewidth": 0,
             "ticks": ""
            },
            "colorscale": [
             [
              0,
              "#0d0887"
             ],
             [
              0.1111111111111111,
              "#46039f"
             ],
             [
              0.2222222222222222,
              "#7201a8"
             ],
             [
              0.3333333333333333,
              "#9c179e"
             ],
             [
              0.4444444444444444,
              "#bd3786"
             ],
             [
              0.5555555555555556,
              "#d8576b"
             ],
             [
              0.6666666666666666,
              "#ed7953"
             ],
             [
              0.7777777777777778,
              "#fb9f3a"
             ],
             [
              0.8888888888888888,
              "#fdca26"
             ],
             [
              1,
              "#f0f921"
             ]
            ],
            "type": "surface"
           }
          ],
          "table": [
           {
            "cells": {
             "fill": {
              "color": "#EBF0F8"
             },
             "line": {
              "color": "white"
             }
            },
            "header": {
             "fill": {
              "color": "#C8D4E3"
             },
             "line": {
              "color": "white"
             }
            },
            "type": "table"
           }
          ]
         },
         "layout": {
          "annotationdefaults": {
           "arrowcolor": "#2a3f5f",
           "arrowhead": 0,
           "arrowwidth": 1
          },
          "autotypenumbers": "strict",
          "coloraxis": {
           "colorbar": {
            "outlinewidth": 0,
            "ticks": ""
           }
          },
          "colorscale": {
           "diverging": [
            [
             0,
             "#8e0152"
            ],
            [
             0.1,
             "#c51b7d"
            ],
            [
             0.2,
             "#de77ae"
            ],
            [
             0.3,
             "#f1b6da"
            ],
            [
             0.4,
             "#fde0ef"
            ],
            [
             0.5,
             "#f7f7f7"
            ],
            [
             0.6,
             "#e6f5d0"
            ],
            [
             0.7,
             "#b8e186"
            ],
            [
             0.8,
             "#7fbc41"
            ],
            [
             0.9,
             "#4d9221"
            ],
            [
             1,
             "#276419"
            ]
           ],
           "sequential": [
            [
             0,
             "#0d0887"
            ],
            [
             0.1111111111111111,
             "#46039f"
            ],
            [
             0.2222222222222222,
             "#7201a8"
            ],
            [
             0.3333333333333333,
             "#9c179e"
            ],
            [
             0.4444444444444444,
             "#bd3786"
            ],
            [
             0.5555555555555556,
             "#d8576b"
            ],
            [
             0.6666666666666666,
             "#ed7953"
            ],
            [
             0.7777777777777778,
             "#fb9f3a"
            ],
            [
             0.8888888888888888,
             "#fdca26"
            ],
            [
             1,
             "#f0f921"
            ]
           ],
           "sequentialminus": [
            [
             0,
             "#0d0887"
            ],
            [
             0.1111111111111111,
             "#46039f"
            ],
            [
             0.2222222222222222,
             "#7201a8"
            ],
            [
             0.3333333333333333,
             "#9c179e"
            ],
            [
             0.4444444444444444,
             "#bd3786"
            ],
            [
             0.5555555555555556,
             "#d8576b"
            ],
            [
             0.6666666666666666,
             "#ed7953"
            ],
            [
             0.7777777777777778,
             "#fb9f3a"
            ],
            [
             0.8888888888888888,
             "#fdca26"
            ],
            [
             1,
             "#f0f921"
            ]
           ]
          },
          "colorway": [
           "#636efa",
           "#EF553B",
           "#00cc96",
           "#ab63fa",
           "#FFA15A",
           "#19d3f3",
           "#FF6692",
           "#B6E880",
           "#FF97FF",
           "#FECB52"
          ],
          "font": {
           "color": "#2a3f5f"
          },
          "geo": {
           "bgcolor": "white",
           "lakecolor": "white",
           "landcolor": "#E5ECF6",
           "showlakes": true,
           "showland": true,
           "subunitcolor": "white"
          },
          "hoverlabel": {
           "align": "left"
          },
          "hovermode": "closest",
          "mapbox": {
           "style": "light"
          },
          "paper_bgcolor": "white",
          "plot_bgcolor": "#E5ECF6",
          "polar": {
           "angularaxis": {
            "gridcolor": "white",
            "linecolor": "white",
            "ticks": ""
           },
           "bgcolor": "#E5ECF6",
           "radialaxis": {
            "gridcolor": "white",
            "linecolor": "white",
            "ticks": ""
           }
          },
          "scene": {
           "xaxis": {
            "backgroundcolor": "#E5ECF6",
            "gridcolor": "white",
            "gridwidth": 2,
            "linecolor": "white",
            "showbackground": true,
            "ticks": "",
            "zerolinecolor": "white"
           },
           "yaxis": {
            "backgroundcolor": "#E5ECF6",
            "gridcolor": "white",
            "gridwidth": 2,
            "linecolor": "white",
            "showbackground": true,
            "ticks": "",
            "zerolinecolor": "white"
           },
           "zaxis": {
            "backgroundcolor": "#E5ECF6",
            "gridcolor": "white",
            "gridwidth": 2,
            "linecolor": "white",
            "showbackground": true,
            "ticks": "",
            "zerolinecolor": "white"
           }
          },
          "shapedefaults": {
           "line": {
            "color": "#2a3f5f"
           }
          },
          "ternary": {
           "aaxis": {
            "gridcolor": "white",
            "linecolor": "white",
            "ticks": ""
           },
           "baxis": {
            "gridcolor": "white",
            "linecolor": "white",
            "ticks": ""
           },
           "bgcolor": "#E5ECF6",
           "caxis": {
            "gridcolor": "white",
            "linecolor": "white",
            "ticks": ""
           }
          },
          "title": {
           "x": 0.05
          },
          "xaxis": {
           "automargin": true,
           "gridcolor": "white",
           "linecolor": "white",
           "ticks": "",
           "title": {
            "standoff": 15
           },
           "zerolinecolor": "white",
           "zerolinewidth": 2
          },
          "yaxis": {
           "automargin": true,
           "gridcolor": "white",
           "linecolor": "white",
           "ticks": "",
           "title": {
            "standoff": 15
           },
           "zerolinecolor": "white",
           "zerolinewidth": 2
          }
         }
        },
        "title": {
         "automargin": true,
         "font": {
          "size": 20
         },
         "text": "Días en tránsito de los pedidos (required date - shipped date)",
         "x": 0.2,
         "y": 1,
         "yref": "paper"
        },
        "xaxis": {
         "anchor": "y",
         "domain": [
          0,
          1
         ],
         "title": {
          "text": "diferencia_dias"
         }
        },
        "yaxis": {
         "anchor": "x",
         "domain": [
          0,
          1
         ]
        }
       }
      }
     },
     "metadata": {},
     "output_type": "display_data"
    }
   ],
   "source": [
    "fig = px.box(df_pedidos_clientes_retrasos_por_compañia, x = 'diferencia_dias',labels = {'Diferencia de dias':'Diferencia de dias'})\n",
    "fig.update_layout(title = dict(text = \"Días en tránsito de los pedidos (required date - shipped date)\", font = dict(size = 20), automargin = True, yref = 'paper', x = 0.2,y = 1))\n",
    "\n",
    "fig.show()\n",
    "\n",
    "# se determina una mediana en 8 días, y los rangos son para el primer de 5, y para el tercero de 12. Hay 3 outliers en 28, 30 y 31 días."
   ]
  },
  {
   "cell_type": "code",
   "execution_count": 218,
   "metadata": {},
   "outputs": [
    {
     "data": {
      "text/html": [
       "<div>\n",
       "<style scoped>\n",
       "    .dataframe tbody tr th:only-of-type {\n",
       "        vertical-align: middle;\n",
       "    }\n",
       "\n",
       "    .dataframe tbody tr th {\n",
       "        vertical-align: top;\n",
       "    }\n",
       "\n",
       "    .dataframe thead th {\n",
       "        text-align: right;\n",
       "    }\n",
       "</style>\n",
       "<table border=\"1\" class=\"dataframe\">\n",
       "  <thead>\n",
       "    <tr style=\"text-align: right;\">\n",
       "      <th></th>\n",
       "      <th>company_name</th>\n",
       "      <th>diferencia_dias</th>\n",
       "    </tr>\n",
       "  </thead>\n",
       "  <tbody>\n",
       "    <tr>\n",
       "      <th>69</th>\n",
       "      <td>Save-a-lot Markets</td>\n",
       "      <td>622</td>\n",
       "    </tr>\n",
       "    <tr>\n",
       "      <th>20</th>\n",
       "      <td>Ernst Handel</td>\n",
       "      <td>583</td>\n",
       "    </tr>\n",
       "    <tr>\n",
       "      <th>59</th>\n",
       "      <td>QUICK-Stop</td>\n",
       "      <td>462</td>\n",
       "    </tr>\n",
       "    <tr>\n",
       "      <th>23</th>\n",
       "      <td>Folk och fä HB</td>\n",
       "      <td>363</td>\n",
       "    </tr>\n",
       "    <tr>\n",
       "      <th>63</th>\n",
       "      <td>Rattlesnake Canyon Grocery</td>\n",
       "      <td>353</td>\n",
       "    </tr>\n",
       "  </tbody>\n",
       "</table>\n",
       "</div>"
      ],
      "text/plain": [
       "                  company_name  diferencia_dias\n",
       "69          Save-a-lot Markets              622\n",
       "20                Ernst Handel              583\n",
       "59                  QUICK-Stop              462\n",
       "23              Folk och fä HB              363\n",
       "63  Rattlesnake Canyon Grocery              353"
      ]
     },
     "execution_count": 218,
     "metadata": {},
     "output_type": "execute_result"
    }
   ],
   "source": [
    "# determinar las 5 empresas que más retrasos acumulan \n",
    "df_pedidos_clientes_retrasos_por_compañia = df_pedidos_clientes_retrasos.groupby('company_name')[['diferencia_dias']].sum().reset_index()\n",
    "\n",
    "df_pedidos_clientes_retrasos_por_compañia.sort_values(\"diferencia_dias\", axis=0, ascending=False, inplace=True, na_position='first')\n",
    "\n",
    "df_pedidos_clientes_retrasos_por_compañia.head()"
   ]
  },
  {
   "cell_type": "code",
   "execution_count": 219,
   "metadata": {},
   "outputs": [
    {
     "data": {
      "text/html": [
       "<div>\n",
       "<style scoped>\n",
       "    .dataframe tbody tr th:only-of-type {\n",
       "        vertical-align: middle;\n",
       "    }\n",
       "\n",
       "    .dataframe tbody tr th {\n",
       "        vertical-align: top;\n",
       "    }\n",
       "\n",
       "    .dataframe thead th {\n",
       "        text-align: right;\n",
       "    }\n",
       "</style>\n",
       "<table border=\"1\" class=\"dataframe\">\n",
       "  <thead>\n",
       "    <tr style=\"text-align: right;\">\n",
       "      <th></th>\n",
       "      <th>order_id</th>\n",
       "      <th>company_name</th>\n",
       "      <th>shipped_date</th>\n",
       "      <th>required_date</th>\n",
       "      <th>diferencia_dias</th>\n",
       "    </tr>\n",
       "  </thead>\n",
       "  <tbody>\n",
       "    <tr>\n",
       "      <th>76</th>\n",
       "      <td>10324</td>\n",
       "      <td>Save-a-lot Markets</td>\n",
       "      <td>1996-10-10</td>\n",
       "      <td>1996-11-05</td>\n",
       "      <td>26</td>\n",
       "    </tr>\n",
       "    <tr>\n",
       "      <th>145</th>\n",
       "      <td>10393</td>\n",
       "      <td>Save-a-lot Markets</td>\n",
       "      <td>1997-01-03</td>\n",
       "      <td>1997-01-22</td>\n",
       "      <td>19</td>\n",
       "    </tr>\n",
       "    <tr>\n",
       "      <th>150</th>\n",
       "      <td>10398</td>\n",
       "      <td>Save-a-lot Markets</td>\n",
       "      <td>1997-01-09</td>\n",
       "      <td>1997-01-27</td>\n",
       "      <td>18</td>\n",
       "    </tr>\n",
       "    <tr>\n",
       "      <th>192</th>\n",
       "      <td>10440</td>\n",
       "      <td>Save-a-lot Markets</td>\n",
       "      <td>1997-02-28</td>\n",
       "      <td>1997-03-10</td>\n",
       "      <td>10</td>\n",
       "    </tr>\n",
       "    <tr>\n",
       "      <th>204</th>\n",
       "      <td>10452</td>\n",
       "      <td>Save-a-lot Markets</td>\n",
       "      <td>1997-02-26</td>\n",
       "      <td>1997-03-20</td>\n",
       "      <td>22</td>\n",
       "    </tr>\n",
       "  </tbody>\n",
       "</table>\n",
       "</div>"
      ],
      "text/plain": [
       "     order_id        company_name shipped_date required_date  diferencia_dias\n",
       "76      10324  Save-a-lot Markets   1996-10-10    1996-11-05               26\n",
       "145     10393  Save-a-lot Markets   1997-01-03    1997-01-22               19\n",
       "150     10398  Save-a-lot Markets   1997-01-09    1997-01-27               18\n",
       "192     10440  Save-a-lot Markets   1997-02-28    1997-03-10               10\n",
       "204     10452  Save-a-lot Markets   1997-02-26    1997-03-20               22"
      ]
     },
     "execution_count": 219,
     "metadata": {},
     "output_type": "execute_result"
    }
   ],
   "source": [
    "# comprobación del detalle de pedidos de la empresa con más retraso (Save a lot of Markets)\n",
    "df_save_a_lot_markets = df_pedidos_clientes_retrasos[df_pedidos_clientes_retrasos['company_name'] == 'Save-a-lot Markets']\n",
    "df_save_a_lot_markets.head()"
   ]
  },
  {
   "cell_type": "code",
   "execution_count": 220,
   "metadata": {},
   "outputs": [
    {
     "data": {
      "text/html": [
       "<div>\n",
       "<style scoped>\n",
       "    .dataframe tbody tr th:only-of-type {\n",
       "        vertical-align: middle;\n",
       "    }\n",
       "\n",
       "    .dataframe tbody tr th {\n",
       "        vertical-align: top;\n",
       "    }\n",
       "\n",
       "    .dataframe thead th {\n",
       "        text-align: right;\n",
       "    }\n",
       "</style>\n",
       "<table border=\"1\" class=\"dataframe\">\n",
       "  <thead>\n",
       "    <tr style=\"text-align: right;\">\n",
       "      <th></th>\n",
       "      <th>order_id</th>\n",
       "      <th>precio_total</th>\n",
       "    </tr>\n",
       "  </thead>\n",
       "  <tbody>\n",
       "    <tr>\n",
       "      <th>0</th>\n",
       "      <td>10865</td>\n",
       "      <td>17250.00</td>\n",
       "    </tr>\n",
       "    <tr>\n",
       "      <th>1</th>\n",
       "      <td>11030</td>\n",
       "      <td>16321.90</td>\n",
       "    </tr>\n",
       "    <tr>\n",
       "      <th>2</th>\n",
       "      <td>10981</td>\n",
       "      <td>15810.00</td>\n",
       "    </tr>\n",
       "    <tr>\n",
       "      <th>3</th>\n",
       "      <td>10372</td>\n",
       "      <td>12281.20</td>\n",
       "    </tr>\n",
       "    <tr>\n",
       "      <th>4</th>\n",
       "      <td>10424</td>\n",
       "      <td>11493.20</td>\n",
       "    </tr>\n",
       "    <tr>\n",
       "      <th>...</th>\n",
       "      <td>...</td>\n",
       "      <td>...</td>\n",
       "    </tr>\n",
       "    <tr>\n",
       "      <th>825</th>\n",
       "      <td>10898</td>\n",
       "      <td>30.00</td>\n",
       "    </tr>\n",
       "    <tr>\n",
       "      <th>826</th>\n",
       "      <td>10586</td>\n",
       "      <td>28.00</td>\n",
       "    </tr>\n",
       "    <tr>\n",
       "      <th>827</th>\n",
       "      <td>10767</td>\n",
       "      <td>28.00</td>\n",
       "    </tr>\n",
       "    <tr>\n",
       "      <th>828</th>\n",
       "      <td>10807</td>\n",
       "      <td>18.40</td>\n",
       "    </tr>\n",
       "    <tr>\n",
       "      <th>829</th>\n",
       "      <td>10782</td>\n",
       "      <td>12.50</td>\n",
       "    </tr>\n",
       "  </tbody>\n",
       "</table>\n",
       "<p>830 rows × 2 columns</p>\n",
       "</div>"
      ],
      "text/plain": [
       "     order_id precio_total\n",
       "0       10865     17250.00\n",
       "1       11030     16321.90\n",
       "2       10981     15810.00\n",
       "3       10372     12281.20\n",
       "4       10424     11493.20\n",
       "..        ...          ...\n",
       "825     10898        30.00\n",
       "826     10586        28.00\n",
       "827     10767        28.00\n",
       "828     10807        18.40\n",
       "829     10782        12.50\n",
       "\n",
       "[830 rows x 2 columns]"
      ]
     },
     "execution_count": 220,
     "metadata": {},
     "output_type": "execute_result"
    }
   ],
   "source": [
    "# 4. Distribución media del precio del pedido por país de procedencia del cliente.\n",
    "sql_query = ''' SELECT \"order_id\", ROUND(CAST(SUM(\"unit_price\" * \"quantity\") AS NUMERIC), 2) AS precio_total\n",
    "FROM order_details\n",
    "GROUP BY \"order_id\"\n",
    "ORDER BY precio_total DESC\n",
    " '''\n",
    "df_detalle_pedidos = ejecutar_query(sql_query)\n",
    "df_detalle_pedidos"
   ]
  },
  {
   "cell_type": "code",
   "execution_count": 221,
   "metadata": {},
   "outputs": [
    {
     "data": {
      "text/html": [
       "<div>\n",
       "<style scoped>\n",
       "    .dataframe tbody tr th:only-of-type {\n",
       "        vertical-align: middle;\n",
       "    }\n",
       "\n",
       "    .dataframe tbody tr th {\n",
       "        vertical-align: top;\n",
       "    }\n",
       "\n",
       "    .dataframe thead th {\n",
       "        text-align: right;\n",
       "    }\n",
       "</style>\n",
       "<table border=\"1\" class=\"dataframe\">\n",
       "  <thead>\n",
       "    <tr style=\"text-align: right;\">\n",
       "      <th></th>\n",
       "      <th>order_id</th>\n",
       "      <th>precio_total</th>\n",
       "      <th>country</th>\n",
       "    </tr>\n",
       "  </thead>\n",
       "  <tbody>\n",
       "    <tr>\n",
       "      <th>0</th>\n",
       "      <td>10865</td>\n",
       "      <td>17250.00</td>\n",
       "      <td>Germany</td>\n",
       "    </tr>\n",
       "    <tr>\n",
       "      <th>1</th>\n",
       "      <td>11030</td>\n",
       "      <td>16321.90</td>\n",
       "      <td>USA</td>\n",
       "    </tr>\n",
       "    <tr>\n",
       "      <th>2</th>\n",
       "      <td>10981</td>\n",
       "      <td>15810.00</td>\n",
       "      <td>Brazil</td>\n",
       "    </tr>\n",
       "    <tr>\n",
       "      <th>3</th>\n",
       "      <td>10372</td>\n",
       "      <td>12281.20</td>\n",
       "      <td>Brazil</td>\n",
       "    </tr>\n",
       "    <tr>\n",
       "      <th>4</th>\n",
       "      <td>10424</td>\n",
       "      <td>11493.20</td>\n",
       "      <td>Canada</td>\n",
       "    </tr>\n",
       "    <tr>\n",
       "      <th>...</th>\n",
       "      <td>...</td>\n",
       "      <td>...</td>\n",
       "      <td>...</td>\n",
       "    </tr>\n",
       "    <tr>\n",
       "      <th>825</th>\n",
       "      <td>10898</td>\n",
       "      <td>30.00</td>\n",
       "      <td>Argentina</td>\n",
       "    </tr>\n",
       "    <tr>\n",
       "      <th>826</th>\n",
       "      <td>10586</td>\n",
       "      <td>28.00</td>\n",
       "      <td>Italy</td>\n",
       "    </tr>\n",
       "    <tr>\n",
       "      <th>827</th>\n",
       "      <td>10767</td>\n",
       "      <td>28.00</td>\n",
       "      <td>Belgium</td>\n",
       "    </tr>\n",
       "    <tr>\n",
       "      <th>828</th>\n",
       "      <td>10807</td>\n",
       "      <td>18.40</td>\n",
       "      <td>Italy</td>\n",
       "    </tr>\n",
       "    <tr>\n",
       "      <th>829</th>\n",
       "      <td>10782</td>\n",
       "      <td>12.50</td>\n",
       "      <td>Argentina</td>\n",
       "    </tr>\n",
       "  </tbody>\n",
       "</table>\n",
       "<p>830 rows × 3 columns</p>\n",
       "</div>"
      ],
      "text/plain": [
       "     order_id precio_total    country\n",
       "0       10865     17250.00    Germany\n",
       "1       11030     16321.90        USA\n",
       "2       10981     15810.00     Brazil\n",
       "3       10372     12281.20     Brazil\n",
       "4       10424     11493.20     Canada\n",
       "..        ...          ...        ...\n",
       "825     10898        30.00  Argentina\n",
       "826     10586        28.00      Italy\n",
       "827     10767        28.00    Belgium\n",
       "828     10807        18.40      Italy\n",
       "829     10782        12.50  Argentina\n",
       "\n",
       "[830 rows x 3 columns]"
      ]
     },
     "execution_count": 221,
     "metadata": {},
     "output_type": "execute_result"
    }
   ],
   "source": [
    "# combinamos el DF principal de pedidos-clientes con el nuevo de detalle-pedidos, y nos quedamos solo con las 3 columnas que nos interesan\n",
    "df_detalle_pedidos_cliente = df_detalle_pedidos.merge(df_pedidos_clientes, on=\"order_id\")\n",
    "\n",
    "df_detalle_pedidos_cliente_pais = df_detalle_pedidos_cliente[['order_id', 'precio_total', 'country']]\n",
    "df_detalle_pedidos_cliente_pais"
   ]
  },
  {
   "cell_type": "code",
   "execution_count": 222,
   "metadata": {},
   "outputs": [
    {
     "data": {
      "text/html": [
       "<div>\n",
       "<style scoped>\n",
       "    .dataframe tbody tr th:only-of-type {\n",
       "        vertical-align: middle;\n",
       "    }\n",
       "\n",
       "    .dataframe tbody tr th {\n",
       "        vertical-align: top;\n",
       "    }\n",
       "\n",
       "    .dataframe thead th {\n",
       "        text-align: right;\n",
       "    }\n",
       "</style>\n",
       "<table border=\"1\" class=\"dataframe\">\n",
       "  <thead>\n",
       "    <tr style=\"text-align: right;\">\n",
       "      <th></th>\n",
       "      <th>country</th>\n",
       "      <th>precio_total</th>\n",
       "    </tr>\n",
       "  </thead>\n",
       "  <tbody>\n",
       "    <tr>\n",
       "      <th>1</th>\n",
       "      <td>Austria</td>\n",
       "      <td>3487.42</td>\n",
       "    </tr>\n",
       "    <tr>\n",
       "      <th>9</th>\n",
       "      <td>Ireland</td>\n",
       "      <td>3016.70</td>\n",
       "    </tr>\n",
       "    <tr>\n",
       "      <th>19</th>\n",
       "      <td>USA</td>\n",
       "      <td>2160.39</td>\n",
       "    </tr>\n",
       "    <tr>\n",
       "      <th>8</th>\n",
       "      <td>Germany</td>\n",
       "      <td>2005.25</td>\n",
       "    </tr>\n",
       "    <tr>\n",
       "      <th>5</th>\n",
       "      <td>Denmark</td>\n",
       "      <td>1932.35</td>\n",
       "    </tr>\n",
       "  </tbody>\n",
       "</table>\n",
       "</div>"
      ],
      "text/plain": [
       "    country  precio_total\n",
       "1   Austria       3487.42\n",
       "9   Ireland       3016.70\n",
       "19      USA       2160.39\n",
       "8   Germany       2005.25\n",
       "5   Denmark       1932.35"
      ]
     },
     "execution_count": 222,
     "metadata": {},
     "output_type": "execute_result"
    }
   ],
   "source": [
    "# agrupos para ver el precio medio por país\n",
    "df_detalle_pedidos_cliente_pais = df_detalle_pedidos_cliente_pais.groupby('country')[['precio_total']].mean().reset_index()\n",
    "\n",
    "# redondeamos a solo dos decimales\n",
    "df_detalle_pedidos_cliente_pais['precio_total'] = df_detalle_pedidos_cliente_pais['precio_total'].apply(lambda x: f\"{x:.2f}\")\n",
    "\n",
    "# reconvertimos precio total a tipo float\n",
    "df_detalle_pedidos_cliente_pais['precio_total'] = df_detalle_pedidos_cliente_pais['precio_total'].astype(float)\n",
    "\n",
    "# ordenamos descendentemente el precio medio por país\n",
    "df_detalle_pedidos_cliente_pais.sort_values(\"precio_total\", axis=0, ascending=False, inplace=True, na_position='first')\n",
    "\n",
    "df_detalle_pedidos_cliente_pais.head()"
   ]
  },
  {
   "cell_type": "code",
   "execution_count": 223,
   "metadata": {},
   "outputs": [
    {
     "data": {
      "image/png": "[encoded data removed]",
      "text/plain": [
       "<Figure size 1400x800 with 1 Axes>"
      ]
     },
     "metadata": {},
     "output_type": "display_data"
    }
   ],
   "source": [
    "# Gráfica de barras para mostrar la distribución media del precio del pedido por país de procedencia del cliente.\n",
    "\n",
    "# Configuración del estilo de seaborn\n",
    "sns.set_theme(style=\"whitegrid\")\n",
    "\n",
    "# Crear la gráfica de barras\n",
    "plt.figure(figsize=(14, 8))  # Ajustar el tamaño de la figura\n",
    "ax = sns.barplot(x=\"country\", y=\"precio_total\", data=df_detalle_pedidos_cliente_pais, dodge=False)\n",
    "\n",
    "# Añadir etiquetas a cada barra\n",
    "# for index, row in df_detalle_pedidos_cliente_pais.iterrows():\n",
    "#     ax.text(index, row['precio_total'], f\"{row['precio_total']:.2f}\", ha='center', va='bottom')\n",
    "\n",
    "# Personalizar la gráfica\n",
    "plt.title(\"Precio Medio por País\")\n",
    "plt.xlabel(\"País\")\n",
    "plt.ylabel(\"Precio Medio de los pedidos\")\n",
    "plt.xticks(rotation=45, ha='right')  # Rotar etiquetas del eje x\n",
    "\n",
    "# Ajustar el layout para evitar el recorte de etiquetas\n",
    "plt.tight_layout()\n",
    "plt.show()\n"
   ]
  },
  {
   "cell_type": "code",
   "execution_count": 224,
   "metadata": {},
   "outputs": [
    {
     "data": {
      "text/html": [
       "<div>\n",
       "<style scoped>\n",
       "    .dataframe tbody tr th:only-of-type {\n",
       "        vertical-align: middle;\n",
       "    }\n",
       "\n",
       "    .dataframe tbody tr th {\n",
       "        vertical-align: top;\n",
       "    }\n",
       "\n",
       "    .dataframe thead th {\n",
       "        text-align: right;\n",
       "    }\n",
       "</style>\n",
       "<table border=\"1\" class=\"dataframe\">\n",
       "  <thead>\n",
       "    <tr style=\"text-align: right;\">\n",
       "      <th></th>\n",
       "      <th>customer_id</th>\n",
       "      <th>company_name</th>\n",
       "      <th>country</th>\n",
       "      <th>order_id</th>\n",
       "    </tr>\n",
       "  </thead>\n",
       "  <tbody>\n",
       "    <tr>\n",
       "      <th>0</th>\n",
       "      <td>VINET</td>\n",
       "      <td>Vins et alcools Chevalier</td>\n",
       "      <td>France</td>\n",
       "      <td>10248.0</td>\n",
       "    </tr>\n",
       "    <tr>\n",
       "      <th>1</th>\n",
       "      <td>TOMSP</td>\n",
       "      <td>Toms Spezialitäten</td>\n",
       "      <td>Germany</td>\n",
       "      <td>10249.0</td>\n",
       "    </tr>\n",
       "    <tr>\n",
       "      <th>2</th>\n",
       "      <td>HANAR</td>\n",
       "      <td>Hanari Carnes</td>\n",
       "      <td>Brazil</td>\n",
       "      <td>10250.0</td>\n",
       "    </tr>\n",
       "    <tr>\n",
       "      <th>3</th>\n",
       "      <td>VICTE</td>\n",
       "      <td>Victuailles en stock</td>\n",
       "      <td>France</td>\n",
       "      <td>10251.0</td>\n",
       "    </tr>\n",
       "    <tr>\n",
       "      <th>4</th>\n",
       "      <td>SUPRD</td>\n",
       "      <td>Suprêmes délices</td>\n",
       "      <td>Belgium</td>\n",
       "      <td>10252.0</td>\n",
       "    </tr>\n",
       "    <tr>\n",
       "      <th>...</th>\n",
       "      <td>...</td>\n",
       "      <td>...</td>\n",
       "      <td>...</td>\n",
       "      <td>...</td>\n",
       "    </tr>\n",
       "    <tr>\n",
       "      <th>827</th>\n",
       "      <td>RICSU</td>\n",
       "      <td>Richter Supermarkt</td>\n",
       "      <td>Switzerland</td>\n",
       "      <td>11075.0</td>\n",
       "    </tr>\n",
       "    <tr>\n",
       "      <th>828</th>\n",
       "      <td>BONAP</td>\n",
       "      <td>Bon app'</td>\n",
       "      <td>France</td>\n",
       "      <td>11076.0</td>\n",
       "    </tr>\n",
       "    <tr>\n",
       "      <th>829</th>\n",
       "      <td>RATTC</td>\n",
       "      <td>Rattlesnake Canyon Grocery</td>\n",
       "      <td>USA</td>\n",
       "      <td>11077.0</td>\n",
       "    </tr>\n",
       "    <tr>\n",
       "      <th>830</th>\n",
       "      <td>PARIS</td>\n",
       "      <td>Paris spécialités</td>\n",
       "      <td>France</td>\n",
       "      <td>NaN</td>\n",
       "    </tr>\n",
       "    <tr>\n",
       "      <th>831</th>\n",
       "      <td>FISSA</td>\n",
       "      <td>FISSA Fabrica Inter. Salchichas S.A.</td>\n",
       "      <td>Spain</td>\n",
       "      <td>NaN</td>\n",
       "    </tr>\n",
       "  </tbody>\n",
       "</table>\n",
       "<p>832 rows × 4 columns</p>\n",
       "</div>"
      ],
      "text/plain": [
       "    customer_id                          company_name      country  order_id\n",
       "0         VINET             Vins et alcools Chevalier       France   10248.0\n",
       "1         TOMSP                    Toms Spezialitäten      Germany   10249.0\n",
       "2         HANAR                         Hanari Carnes       Brazil   10250.0\n",
       "3         VICTE                  Victuailles en stock       France   10251.0\n",
       "4         SUPRD                      Suprêmes délices      Belgium   10252.0\n",
       "..          ...                                   ...          ...       ...\n",
       "827       RICSU                    Richter Supermarkt  Switzerland   11075.0\n",
       "828       BONAP                              Bon app'       France   11076.0\n",
       "829       RATTC            Rattlesnake Canyon Grocery          USA   11077.0\n",
       "830       PARIS                     Paris spécialités       France       NaN\n",
       "831       FISSA  FISSA Fabrica Inter. Salchichas S.A.        Spain       NaN\n",
       "\n",
       "[832 rows x 4 columns]"
      ]
     },
     "execution_count": 224,
     "metadata": {},
     "output_type": "execute_result"
    }
   ],
   "source": [
    "# 5. hay clientes que no hayan comprado nunca? que porcentaje de clientes no tienen pedidos registrados?\n",
    "\n",
    "sql_query = ''' SELECT c.customer_id, c.company_name, c.country, o.order_id\n",
    "FROM customers AS c\n",
    "LEFT JOIN orders AS o \n",
    "ON c.customer_id = o.customer_id\n",
    " '''\n",
    "df_join_pedido_cliente = ejecutar_query(sql_query)\n",
    "df_join_pedido_cliente.head()\n",
    "df_join_pedido_cliente"
   ]
  },
  {
   "cell_type": "code",
   "execution_count": 225,
   "metadata": {},
   "outputs": [
    {
     "data": {
      "text/html": [
       "<div>\n",
       "<style scoped>\n",
       "    .dataframe tbody tr th:only-of-type {\n",
       "        vertical-align: middle;\n",
       "    }\n",
       "\n",
       "    .dataframe tbody tr th {\n",
       "        vertical-align: top;\n",
       "    }\n",
       "\n",
       "    .dataframe thead th {\n",
       "        text-align: right;\n",
       "    }\n",
       "</style>\n",
       "<table border=\"1\" class=\"dataframe\">\n",
       "  <thead>\n",
       "    <tr style=\"text-align: right;\">\n",
       "      <th></th>\n",
       "      <th>customer_id</th>\n",
       "      <th>company_name</th>\n",
       "      <th>country</th>\n",
       "      <th>order_id</th>\n",
       "    </tr>\n",
       "  </thead>\n",
       "  <tbody>\n",
       "    <tr>\n",
       "      <th>830</th>\n",
       "      <td>PARIS</td>\n",
       "      <td>Paris spécialités</td>\n",
       "      <td>France</td>\n",
       "      <td>NaN</td>\n",
       "    </tr>\n",
       "    <tr>\n",
       "      <th>831</th>\n",
       "      <td>FISSA</td>\n",
       "      <td>FISSA Fabrica Inter. Salchichas S.A.</td>\n",
       "      <td>Spain</td>\n",
       "      <td>NaN</td>\n",
       "    </tr>\n",
       "  </tbody>\n",
       "</table>\n",
       "</div>"
      ],
      "text/plain": [
       "    customer_id                          company_name country  order_id\n",
       "830       PARIS                     Paris spécialités  France       NaN\n",
       "831       FISSA  FISSA Fabrica Inter. Salchichas S.A.   Spain       NaN"
      ]
     },
     "execution_count": 225,
     "metadata": {},
     "output_type": "execute_result"
    }
   ],
   "source": [
    "# miramos el numero de nulos\n",
    "df_clientes_sin_comprar = df_join_pedido_cliente[df_join_pedido_cliente['order_id'].isnull()]\n",
    "df_clientes_sin_comprar\n",
    "\n",
    "# tenemos dos clientes que nunca han comprado: PARIS, y FISSA"
   ]
  },
  {
   "cell_type": "code",
   "execution_count": 226,
   "metadata": {},
   "outputs": [
    {
     "name": "stdout",
     "output_type": "stream",
     "text": [
      "El porcentaje de clientes que no nos han comprado es de 2.20\n"
     ]
    }
   ],
   "source": [
    "# porcentaje de clientes que no han comprado\n",
    "clientes_unicos = len(df_join_pedido_cliente['customer_id'].unique())\n",
    "clientes_sin_comprar = len(df_join_pedido_cliente[df_join_pedido_cliente['order_id'].isnull()])\n",
    "\n",
    "print(f\"El porcentaje de clientes que no nos han comprado es de {(clientes_sin_comprar / clientes_unicos * 100):.2f}\")\n"
   ]
  },
  {
   "cell_type": "code",
   "execution_count": 227,
   "metadata": {},
   "outputs": [
    {
     "data": {
      "text/html": [
       "<div>\n",
       "<style scoped>\n",
       "    .dataframe tbody tr th:only-of-type {\n",
       "        vertical-align: middle;\n",
       "    }\n",
       "\n",
       "    .dataframe tbody tr th {\n",
       "        vertical-align: top;\n",
       "    }\n",
       "\n",
       "    .dataframe thead th {\n",
       "        text-align: right;\n",
       "    }\n",
       "</style>\n",
       "<table border=\"1\" class=\"dataframe\">\n",
       "  <thead>\n",
       "    <tr style=\"text-align: right;\">\n",
       "      <th></th>\n",
       "      <th>product_id</th>\n",
       "      <th>product_name</th>\n",
       "      <th>total_ventas</th>\n",
       "      <th>total_unidades_vendidas</th>\n",
       "      <th>units_in_stock</th>\n",
       "      <th>units_on_order</th>\n",
       "    </tr>\n",
       "  </thead>\n",
       "  <tbody>\n",
       "    <tr>\n",
       "      <th>0</th>\n",
       "      <td>38</td>\n",
       "      <td>Côte de Blaye</td>\n",
       "      <td>149984.0</td>\n",
       "      <td>623.0</td>\n",
       "      <td>17</td>\n",
       "      <td>0</td>\n",
       "    </tr>\n",
       "    <tr>\n",
       "      <th>1</th>\n",
       "      <td>29</td>\n",
       "      <td>Thüringer Rostbratwurst</td>\n",
       "      <td>87736.0</td>\n",
       "      <td>746.0</td>\n",
       "      <td>0</td>\n",
       "      <td>0</td>\n",
       "    </tr>\n",
       "    <tr>\n",
       "      <th>2</th>\n",
       "      <td>59</td>\n",
       "      <td>Raclette Courdavault</td>\n",
       "      <td>76296.0</td>\n",
       "      <td>1496.0</td>\n",
       "      <td>79</td>\n",
       "      <td>0</td>\n",
       "    </tr>\n",
       "    <tr>\n",
       "      <th>3</th>\n",
       "      <td>60</td>\n",
       "      <td>Camembert Pierrot</td>\n",
       "      <td>50286.0</td>\n",
       "      <td>1577.0</td>\n",
       "      <td>19</td>\n",
       "      <td>0</td>\n",
       "    </tr>\n",
       "    <tr>\n",
       "      <th>4</th>\n",
       "      <td>62</td>\n",
       "      <td>Tarte au sucre</td>\n",
       "      <td>49828.0</td>\n",
       "      <td>1083.0</td>\n",
       "      <td>17</td>\n",
       "      <td>0</td>\n",
       "    </tr>\n",
       "    <tr>\n",
       "      <th>5</th>\n",
       "      <td>56</td>\n",
       "      <td>Gnocchi di nonna Alice</td>\n",
       "      <td>45121.0</td>\n",
       "      <td>1263.0</td>\n",
       "      <td>21</td>\n",
       "      <td>10</td>\n",
       "    </tr>\n",
       "    <tr>\n",
       "      <th>6</th>\n",
       "      <td>51</td>\n",
       "      <td>Manjimup Dried Apples</td>\n",
       "      <td>44743.0</td>\n",
       "      <td>886.0</td>\n",
       "      <td>20</td>\n",
       "      <td>0</td>\n",
       "    </tr>\n",
       "    <tr>\n",
       "      <th>7</th>\n",
       "      <td>17</td>\n",
       "      <td>Alice Mutton</td>\n",
       "      <td>35482.0</td>\n",
       "      <td>978.0</td>\n",
       "      <td>0</td>\n",
       "      <td>0</td>\n",
       "    </tr>\n",
       "    <tr>\n",
       "      <th>8</th>\n",
       "      <td>18</td>\n",
       "      <td>Carnarvon Tigers</td>\n",
       "      <td>31988.0</td>\n",
       "      <td>539.0</td>\n",
       "      <td>42</td>\n",
       "      <td>0</td>\n",
       "    </tr>\n",
       "    <tr>\n",
       "      <th>9</th>\n",
       "      <td>28</td>\n",
       "      <td>Rössle Sauerkraut</td>\n",
       "      <td>26866.0</td>\n",
       "      <td>640.0</td>\n",
       "      <td>26</td>\n",
       "      <td>0</td>\n",
       "    </tr>\n",
       "  </tbody>\n",
       "</table>\n",
       "</div>"
      ],
      "text/plain": [
       "   product_id             product_name  total_ventas  total_unidades_vendidas  \\\n",
       "0          38            Côte de Blaye      149984.0                    623.0   \n",
       "1          29  Thüringer Rostbratwurst       87736.0                    746.0   \n",
       "2          59     Raclette Courdavault       76296.0                   1496.0   \n",
       "3          60        Camembert Pierrot       50286.0                   1577.0   \n",
       "4          62           Tarte au sucre       49828.0                   1083.0   \n",
       "5          56   Gnocchi di nonna Alice       45121.0                   1263.0   \n",
       "6          51    Manjimup Dried Apples       44743.0                    886.0   \n",
       "7          17             Alice Mutton       35482.0                    978.0   \n",
       "8          18         Carnarvon Tigers       31988.0                    539.0   \n",
       "9          28        Rössle Sauerkraut       26866.0                    640.0   \n",
       "\n",
       "   units_in_stock  units_on_order  \n",
       "0              17               0  \n",
       "1               0               0  \n",
       "2              79               0  \n",
       "3              19               0  \n",
       "4              17               0  \n",
       "5              21              10  \n",
       "6              20               0  \n",
       "7               0               0  \n",
       "8              42               0  \n",
       "9              26               0  "
      ]
     },
     "execution_count": 227,
     "metadata": {},
     "output_type": "execute_result"
    }
   ],
   "source": [
    "# 6. Estudia los productos más demandados e investiga cuál es necesario hacer reestock (20 unidades o menos sin previsión de llegada)\n",
    "sql_query = ''' SELECT \n",
    "                    p.product_id, p.product_name,\n",
    "                    ROUND(SUM(o.unit_price * o.quantity)) AS total_ventas,\n",
    "\t                ROUND(SUM(o.quantity)) AS total_unidades_vendidas,\n",
    "\t                p.units_in_stock, p.units_on_order\n",
    "                FROM \n",
    "                    order_details AS o\n",
    "                LEFT JOIN \n",
    "                    products AS p\n",
    "                ON \n",
    "                    o.product_id = p.product_id\n",
    "                GROUP BY \n",
    "                    p.product_name, p.product_id, p.units_in_stock, p.units_on_order\n",
    "                ORDER BY \n",
    "                    total_ventas DESC\n",
    "            '''\n",
    "df_productos_mas_demandados = ejecutar_query(sql_query)\n",
    "df_productos_mas_demandados\n",
    "\n",
    "top10_productos_mas_demandados = df_productos_mas_demandados.head(10)\n",
    "top10_productos_mas_demandados"
   ]
  },
  {
   "cell_type": "code",
   "execution_count": 228,
   "metadata": {},
   "outputs": [
    {
     "data": {
      "text/html": [
       "<div>\n",
       "<style scoped>\n",
       "    .dataframe tbody tr th:only-of-type {\n",
       "        vertical-align: middle;\n",
       "    }\n",
       "\n",
       "    .dataframe tbody tr th {\n",
       "        vertical-align: top;\n",
       "    }\n",
       "\n",
       "    .dataframe thead th {\n",
       "        text-align: right;\n",
       "    }\n",
       "</style>\n",
       "<table border=\"1\" class=\"dataframe\">\n",
       "  <thead>\n",
       "    <tr style=\"text-align: right;\">\n",
       "      <th></th>\n",
       "      <th>product_id</th>\n",
       "      <th>product_name</th>\n",
       "      <th>total_ventas</th>\n",
       "      <th>total_unidades_vendidas</th>\n",
       "      <th>units_in_stock</th>\n",
       "      <th>units_on_order</th>\n",
       "    </tr>\n",
       "  </thead>\n",
       "  <tbody>\n",
       "    <tr>\n",
       "      <th>0</th>\n",
       "      <td>38</td>\n",
       "      <td>Côte de Blaye</td>\n",
       "      <td>149984.0</td>\n",
       "      <td>623.0</td>\n",
       "      <td>17</td>\n",
       "      <td>0</td>\n",
       "    </tr>\n",
       "    <tr>\n",
       "      <th>1</th>\n",
       "      <td>29</td>\n",
       "      <td>Thüringer Rostbratwurst</td>\n",
       "      <td>87736.0</td>\n",
       "      <td>746.0</td>\n",
       "      <td>0</td>\n",
       "      <td>0</td>\n",
       "    </tr>\n",
       "    <tr>\n",
       "      <th>3</th>\n",
       "      <td>60</td>\n",
       "      <td>Camembert Pierrot</td>\n",
       "      <td>50286.0</td>\n",
       "      <td>1577.0</td>\n",
       "      <td>19</td>\n",
       "      <td>0</td>\n",
       "    </tr>\n",
       "    <tr>\n",
       "      <th>4</th>\n",
       "      <td>62</td>\n",
       "      <td>Tarte au sucre</td>\n",
       "      <td>49828.0</td>\n",
       "      <td>1083.0</td>\n",
       "      <td>17</td>\n",
       "      <td>0</td>\n",
       "    </tr>\n",
       "    <tr>\n",
       "      <th>6</th>\n",
       "      <td>51</td>\n",
       "      <td>Manjimup Dried Apples</td>\n",
       "      <td>44743.0</td>\n",
       "      <td>886.0</td>\n",
       "      <td>20</td>\n",
       "      <td>0</td>\n",
       "    </tr>\n",
       "    <tr>\n",
       "      <th>7</th>\n",
       "      <td>17</td>\n",
       "      <td>Alice Mutton</td>\n",
       "      <td>35482.0</td>\n",
       "      <td>978.0</td>\n",
       "      <td>0</td>\n",
       "      <td>0</td>\n",
       "    </tr>\n",
       "    <tr>\n",
       "      <th>10</th>\n",
       "      <td>72</td>\n",
       "      <td>Mozzarella di Giovanni</td>\n",
       "      <td>25739.0</td>\n",
       "      <td>806.0</td>\n",
       "      <td>14</td>\n",
       "      <td>0</td>\n",
       "    </tr>\n",
       "    <tr>\n",
       "      <th>15</th>\n",
       "      <td>7</td>\n",
       "      <td>Uncle Bob's Organic Dried Pears</td>\n",
       "      <td>22464.0</td>\n",
       "      <td>763.0</td>\n",
       "      <td>15</td>\n",
       "      <td>0</td>\n",
       "    </tr>\n",
       "    <tr>\n",
       "      <th>17</th>\n",
       "      <td>26</td>\n",
       "      <td>Gumbär Gummibärchen</td>\n",
       "      <td>21535.0</td>\n",
       "      <td>753.0</td>\n",
       "      <td>15</td>\n",
       "      <td>0</td>\n",
       "    </tr>\n",
       "    <tr>\n",
       "      <th>18</th>\n",
       "      <td>53</td>\n",
       "      <td>Perth Pasties</td>\n",
       "      <td>21510.0</td>\n",
       "      <td>722.0</td>\n",
       "      <td>0</td>\n",
       "      <td>0</td>\n",
       "    </tr>\n",
       "    <tr>\n",
       "      <th>29</th>\n",
       "      <td>30</td>\n",
       "      <td>Nord-Ost Matjeshering</td>\n",
       "      <td>14776.0</td>\n",
       "      <td>612.0</td>\n",
       "      <td>10</td>\n",
       "      <td>0</td>\n",
       "    </tr>\n",
       "    <tr>\n",
       "      <th>32</th>\n",
       "      <td>35</td>\n",
       "      <td>Steeleye Stout</td>\n",
       "      <td>14537.0</td>\n",
       "      <td>883.0</td>\n",
       "      <td>20</td>\n",
       "      <td>0</td>\n",
       "    </tr>\n",
       "    <tr>\n",
       "      <th>35</th>\n",
       "      <td>8</td>\n",
       "      <td>Northwoods Cranberry Sauce</td>\n",
       "      <td>13760.0</td>\n",
       "      <td>372.0</td>\n",
       "      <td>6</td>\n",
       "      <td>0</td>\n",
       "    </tr>\n",
       "    <tr>\n",
       "      <th>58</th>\n",
       "      <td>5</td>\n",
       "      <td>Chef Anton's Gumbo Mix</td>\n",
       "      <td>5801.0</td>\n",
       "      <td>298.0</td>\n",
       "      <td>0</td>\n",
       "      <td>0</td>\n",
       "    </tr>\n",
       "    <tr>\n",
       "      <th>62</th>\n",
       "      <td>24</td>\n",
       "      <td>Guaraná Fantástica</td>\n",
       "      <td>4783.0</td>\n",
       "      <td>1125.0</td>\n",
       "      <td>20</td>\n",
       "      <td>0</td>\n",
       "    </tr>\n",
       "  </tbody>\n",
       "</table>\n",
       "</div>"
      ],
      "text/plain": [
       "    product_id                     product_name  total_ventas  \\\n",
       "0           38                    Côte de Blaye      149984.0   \n",
       "1           29          Thüringer Rostbratwurst       87736.0   \n",
       "3           60                Camembert Pierrot       50286.0   \n",
       "4           62                   Tarte au sucre       49828.0   \n",
       "6           51            Manjimup Dried Apples       44743.0   \n",
       "7           17                     Alice Mutton       35482.0   \n",
       "10          72           Mozzarella di Giovanni       25739.0   \n",
       "15           7  Uncle Bob's Organic Dried Pears       22464.0   \n",
       "17          26              Gumbär Gummibärchen       21535.0   \n",
       "18          53                    Perth Pasties       21510.0   \n",
       "29          30            Nord-Ost Matjeshering       14776.0   \n",
       "32          35                   Steeleye Stout       14537.0   \n",
       "35           8       Northwoods Cranberry Sauce       13760.0   \n",
       "58           5           Chef Anton's Gumbo Mix        5801.0   \n",
       "62          24               Guaraná Fantástica        4783.0   \n",
       "\n",
       "    total_unidades_vendidas  units_in_stock  units_on_order  \n",
       "0                     623.0              17               0  \n",
       "1                     746.0               0               0  \n",
       "3                    1577.0              19               0  \n",
       "4                    1083.0              17               0  \n",
       "6                     886.0              20               0  \n",
       "7                     978.0               0               0  \n",
       "10                    806.0              14               0  \n",
       "15                    763.0              15               0  \n",
       "17                    753.0              15               0  \n",
       "18                    722.0               0               0  \n",
       "29                    612.0              10               0  \n",
       "32                    883.0              20               0  \n",
       "35                    372.0               6               0  \n",
       "58                    298.0               0               0  \n",
       "62                   1125.0              20               0  "
      ]
     },
     "execution_count": 228,
     "metadata": {},
     "output_type": "execute_result"
    }
   ],
   "source": [
    "df_productos_bajo_stock = df_productos_mas_demandados[ (df_productos_mas_demandados['units_in_stock'] <= 20) & (df_productos_mas_demandados['units_on_order'] == 0)]\n",
    "df_productos_bajo_stock\n",
    "\n",
    "# Es urgente pedir de las que tienen 0 stock y además gran volumen de ventas como los product_id: 29 y 17"
   ]
  },
  {
   "cell_type": "code",
   "execution_count": 229,
   "metadata": {},
   "outputs": [
    {
     "data": {
      "image/png": "[encoded data removed]",
      "text/plain": [
       "<Figure size 640x480 with 1 Axes>"
      ]
     },
     "metadata": {},
     "output_type": "display_data"
    }
   ],
   "source": [
    "# Gráfico de barras apiladas que representa la relación entre el volumen de ventas y el stock\n",
    "top10_productos_mas_demandados.set_index('product_id')[['total_unidades_vendidas', 'units_in_stock']].plot(kind='bar', stacked=True)\n",
    "plt.title('Unidades Vendidas, En Stock y Pedidas por Producto')\n",
    "plt.xlabel('Producto')\n",
    "plt.ylabel('Cantidad de unidades')\n",
    "plt.show()\n",
    "\n",
    "# el gráfico nos confirma que tanto el producto 29 como 17, han vendido mucho y no tienen stock"
   ]
  },
  {
   "cell_type": "code",
   "execution_count": 230,
   "metadata": {},
   "outputs": [],
   "source": [
    "# EJERCICIO 4 QUERIES AVANZADAS"
   ]
  },
  {
   "cell_type": "code",
   "execution_count": 238,
   "metadata": {},
   "outputs": [
    {
     "data": {
      "text/html": [
       "<div>\n",
       "<style scoped>\n",
       "    .dataframe tbody tr th:only-of-type {\n",
       "        vertical-align: middle;\n",
       "    }\n",
       "\n",
       "    .dataframe tbody tr th {\n",
       "        vertical-align: top;\n",
       "    }\n",
       "\n",
       "    .dataframe thead th {\n",
       "        text-align: right;\n",
       "    }\n",
       "</style>\n",
       "<table border=\"1\" class=\"dataframe\">\n",
       "  <thead>\n",
       "    <tr style=\"text-align: right;\">\n",
       "      <th></th>\n",
       "      <th>category_name</th>\n",
       "      <th>ultima_fecha_pedido</th>\n",
       "    </tr>\n",
       "  </thead>\n",
       "  <tbody>\n",
       "    <tr>\n",
       "      <th>0</th>\n",
       "      <td>Beverages</td>\n",
       "      <td>1998-05-06</td>\n",
       "    </tr>\n",
       "    <tr>\n",
       "      <th>1</th>\n",
       "      <td>Condiments</td>\n",
       "      <td>1998-05-06</td>\n",
       "    </tr>\n",
       "    <tr>\n",
       "      <th>2</th>\n",
       "      <td>Confections</td>\n",
       "      <td>1998-05-06</td>\n",
       "    </tr>\n",
       "    <tr>\n",
       "      <th>3</th>\n",
       "      <td>Dairy Products</td>\n",
       "      <td>1998-05-06</td>\n",
       "    </tr>\n",
       "    <tr>\n",
       "      <th>4</th>\n",
       "      <td>Grains/Cereals</td>\n",
       "      <td>1998-05-06</td>\n",
       "    </tr>\n",
       "    <tr>\n",
       "      <th>5</th>\n",
       "      <td>Meat/Poultry</td>\n",
       "      <td>1998-05-06</td>\n",
       "    </tr>\n",
       "    <tr>\n",
       "      <th>6</th>\n",
       "      <td>Produce</td>\n",
       "      <td>1998-05-06</td>\n",
       "    </tr>\n",
       "    <tr>\n",
       "      <th>7</th>\n",
       "      <td>Seafood</td>\n",
       "      <td>1998-05-06</td>\n",
       "    </tr>\n",
       "  </tbody>\n",
       "</table>\n",
       "</div>"
      ],
      "text/plain": [
       "    category_name ultima_fecha_pedido\n",
       "0       Beverages          1998-05-06\n",
       "1      Condiments          1998-05-06\n",
       "2     Confections          1998-05-06\n",
       "3  Dairy Products          1998-05-06\n",
       "4  Grains/Cereals          1998-05-06\n",
       "5    Meat/Poultry          1998-05-06\n",
       "6         Produce          1998-05-06\n",
       "7         Seafood          1998-05-06"
      ]
     },
     "execution_count": 238,
     "metadata": {},
     "output_type": "execute_result"
    }
   ],
   "source": [
    "# 1. Cuándo fue la última vez que se pidió un producto de cada categoría?\n",
    "\n",
    "sql_query = ''' SELECT \n",
    "                    c.category_name,\n",
    "\t                MAX(o.order_date) as ultima_fecha_pedido\n",
    "                FROM \n",
    "                    orders AS o\n",
    "                JOIN \n",
    "                    order_details AS od ON o.order_id = od.order_id\n",
    "                JOIN \n",
    "                    products AS p ON od.product_id = p.product_id\n",
    "                JOIN \n",
    "                    categories AS c ON p.category_id = c.category_id\n",
    "                GROUP BY\n",
    "                    c.category_name\n",
    "                ORDER BY \n",
    "                    c.category_name;\n",
    "            '''\n",
    "df_fecha_ultimo_pedido_por_categoria = ejecutar_query(sql_query)\n",
    "df_fecha_ultimo_pedido_por_categoria"
   ]
  },
  {
   "cell_type": "code",
   "execution_count": 237,
   "metadata": {},
   "outputs": [
    {
     "data": {
      "text/plain": [
       "'Sin resultados'"
      ]
     },
     "execution_count": 237,
     "metadata": {},
     "output_type": "execute_result"
    }
   ],
   "source": [
    "# 2. Hay algun producto que no se haya vendido nunca por su precio original? == producto que siempre se haya vendido con algún descuento? (discount >0)\n",
    "\n",
    "sql_query = ''' SELECT p.product_id, p.product_name\n",
    "                FROM products AS p\n",
    "                LEFT JOIN order_details AS od\n",
    "                ON p.product_id = od.product_id\n",
    "                GROUP BY p.product_id, p.product_name\n",
    "                HAVING MIN(od.discount) > 0\n",
    "            '''\n",
    "\n",
    "\n",
    "df_producto_siempre_con_descuento = ejecutar_query(sql_query)\n",
    "df_producto_siempre_con_descuento\n",
    "\n",
    "# Todos los productos, al menos en alguna ocasión se han vendido a su precio original"
   ]
  },
  {
   "cell_type": "code",
   "execution_count": 239,
   "metadata": {},
   "outputs": [
    {
     "data": {
      "text/html": [
       "<div>\n",
       "<style scoped>\n",
       "    .dataframe tbody tr th:only-of-type {\n",
       "        vertical-align: middle;\n",
       "    }\n",
       "\n",
       "    .dataframe tbody tr th {\n",
       "        vertical-align: top;\n",
       "    }\n",
       "\n",
       "    .dataframe thead th {\n",
       "        text-align: right;\n",
       "    }\n",
       "</style>\n",
       "<table border=\"1\" class=\"dataframe\">\n",
       "  <thead>\n",
       "    <tr style=\"text-align: right;\">\n",
       "      <th></th>\n",
       "      <th>product_id</th>\n",
       "      <th>product_name</th>\n",
       "    </tr>\n",
       "  </thead>\n",
       "  <tbody>\n",
       "    <tr>\n",
       "      <th>0</th>\n",
       "      <td>17</td>\n",
       "      <td>Alice Mutton</td>\n",
       "    </tr>\n",
       "    <tr>\n",
       "      <th>1</th>\n",
       "      <td>53</td>\n",
       "      <td>Perth Pasties</td>\n",
       "    </tr>\n",
       "    <tr>\n",
       "      <th>2</th>\n",
       "      <td>60</td>\n",
       "      <td>Camembert Pierrot</td>\n",
       "    </tr>\n",
       "    <tr>\n",
       "      <th>3</th>\n",
       "      <td>55</td>\n",
       "      <td>Pâté chinois</td>\n",
       "    </tr>\n",
       "    <tr>\n",
       "      <th>4</th>\n",
       "      <td>35</td>\n",
       "      <td>Steeleye Stout</td>\n",
       "    </tr>\n",
       "    <tr>\n",
       "      <th>...</th>\n",
       "      <td>...</td>\n",
       "      <td>...</td>\n",
       "    </tr>\n",
       "    <tr>\n",
       "      <th>72</th>\n",
       "      <td>18</td>\n",
       "      <td>Carnarvon Tigers</td>\n",
       "    </tr>\n",
       "    <tr>\n",
       "      <th>73</th>\n",
       "      <td>6</td>\n",
       "      <td>Grandma's Boysenberry Spread</td>\n",
       "    </tr>\n",
       "    <tr>\n",
       "      <th>74</th>\n",
       "      <td>56</td>\n",
       "      <td>Gnocchi di nonna Alice</td>\n",
       "    </tr>\n",
       "    <tr>\n",
       "      <th>75</th>\n",
       "      <td>73</td>\n",
       "      <td>Röd Kaviar</td>\n",
       "    </tr>\n",
       "    <tr>\n",
       "      <th>76</th>\n",
       "      <td>41</td>\n",
       "      <td>Jack's New England Clam Chowder</td>\n",
       "    </tr>\n",
       "  </tbody>\n",
       "</table>\n",
       "<p>77 rows × 2 columns</p>\n",
       "</div>"
      ],
      "text/plain": [
       "    product_id                     product_name\n",
       "0           17                     Alice Mutton\n",
       "1           53                    Perth Pasties\n",
       "2           60                Camembert Pierrot\n",
       "3           55                     Pâté chinois\n",
       "4           35                   Steeleye Stout\n",
       "..         ...                              ...\n",
       "72          18                 Carnarvon Tigers\n",
       "73           6     Grandma's Boysenberry Spread\n",
       "74          56           Gnocchi di nonna Alice\n",
       "75          73                       Röd Kaviar\n",
       "76          41  Jack's New England Clam Chowder\n",
       "\n",
       "[77 rows x 2 columns]"
      ]
     },
     "execution_count": 239,
     "metadata": {},
     "output_type": "execute_result"
    }
   ],
   "source": [
    "# comprobación a la inversa. Ver todos los productos que alguna vez se han comprado con descuento\n",
    "\n",
    "sql_query = ''' SELECT DISTINCT p.product_id, p.product_name\n",
    "                FROM products AS p\n",
    "                JOIN order_details AS od\n",
    "                ON p.product_id = od.product_id\n",
    "                WHERE od.discount > 0;\n",
    "            '''\n",
    "\n",
    "df_producto_alguna_vez_con_descuento = ejecutar_query(sql_query)\n",
    "df_producto_alguna_vez_con_descuento"
   ]
  },
  {
   "cell_type": "code",
   "execution_count": 240,
   "metadata": {},
   "outputs": [
    {
     "data": {
      "text/html": [
       "<div>\n",
       "<style scoped>\n",
       "    .dataframe tbody tr th:only-of-type {\n",
       "        vertical-align: middle;\n",
       "    }\n",
       "\n",
       "    .dataframe tbody tr th {\n",
       "        vertical-align: top;\n",
       "    }\n",
       "\n",
       "    .dataframe thead th {\n",
       "        text-align: right;\n",
       "    }\n",
       "</style>\n",
       "<table border=\"1\" class=\"dataframe\">\n",
       "  <thead>\n",
       "    <tr style=\"text-align: right;\">\n",
       "      <th></th>\n",
       "      <th>product_id</th>\n",
       "      <th>product_name</th>\n",
       "      <th>category_id</th>\n",
       "    </tr>\n",
       "  </thead>\n",
       "  <tbody>\n",
       "    <tr>\n",
       "      <th>0</th>\n",
       "      <td>16</td>\n",
       "      <td>Pavlova</td>\n",
       "      <td>3</td>\n",
       "    </tr>\n",
       "    <tr>\n",
       "      <th>1</th>\n",
       "      <td>19</td>\n",
       "      <td>Teatime Chocolate Biscuits</td>\n",
       "      <td>3</td>\n",
       "    </tr>\n",
       "    <tr>\n",
       "      <th>2</th>\n",
       "      <td>20</td>\n",
       "      <td>Sir Rodney's Marmalade</td>\n",
       "      <td>3</td>\n",
       "    </tr>\n",
       "    <tr>\n",
       "      <th>3</th>\n",
       "      <td>21</td>\n",
       "      <td>Sir Rodney's Scones</td>\n",
       "      <td>3</td>\n",
       "    </tr>\n",
       "    <tr>\n",
       "      <th>4</th>\n",
       "      <td>25</td>\n",
       "      <td>NuNuCa Nuß-Nougat-Creme</td>\n",
       "      <td>3</td>\n",
       "    </tr>\n",
       "    <tr>\n",
       "      <th>5</th>\n",
       "      <td>26</td>\n",
       "      <td>Gumbär Gummibärchen</td>\n",
       "      <td>3</td>\n",
       "    </tr>\n",
       "    <tr>\n",
       "      <th>6</th>\n",
       "      <td>27</td>\n",
       "      <td>Schoggi Schokolade</td>\n",
       "      <td>3</td>\n",
       "    </tr>\n",
       "    <tr>\n",
       "      <th>7</th>\n",
       "      <td>47</td>\n",
       "      <td>Zaanse koeken</td>\n",
       "      <td>3</td>\n",
       "    </tr>\n",
       "    <tr>\n",
       "      <th>8</th>\n",
       "      <td>48</td>\n",
       "      <td>Chocolade</td>\n",
       "      <td>3</td>\n",
       "    </tr>\n",
       "    <tr>\n",
       "      <th>9</th>\n",
       "      <td>49</td>\n",
       "      <td>Maxilaku</td>\n",
       "      <td>3</td>\n",
       "    </tr>\n",
       "    <tr>\n",
       "      <th>10</th>\n",
       "      <td>50</td>\n",
       "      <td>Valkoinen suklaa</td>\n",
       "      <td>3</td>\n",
       "    </tr>\n",
       "    <tr>\n",
       "      <th>11</th>\n",
       "      <td>62</td>\n",
       "      <td>Tarte au sucre</td>\n",
       "      <td>3</td>\n",
       "    </tr>\n",
       "    <tr>\n",
       "      <th>12</th>\n",
       "      <td>68</td>\n",
       "      <td>Scottish Longbreads</td>\n",
       "      <td>3</td>\n",
       "    </tr>\n",
       "  </tbody>\n",
       "</table>\n",
       "</div>"
      ],
      "text/plain": [
       "    product_id                product_name  category_id\n",
       "0           16                     Pavlova            3\n",
       "1           19  Teatime Chocolate Biscuits            3\n",
       "2           20      Sir Rodney's Marmalade            3\n",
       "3           21         Sir Rodney's Scones            3\n",
       "4           25     NuNuCa Nuß-Nougat-Creme            3\n",
       "5           26         Gumbär Gummibärchen            3\n",
       "6           27          Schoggi Schokolade            3\n",
       "7           47               Zaanse koeken            3\n",
       "8           48                   Chocolade            3\n",
       "9           49                    Maxilaku            3\n",
       "10          50            Valkoinen suklaa            3\n",
       "11          62              Tarte au sucre            3\n",
       "12          68         Scottish Longbreads            3"
      ]
     },
     "execution_count": 240,
     "metadata": {},
     "output_type": "execute_result"
    }
   ],
   "source": [
    "# 3. Ver el detalle de los productos con categoría \"Confections\"\n",
    "\n",
    "sql_query = ''' SELECT p.product_id, p.product_name, c.category_id\n",
    "                FROM products AS p\n",
    "                JOIN categories AS c\n",
    "                ON p.category_id = c.category_id\n",
    "                WHERE c.category_name = 'Confections'\n",
    "            '''\n",
    "\n",
    "df_productos_cat_confections = ejecutar_query(sql_query)\n",
    "df_productos_cat_confections"
   ]
  },
  {
   "cell_type": "code",
   "execution_count": 241,
   "metadata": {},
   "outputs": [
    {
     "data": {
      "text/html": [
       "<div>\n",
       "<style scoped>\n",
       "    .dataframe tbody tr th:only-of-type {\n",
       "        vertical-align: middle;\n",
       "    }\n",
       "\n",
       "    .dataframe tbody tr th {\n",
       "        vertical-align: top;\n",
       "    }\n",
       "\n",
       "    .dataframe thead th {\n",
       "        text-align: right;\n",
       "    }\n",
       "</style>\n",
       "<table border=\"1\" class=\"dataframe\">\n",
       "  <thead>\n",
       "    <tr style=\"text-align: right;\">\n",
       "      <th></th>\n",
       "      <th>supplier_id</th>\n",
       "      <th>company_name</th>\n",
       "    </tr>\n",
       "  </thead>\n",
       "  <tbody>\n",
       "    <tr>\n",
       "      <th>0</th>\n",
       "      <td>10</td>\n",
       "      <td>Refrescos Americanas LTDA</td>\n",
       "    </tr>\n",
       "  </tbody>\n",
       "</table>\n",
       "</div>"
      ],
      "text/plain": [
       "   supplier_id               company_name\n",
       "0           10  Refrescos Americanas LTDA"
      ]
     },
     "execution_count": 241,
     "metadata": {},
     "output_type": "execute_result"
    }
   ],
   "source": [
    "# 4 Revisar si existe algún proveedor, el cual tenga todos sus productos discontinuados\n",
    "\n",
    "sql_query = ''' SELECT s.supplier_id, s.company_name\n",
    "                FROM suppliers AS s\n",
    "                JOIN products AS p ON s.supplier_id = p.supplier_id\n",
    "                GROUP BY s.supplier_id, s.company_name\n",
    "                HAVING COUNT(CASE WHEN p.discontinued = 0 THEN 1 END) = 0;\n",
    "            '''\n",
    "\n",
    "df_proveedor_todos_sus_productos_descontinuados = ejecutar_query(sql_query)\n",
    "df_proveedor_todos_sus_productos_descontinuados\n",
    "\n",
    "# tenemos al proveedor 10, 'refrescos americanas' que tiene todos sus productos discontinuados, por lo tanto podríamos prescindir de él"
   ]
  },
  {
   "cell_type": "code",
   "execution_count": 249,
   "metadata": {},
   "outputs": [
    {
     "data": {
      "text/html": [
       "<div>\n",
       "<style scoped>\n",
       "    .dataframe tbody tr th:only-of-type {\n",
       "        vertical-align: middle;\n",
       "    }\n",
       "\n",
       "    .dataframe tbody tr th {\n",
       "        vertical-align: top;\n",
       "    }\n",
       "\n",
       "    .dataframe thead th {\n",
       "        text-align: right;\n",
       "    }\n",
       "</style>\n",
       "<table border=\"1\" class=\"dataframe\">\n",
       "  <thead>\n",
       "    <tr style=\"text-align: right;\">\n",
       "      <th></th>\n",
       "      <th>supplier_id</th>\n",
       "      <th>company_name</th>\n",
       "      <th>num_productos</th>\n",
       "      <th>num_productos_discontinuados</th>\n",
       "      <th>Todos discontinuados</th>\n",
       "    </tr>\n",
       "  </thead>\n",
       "  <tbody>\n",
       "    <tr>\n",
       "      <th>0</th>\n",
       "      <td>28</td>\n",
       "      <td>Gai pâturage</td>\n",
       "      <td>2</td>\n",
       "      <td>0</td>\n",
       "      <td>False</td>\n",
       "    </tr>\n",
       "    <tr>\n",
       "      <th>1</th>\n",
       "      <td>4</td>\n",
       "      <td>Tokyo Traders</td>\n",
       "      <td>3</td>\n",
       "      <td>1</td>\n",
       "      <td>False</td>\n",
       "    </tr>\n",
       "    <tr>\n",
       "      <th>2</th>\n",
       "      <td>13</td>\n",
       "      <td>Nord-Ost-Fisch Handelsgesellschaft mbH</td>\n",
       "      <td>1</td>\n",
       "      <td>0</td>\n",
       "      <td>False</td>\n",
       "    </tr>\n",
       "    <tr>\n",
       "      <th>3</th>\n",
       "      <td>7</td>\n",
       "      <td>Pavlova, Ltd.</td>\n",
       "      <td>5</td>\n",
       "      <td>1</td>\n",
       "      <td>False</td>\n",
       "    </tr>\n",
       "    <tr>\n",
       "      <th>4</th>\n",
       "      <td>15</td>\n",
       "      <td>Norske Meierier</td>\n",
       "      <td>3</td>\n",
       "      <td>0</td>\n",
       "      <td>False</td>\n",
       "    </tr>\n",
       "    <tr>\n",
       "      <th>5</th>\n",
       "      <td>23</td>\n",
       "      <td>Karkki Oy</td>\n",
       "      <td>3</td>\n",
       "      <td>0</td>\n",
       "      <td>False</td>\n",
       "    </tr>\n",
       "    <tr>\n",
       "      <th>6</th>\n",
       "      <td>9</td>\n",
       "      <td>PB Knäckebröd AB</td>\n",
       "      <td>2</td>\n",
       "      <td>0</td>\n",
       "      <td>False</td>\n",
       "    </tr>\n",
       "    <tr>\n",
       "      <th>7</th>\n",
       "      <td>14</td>\n",
       "      <td>Formaggi Fortini s.r.l.</td>\n",
       "      <td>3</td>\n",
       "      <td>0</td>\n",
       "      <td>False</td>\n",
       "    </tr>\n",
       "    <tr>\n",
       "      <th>8</th>\n",
       "      <td>21</td>\n",
       "      <td>Lyngbysild</td>\n",
       "      <td>2</td>\n",
       "      <td>0</td>\n",
       "      <td>False</td>\n",
       "    </tr>\n",
       "    <tr>\n",
       "      <th>9</th>\n",
       "      <td>1</td>\n",
       "      <td>Exotic Liquids</td>\n",
       "      <td>2</td>\n",
       "      <td>1</td>\n",
       "      <td>False</td>\n",
       "    </tr>\n",
       "    <tr>\n",
       "      <th>10</th>\n",
       "      <td>19</td>\n",
       "      <td>New England Seafood Cannery</td>\n",
       "      <td>2</td>\n",
       "      <td>0</td>\n",
       "      <td>False</td>\n",
       "    </tr>\n",
       "    <tr>\n",
       "      <th>11</th>\n",
       "      <td>20</td>\n",
       "      <td>Leka Trading</td>\n",
       "      <td>3</td>\n",
       "      <td>1</td>\n",
       "      <td>False</td>\n",
       "    </tr>\n",
       "    <tr>\n",
       "      <th>12</th>\n",
       "      <td>29</td>\n",
       "      <td>Forêts d'érables</td>\n",
       "      <td>2</td>\n",
       "      <td>0</td>\n",
       "      <td>False</td>\n",
       "    </tr>\n",
       "    <tr>\n",
       "      <th>13</th>\n",
       "      <td>5</td>\n",
       "      <td>Cooperativa de Quesos 'Las Cabras'</td>\n",
       "      <td>2</td>\n",
       "      <td>0</td>\n",
       "      <td>False</td>\n",
       "    </tr>\n",
       "    <tr>\n",
       "      <th>14</th>\n",
       "      <td>11</td>\n",
       "      <td>Heli Süßwaren GmbH &amp; Co. KG</td>\n",
       "      <td>3</td>\n",
       "      <td>0</td>\n",
       "      <td>False</td>\n",
       "    </tr>\n",
       "    <tr>\n",
       "      <th>15</th>\n",
       "      <td>22</td>\n",
       "      <td>Zaanse Snoepfabriek</td>\n",
       "      <td>2</td>\n",
       "      <td>0</td>\n",
       "      <td>False</td>\n",
       "    </tr>\n",
       "    <tr>\n",
       "      <th>16</th>\n",
       "      <td>25</td>\n",
       "      <td>Ma Maison</td>\n",
       "      <td>2</td>\n",
       "      <td>0</td>\n",
       "      <td>False</td>\n",
       "    </tr>\n",
       "    <tr>\n",
       "      <th>17</th>\n",
       "      <td>6</td>\n",
       "      <td>Mayumi's</td>\n",
       "      <td>3</td>\n",
       "      <td>0</td>\n",
       "      <td>False</td>\n",
       "    </tr>\n",
       "    <tr>\n",
       "      <th>18</th>\n",
       "      <td>16</td>\n",
       "      <td>Bigfoot Breweries</td>\n",
       "      <td>3</td>\n",
       "      <td>0</td>\n",
       "      <td>False</td>\n",
       "    </tr>\n",
       "    <tr>\n",
       "      <th>19</th>\n",
       "      <td>18</td>\n",
       "      <td>Aux joyeux ecclésiastiques</td>\n",
       "      <td>2</td>\n",
       "      <td>0</td>\n",
       "      <td>False</td>\n",
       "    </tr>\n",
       "    <tr>\n",
       "      <th>20</th>\n",
       "      <td>10</td>\n",
       "      <td>Refrescos Americanas LTDA</td>\n",
       "      <td>1</td>\n",
       "      <td>1</td>\n",
       "      <td>True</td>\n",
       "    </tr>\n",
       "    <tr>\n",
       "      <th>21</th>\n",
       "      <td>8</td>\n",
       "      <td>Specialty Biscuits, Ltd.</td>\n",
       "      <td>5</td>\n",
       "      <td>1</td>\n",
       "      <td>False</td>\n",
       "    </tr>\n",
       "    <tr>\n",
       "      <th>22</th>\n",
       "      <td>2</td>\n",
       "      <td>New Orleans Cajun Delights</td>\n",
       "      <td>4</td>\n",
       "      <td>1</td>\n",
       "      <td>False</td>\n",
       "    </tr>\n",
       "    <tr>\n",
       "      <th>23</th>\n",
       "      <td>26</td>\n",
       "      <td>Pasta Buttini s.r.l.</td>\n",
       "      <td>2</td>\n",
       "      <td>0</td>\n",
       "      <td>False</td>\n",
       "    </tr>\n",
       "    <tr>\n",
       "      <th>24</th>\n",
       "      <td>24</td>\n",
       "      <td>G'day, Mate</td>\n",
       "      <td>3</td>\n",
       "      <td>1</td>\n",
       "      <td>False</td>\n",
       "    </tr>\n",
       "    <tr>\n",
       "      <th>25</th>\n",
       "      <td>12</td>\n",
       "      <td>Plutzer Lebensmittelgroßmärkte AG</td>\n",
       "      <td>5</td>\n",
       "      <td>2</td>\n",
       "      <td>False</td>\n",
       "    </tr>\n",
       "    <tr>\n",
       "      <th>26</th>\n",
       "      <td>3</td>\n",
       "      <td>Grandma Kelly's Homestead</td>\n",
       "      <td>3</td>\n",
       "      <td>0</td>\n",
       "      <td>False</td>\n",
       "    </tr>\n",
       "    <tr>\n",
       "      <th>27</th>\n",
       "      <td>27</td>\n",
       "      <td>Escargots Nouveaux</td>\n",
       "      <td>1</td>\n",
       "      <td>0</td>\n",
       "      <td>False</td>\n",
       "    </tr>\n",
       "    <tr>\n",
       "      <th>28</th>\n",
       "      <td>17</td>\n",
       "      <td>Svensk Sjöföda AB</td>\n",
       "      <td>3</td>\n",
       "      <td>0</td>\n",
       "      <td>False</td>\n",
       "    </tr>\n",
       "  </tbody>\n",
       "</table>\n",
       "</div>"
      ],
      "text/plain": [
       "    supplier_id                            company_name  num_productos  \\\n",
       "0            28                            Gai pâturage              2   \n",
       "1             4                           Tokyo Traders              3   \n",
       "2            13  Nord-Ost-Fisch Handelsgesellschaft mbH              1   \n",
       "3             7                           Pavlova, Ltd.              5   \n",
       "4            15                         Norske Meierier              3   \n",
       "5            23                               Karkki Oy              3   \n",
       "6             9                        PB Knäckebröd AB              2   \n",
       "7            14                 Formaggi Fortini s.r.l.              3   \n",
       "8            21                              Lyngbysild              2   \n",
       "9             1                          Exotic Liquids              2   \n",
       "10           19             New England Seafood Cannery              2   \n",
       "11           20                            Leka Trading              3   \n",
       "12           29                        Forêts d'érables              2   \n",
       "13            5      Cooperativa de Quesos 'Las Cabras'              2   \n",
       "14           11             Heli Süßwaren GmbH & Co. KG              3   \n",
       "15           22                     Zaanse Snoepfabriek              2   \n",
       "16           25                               Ma Maison              2   \n",
       "17            6                                Mayumi's              3   \n",
       "18           16                       Bigfoot Breweries              3   \n",
       "19           18              Aux joyeux ecclésiastiques              2   \n",
       "20           10               Refrescos Americanas LTDA              1   \n",
       "21            8                Specialty Biscuits, Ltd.              5   \n",
       "22            2              New Orleans Cajun Delights              4   \n",
       "23           26                    Pasta Buttini s.r.l.              2   \n",
       "24           24                             G'day, Mate              3   \n",
       "25           12       Plutzer Lebensmittelgroßmärkte AG              5   \n",
       "26            3               Grandma Kelly's Homestead              3   \n",
       "27           27                      Escargots Nouveaux              1   \n",
       "28           17                       Svensk Sjöföda AB              3   \n",
       "\n",
       "    num_productos_discontinuados  Todos discontinuados  \n",
       "0                              0                 False  \n",
       "1                              1                 False  \n",
       "2                              0                 False  \n",
       "3                              1                 False  \n",
       "4                              0                 False  \n",
       "5                              0                 False  \n",
       "6                              0                 False  \n",
       "7                              0                 False  \n",
       "8                              0                 False  \n",
       "9                              1                 False  \n",
       "10                             0                 False  \n",
       "11                             1                 False  \n",
       "12                             0                 False  \n",
       "13                             0                 False  \n",
       "14                             0                 False  \n",
       "15                             0                 False  \n",
       "16                             0                 False  \n",
       "17                             0                 False  \n",
       "18                             0                 False  \n",
       "19                             0                 False  \n",
       "20                             1                  True  \n",
       "21                             1                 False  \n",
       "22                             1                 False  \n",
       "23                             0                 False  \n",
       "24                             1                 False  \n",
       "25                             2                 False  \n",
       "26                             0                 False  \n",
       "27                             0                 False  \n",
       "28                             0                 False  "
      ]
     },
     "execution_count": 249,
     "metadata": {},
     "output_type": "execute_result"
    }
   ],
   "source": [
    "# para acabar de revisar si es correcto vamos a realizar otra consulta más amplia donde se muestra el numero total de productos, y los discontinuados agrupados por proveedor\n",
    "\n",
    "sql_query = ''' SELECT \n",
    "                p.supplier_id, s.company_name,\n",
    "                count(p.product_id) as num_productos, \n",
    "                SUM(CASE WHEN p.discontinued = 1 THEN 1 ELSE 0 END) AS num_productos_discontinuados\n",
    "                FROM products AS p\n",
    "                JOIN suppliers AS s\n",
    "                ON p.supplier_id = s.supplier_id\n",
    "                GROUP BY p.supplier_id, s.company_name\n",
    "            '''\n",
    "\n",
    "df_productos_proveedores = ejecutar_query(sql_query)\n",
    "df_productos_proveedores['Todos discontinuados'] = (df_productos_proveedores['num_productos']-df_productos_proveedores['num_productos_discontinuados']) == 0\n",
    "df_productos_proveedores"
   ]
  },
  {
   "cell_type": "code",
   "execution_count": 250,
   "metadata": {},
   "outputs": [
    {
     "data": {
      "text/html": [
       "<div>\n",
       "<style scoped>\n",
       "    .dataframe tbody tr th:only-of-type {\n",
       "        vertical-align: middle;\n",
       "    }\n",
       "\n",
       "    .dataframe tbody tr th {\n",
       "        vertical-align: top;\n",
       "    }\n",
       "\n",
       "    .dataframe thead th {\n",
       "        text-align: right;\n",
       "    }\n",
       "</style>\n",
       "<table border=\"1\" class=\"dataframe\">\n",
       "  <thead>\n",
       "    <tr style=\"text-align: right;\">\n",
       "      <th></th>\n",
       "      <th>supplier_id</th>\n",
       "      <th>company_name</th>\n",
       "      <th>num_productos</th>\n",
       "      <th>num_productos_discontinuados</th>\n",
       "      <th>Todos discontinuados</th>\n",
       "    </tr>\n",
       "  </thead>\n",
       "  <tbody>\n",
       "    <tr>\n",
       "      <th>20</th>\n",
       "      <td>10</td>\n",
       "      <td>Refrescos Americanas LTDA</td>\n",
       "      <td>1</td>\n",
       "      <td>1</td>\n",
       "      <td>True</td>\n",
       "    </tr>\n",
       "  </tbody>\n",
       "</table>\n",
       "</div>"
      ],
      "text/plain": [
       "    supplier_id               company_name  num_productos  \\\n",
       "20           10  Refrescos Americanas LTDA              1   \n",
       "\n",
       "    num_productos_discontinuados  Todos discontinuados  \n",
       "20                             1                  True  "
      ]
     },
     "execution_count": 250,
     "metadata": {},
     "output_type": "execute_result"
    }
   ],
   "source": [
    "df_productos_proveedores_todos_discontinuados = df_productos_proveedores[df_productos_proveedores['Todos discontinuados'] == True] \n",
    "df_productos_proveedores_todos_discontinuados"
   ]
  },
  {
   "cell_type": "code",
   "execution_count": 252,
   "metadata": {},
   "outputs": [
    {
     "data": {
      "text/html": [
       "<div>\n",
       "<style scoped>\n",
       "    .dataframe tbody tr th:only-of-type {\n",
       "        vertical-align: middle;\n",
       "    }\n",
       "\n",
       "    .dataframe tbody tr th {\n",
       "        vertical-align: top;\n",
       "    }\n",
       "\n",
       "    .dataframe thead th {\n",
       "        text-align: right;\n",
       "    }\n",
       "</style>\n",
       "<table border=\"1\" class=\"dataframe\">\n",
       "  <thead>\n",
       "    <tr style=\"text-align: right;\">\n",
       "      <th></th>\n",
       "      <th>company_name</th>\n",
       "      <th>order_id</th>\n",
       "      <th>quantity</th>\n",
       "      <th>product_name</th>\n",
       "    </tr>\n",
       "  </thead>\n",
       "  <tbody>\n",
       "    <tr>\n",
       "      <th>0</th>\n",
       "      <td>QUICK-Stop</td>\n",
       "      <td>10285</td>\n",
       "      <td>45</td>\n",
       "      <td>Chai</td>\n",
       "    </tr>\n",
       "    <tr>\n",
       "      <th>1</th>\n",
       "      <td>Lehmanns Marktstand</td>\n",
       "      <td>10522</td>\n",
       "      <td>40</td>\n",
       "      <td>Chai</td>\n",
       "    </tr>\n",
       "    <tr>\n",
       "      <th>2</th>\n",
       "      <td>Berglunds snabbköp</td>\n",
       "      <td>10689</td>\n",
       "      <td>35</td>\n",
       "      <td>Chai</td>\n",
       "    </tr>\n",
       "    <tr>\n",
       "      <th>3</th>\n",
       "      <td>LINO-Delicateses</td>\n",
       "      <td>10729</td>\n",
       "      <td>50</td>\n",
       "      <td>Chai</td>\n",
       "    </tr>\n",
       "    <tr>\n",
       "      <th>4</th>\n",
       "      <td>Save-a-lot Markets</td>\n",
       "      <td>10847</td>\n",
       "      <td>80</td>\n",
       "      <td>Chai</td>\n",
       "    </tr>\n",
       "    <tr>\n",
       "      <th>5</th>\n",
       "      <td>Seven Seas Imports</td>\n",
       "      <td>10869</td>\n",
       "      <td>40</td>\n",
       "      <td>Chai</td>\n",
       "    </tr>\n",
       "    <tr>\n",
       "      <th>6</th>\n",
       "      <td>Bottom-Dollar Markets</td>\n",
       "      <td>10918</td>\n",
       "      <td>60</td>\n",
       "      <td>Chai</td>\n",
       "    </tr>\n",
       "    <tr>\n",
       "      <th>7</th>\n",
       "      <td>Save-a-lot Markets</td>\n",
       "      <td>11031</td>\n",
       "      <td>45</td>\n",
       "      <td>Chai</td>\n",
       "    </tr>\n",
       "    <tr>\n",
       "      <th>8</th>\n",
       "      <td>Lehmanns Marktstand</td>\n",
       "      <td>11070</td>\n",
       "      <td>40</td>\n",
       "      <td>Chai</td>\n",
       "    </tr>\n",
       "  </tbody>\n",
       "</table>\n",
       "</div>"
      ],
      "text/plain": [
       "            company_name  order_id  quantity product_name\n",
       "0             QUICK-Stop     10285        45         Chai\n",
       "1    Lehmanns Marktstand     10522        40         Chai\n",
       "2     Berglunds snabbköp     10689        35         Chai\n",
       "3       LINO-Delicateses     10729        50         Chai\n",
       "4     Save-a-lot Markets     10847        80         Chai\n",
       "5     Seven Seas Imports     10869        40         Chai\n",
       "6  Bottom-Dollar Markets     10918        60         Chai\n",
       "7     Save-a-lot Markets     11031        45         Chai\n",
       "8    Lehmanns Marktstand     11070        40         Chai"
      ]
     },
     "execution_count": 252,
     "metadata": {},
     "output_type": "execute_result"
    }
   ],
   "source": [
    "# 5. Extraer los clientes que compraron mas de 30 articulos \"Chai\" en un único pedido\n",
    "\n",
    "sql_query = ''' SELECT c.company_name, o.order_id, od.quantity, p.product_name\n",
    "                FROM orders AS o\n",
    "                JOIN customers as c\n",
    "                ON c.customer_id = o.customer_id\n",
    "                JOIN order_details AS od\n",
    "                ON o.order_id = od.order_id\n",
    "                JOIN products AS p\n",
    "                ON od.product_id = p.product_id\n",
    "                WHERE p.product_name = 'Chai' AND od.quantity > 30\n",
    "            '''\n",
    "\n",
    "df_clientes_chai_masde30u = ejecutar_query(sql_query)\n",
    "df_clientes_chai_masde30u\n",
    "\n",
    "# 9 clientes han realizado pedidos de más de 30 unidades de Chai"
   ]
  },
  {
   "cell_type": "code",
   "execution_count": 253,
   "metadata": {},
   "outputs": [
    {
     "data": {
      "text/html": [
       "<div>\n",
       "<style scoped>\n",
       "    .dataframe tbody tr th:only-of-type {\n",
       "        vertical-align: middle;\n",
       "    }\n",
       "\n",
       "    .dataframe tbody tr th {\n",
       "        vertical-align: top;\n",
       "    }\n",
       "\n",
       "    .dataframe thead th {\n",
       "        text-align: right;\n",
       "    }\n",
       "</style>\n",
       "<table border=\"1\" class=\"dataframe\">\n",
       "  <thead>\n",
       "    <tr style=\"text-align: right;\">\n",
       "      <th></th>\n",
       "      <th>company_name</th>\n",
       "      <th>total_price</th>\n",
       "    </tr>\n",
       "  </thead>\n",
       "  <tbody>\n",
       "    <tr>\n",
       "      <th>0</th>\n",
       "      <td>QUICK-Stop</td>\n",
       "      <td>110277.0</td>\n",
       "    </tr>\n",
       "    <tr>\n",
       "      <th>1</th>\n",
       "      <td>Ernst Handel</td>\n",
       "      <td>104875.0</td>\n",
       "    </tr>\n",
       "    <tr>\n",
       "      <th>2</th>\n",
       "      <td>Save-a-lot Markets</td>\n",
       "      <td>104362.0</td>\n",
       "    </tr>\n",
       "    <tr>\n",
       "      <th>3</th>\n",
       "      <td>Rattlesnake Canyon Grocery</td>\n",
       "      <td>51098.0</td>\n",
       "    </tr>\n",
       "    <tr>\n",
       "      <th>4</th>\n",
       "      <td>Hungry Owl All-Night Grocers</td>\n",
       "      <td>49980.0</td>\n",
       "    </tr>\n",
       "    <tr>\n",
       "      <th>...</th>\n",
       "      <td>...</td>\n",
       "      <td>...</td>\n",
       "    </tr>\n",
       "    <tr>\n",
       "      <th>79</th>\n",
       "      <td>Franchi S.p.A.</td>\n",
       "      <td>1546.0</td>\n",
       "    </tr>\n",
       "    <tr>\n",
       "      <th>80</th>\n",
       "      <td>GROSELLA-Restaurante</td>\n",
       "      <td>1489.0</td>\n",
       "    </tr>\n",
       "    <tr>\n",
       "      <th>81</th>\n",
       "      <td>Vins et alcools Chevalier</td>\n",
       "      <td>1480.0</td>\n",
       "    </tr>\n",
       "    <tr>\n",
       "      <th>82</th>\n",
       "      <td>Romero y tomillo</td>\n",
       "      <td>1467.0</td>\n",
       "    </tr>\n",
       "    <tr>\n",
       "      <th>83</th>\n",
       "      <td>Ana Trujillo Emparedados y helados</td>\n",
       "      <td>1403.0</td>\n",
       "    </tr>\n",
       "  </tbody>\n",
       "</table>\n",
       "<p>84 rows × 2 columns</p>\n",
       "</div>"
      ],
      "text/plain": [
       "                          company_name  total_price\n",
       "0                           QUICK-Stop     110277.0\n",
       "1                         Ernst Handel     104875.0\n",
       "2                   Save-a-lot Markets     104362.0\n",
       "3           Rattlesnake Canyon Grocery      51098.0\n",
       "4         Hungry Owl All-Night Grocers      49980.0\n",
       "..                                 ...          ...\n",
       "79                      Franchi S.p.A.       1546.0\n",
       "80                GROSELLA-Restaurante       1489.0\n",
       "81           Vins et alcools Chevalier       1480.0\n",
       "82                    Romero y tomillo       1467.0\n",
       "83  Ana Trujillo Emparedados y helados       1403.0\n",
       "\n",
       "[84 rows x 2 columns]"
      ]
     },
     "execution_count": 253,
     "metadata": {},
     "output_type": "execute_result"
    }
   ],
   "source": [
    "# 6. Indica los clientes cuya suma total de carga en los pedidos sea mayor de 1000\n",
    "\n",
    "sql_query = ''' SELECT  c.company_name, \n",
    "                ROUND(SUM(od.quantity * od.unit_price * (1 - od.discount))) as total_price\n",
    "                FROM orders AS o\n",
    "                JOIN customers as c\n",
    "                ON c.customer_id = o.customer_id\n",
    "                JOIN order_details AS od\n",
    "                ON o.order_id = od.order_id\n",
    "                GROUP BY c.company_name\n",
    "                HAVING SUM(od.quantity * od.unit_price * (1 - od.discount)) > 1000\n",
    "                ORDER BY total_price DESC\n",
    "            '''\n",
    "\n",
    "df_clientes_sumapedidos_masde1000 = ejecutar_query(sql_query)\n",
    "df_clientes_sumapedidos_masde1000\n",
    "\n",
    "# practicamente todos los clientes acumulan unas compras > 1000. Unicamente 5 clientes no la cumplen"
   ]
  },
  {
   "cell_type": "code",
   "execution_count": 254,
   "metadata": {},
   "outputs": [
    {
     "data": {
      "text/html": [
       "<div>\n",
       "<style scoped>\n",
       "    .dataframe tbody tr th:only-of-type {\n",
       "        vertical-align: middle;\n",
       "    }\n",
       "\n",
       "    .dataframe tbody tr th {\n",
       "        vertical-align: top;\n",
       "    }\n",
       "\n",
       "    .dataframe thead th {\n",
       "        text-align: right;\n",
       "    }\n",
       "</style>\n",
       "<table border=\"1\" class=\"dataframe\">\n",
       "  <thead>\n",
       "    <tr style=\"text-align: right;\">\n",
       "      <th></th>\n",
       "      <th>company_name</th>\n",
       "      <th>total_price</th>\n",
       "    </tr>\n",
       "  </thead>\n",
       "  <tbody>\n",
       "    <tr>\n",
       "      <th>0</th>\n",
       "      <td>Galería del gastrónomo</td>\n",
       "      <td>837.0</td>\n",
       "    </tr>\n",
       "    <tr>\n",
       "      <th>1</th>\n",
       "      <td>North/South</td>\n",
       "      <td>649.0</td>\n",
       "    </tr>\n",
       "    <tr>\n",
       "      <th>2</th>\n",
       "      <td>Laughing Bacchus Wine Cellars</td>\n",
       "      <td>522.0</td>\n",
       "    </tr>\n",
       "    <tr>\n",
       "      <th>3</th>\n",
       "      <td>Lazy K Kountry Store</td>\n",
       "      <td>357.0</td>\n",
       "    </tr>\n",
       "    <tr>\n",
       "      <th>4</th>\n",
       "      <td>Centro comercial Moctezuma</td>\n",
       "      <td>101.0</td>\n",
       "    </tr>\n",
       "  </tbody>\n",
       "</table>\n",
       "</div>"
      ],
      "text/plain": [
       "                    company_name  total_price\n",
       "0         Galería del gastrónomo        837.0\n",
       "1                    North/South        649.0\n",
       "2  Laughing Bacchus Wine Cellars        522.0\n",
       "3           Lazy K Kountry Store        357.0\n",
       "4     Centro comercial Moctezuma        101.0"
      ]
     },
     "execution_count": 254,
     "metadata": {},
     "output_type": "execute_result"
    }
   ],
   "source": [
    "sql_query = ''' SELECT  c.company_name, \n",
    "                ROUND(SUM(od.quantity * od.unit_price * (1 - od.discount))) as total_price\n",
    "                FROM orders AS o\n",
    "                JOIN customers as c\n",
    "                ON c.customer_id = o.customer_id\n",
    "                JOIN order_details AS od\n",
    "                ON o.order_id = od.order_id\n",
    "                GROUP BY c.company_name\n",
    "                HAVING SUM(od.quantity * od.unit_price * (1 - od.discount)) <= 1000\n",
    "                ORDER BY total_price DESC\n",
    "            '''\n",
    "\n",
    "df_clientes_no_sumapedidos_masde1000 = ejecutar_query(sql_query)\n",
    "df_clientes_no_sumapedidos_masde1000"
   ]
  },
  {
   "cell_type": "code",
   "execution_count": 255,
   "metadata": {},
   "outputs": [
    {
     "data": {
      "text/html": [
       "<div>\n",
       "<style scoped>\n",
       "    .dataframe tbody tr th:only-of-type {\n",
       "        vertical-align: middle;\n",
       "    }\n",
       "\n",
       "    .dataframe tbody tr th {\n",
       "        vertical-align: top;\n",
       "    }\n",
       "\n",
       "    .dataframe thead th {\n",
       "        text-align: right;\n",
       "    }\n",
       "</style>\n",
       "<table border=\"1\" class=\"dataframe\">\n",
       "  <thead>\n",
       "    <tr style=\"text-align: right;\">\n",
       "      <th></th>\n",
       "      <th>city</th>\n",
       "      <th>total_employees</th>\n",
       "    </tr>\n",
       "  </thead>\n",
       "  <tbody>\n",
       "    <tr>\n",
       "      <th>0</th>\n",
       "      <td>London</td>\n",
       "      <td>4</td>\n",
       "    </tr>\n",
       "  </tbody>\n",
       "</table>\n",
       "</div>"
      ],
      "text/plain": [
       "     city  total_employees\n",
       "0  London                4"
      ]
     },
     "execution_count": 255,
     "metadata": {},
     "output_type": "execute_result"
    }
   ],
   "source": [
    "# 7. Nombres de las ciudades con 3 o más empleadas de cara a estudiar la apertura de nuevas oficinas\n",
    "\n",
    "sql_query = ''' SELECT city, count(employee_id) AS total_employees\n",
    "                FROM employees\n",
    "                GROUP BY city\n",
    "                HAVING count(employee_id) > 3\n",
    "            '''\n",
    "\n",
    "df_ciudades_masde3_empleados = ejecutar_query(sql_query)\n",
    "df_ciudades_masde3_empleados\n",
    "\n",
    "# Se determina que únicamente para la ciudad de Londres sería necesario abrir nueva oficinas"
   ]
  }
 ],
 "metadata": {
  "kernelspec": {
   "display_name": "Python 3",
   "language": "python",
   "name": "python3"
  },
  "language_info": {
   "codemirror_mode": {
    "name": "ipython",
    "version": 3
   },
   "file_extension": ".py",
   "mimetype": "text/x-python",
   "name": "python",
   "nbconvert_exporter": "python",
   "pygments_lexer": "ipython3",
   "version": "3.12.3"
  }
 },
 "nbformat": 4,
 "nbformat_minor": 2
}
